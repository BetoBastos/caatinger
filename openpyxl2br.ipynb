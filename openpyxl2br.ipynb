{
  "nbformat": 4,
  "nbformat_minor": 0,
  "metadata": {
    "colab": {
      "name": "openpyxl2br.ipynb",
      "provenance": [],
      "include_colab_link": true
    },
    "kernelspec": {
      "name": "python3",
      "display_name": "Python 3"
    }
  },
  "cells": [
    {
      "cell_type": "markdown",
      "metadata": {
        "id": "view-in-github",
        "colab_type": "text"
      },
      "source": [
        "<a href=\"https://colab.research.google.com/github/BetoBastos/caatinger/blob/master/openpyxl2br.ipynb\" target=\"_parent\"><img src=\"https://colab.research.google.com/assets/colab-badge.svg\" alt=\"Open In Colab\"/></a>"
      ]
    },
    {
      "cell_type": "code",
      "metadata": {
        "id": "rIyzmkfTBR7V"
      },
      "source": [
        "#Importando os modulos que serao utilizados\n",
        "import openpyxl #trabalha apenas com arquivos excel 2007 (.xlsx)\n",
        "import os #dados do sistem (OS: Operational System)"
      ],
      "execution_count": 1,
      "outputs": []
    },
    {
      "cell_type": "code",
      "metadata": {
        "id": "wv8ZNp3iBX9O"
      },
      "source": [
        "os.getcwd()#exibe onde planilha serah criada\n",
        "#Criar arquivo e planilha\n",
        "wb = openpyxl.Workbook()#cria arquivo\n",
        "ws = wb.create_sheet(\"sired\", 0) # cria planilha no inicio da pasta"
      ],
      "execution_count": 2,
      "outputs": []
    },
    {
      "cell_type": "code",
      "metadata": {
        "id": "215l0Bw-O2Zx"
      },
      "source": [
        "#Preenche cabecalho da planilha criada\n",
        "ws[\"A1\"]=\"movimento\"\n",
        "ws[\"B1\"]=\"lot/tf\"\n",
        "ws[\"C1\"]=\"codigo\"\n",
        "ws[\"D1\"]=\"g1\"\n",
        "ws[\"E1\"]=\"g2\"\n",
        "ws[\"F1\"]=\"g3\""
      ],
      "execution_count": 3,
      "outputs": []
    },
    {
      "cell_type": "code",
      "metadata": {
        "colab": {
          "base_uri": "https://localhost:8080/"
        },
        "id": "BYOl93cvPbVO",
        "outputId": "5cc242b5-1d0d-4e5e-c0d2-c8ea83662d02"
      },
      "source": [
        "#negrita cabecalhos\n",
        "for row in ws.iter_rows(min_row=1):\n",
        "  for cell in row:\n",
        "    cell.font=openpyxl.styles.Font(name='Arial',bold=True,size=12)\n",
        "    print(f\"col {cell.col_idx}：{cell.value}\")\n",
        "    print('------------------------------------------')\n",
        "\n"
      ],
      "execution_count": 4,
      "outputs": [
        {
          "output_type": "stream",
          "text": [
            "col 1：movimento\n",
            "------------------------------------------\n",
            "col 2：lot/tf\n",
            "------------------------------------------\n",
            "col 3：codigo\n",
            "------------------------------------------\n",
            "col 4：g1\n",
            "------------------------------------------\n",
            "col 5：g2\n",
            "------------------------------------------\n",
            "col 6：g3\n",
            "------------------------------------------\n"
          ],
          "name": "stdout"
        }
      ]
    },
    {
      "cell_type": "code",
      "metadata": {
        "id": "3EsLbijDlGll"
      },
      "source": [
        "#Salva arquivo criado\n",
        "wb.save('movimento.xlsx')"
      ],
      "execution_count": 5,
      "outputs": []
    },
    {
      "cell_type": "code",
      "metadata": {
        "id": "ftzsqxjxCfAc"
      },
      "source": [
        "#Apos preenchimento da planilha"
      ],
      "execution_count": null,
      "outputs": []
    },
    {
      "cell_type": "code",
      "metadata": {
        "colab": {
          "base_uri": "https://localhost:8080/"
        },
        "id": "jgnGlQokmRfc",
        "outputId": "bf7554e2-cc19-495b-dfcc-90ea18887a4e"
      },
      "source": [
        "#Abre arquivo. data_only permite obter valores de celulas\n",
        "wb2 = openpyxl.load_workbook('movimento.xlsx',data_only=True)\n",
        "print(wb2.sheetnames)#exibe planilhas do arquivo/pasta"
      ],
      "execution_count": 6,
      "outputs": [
        {
          "output_type": "stream",
          "text": [
            "['sired', 'Sheet']\n"
          ],
          "name": "stdout"
        }
      ]
    },
    {
      "cell_type": "code",
      "metadata": {
        "colab": {
          "base_uri": "https://localhost:8080/"
        },
        "id": "EfkHMDArtawt",
        "outputId": "d355b0b2-3e47-4694-8091-3acd266136e4"
      },
      "source": [
        "sh=wb2[\"sired\"]#planilha com dados\n",
        "lin_i=2#linha onde comeca dados da planilha\n",
        "u_lin=sh.max_row+1#ultima linha com dados (acrescido +1 para for loop)\n",
        "print(lin_i,u_lin)"
      ],
      "execution_count": 7,
      "outputs": [
        {
          "output_type": "stream",
          "text": [
            "2 7\n"
          ],
          "name": "stdout"
        }
      ]
    },
    {
      "cell_type": "code",
      "metadata": {
        "id": "ZZmLPcgJo_fH",
        "colab": {
          "base_uri": "https://localhost:8080/"
        },
        "outputId": "64b0a216-4d90-4712-eeb4-558eb468d98e"
      },
      "source": [
        "#checar estrutura da planilha antes de fazer a iteracao\n",
        "for lin in range(lin_i,u_lin):\n",
        "  mov_p=sh.cell(row=lin,column=1).value\n",
        "  lot_tf_p=sh.cell(row=lin,column=2).value\n",
        "  cod_p=sh.cell(row=lin,column=3).value\n",
        "  g1_p=sh.cell(row=lin,column=4).value\n",
        "  g2_p=sh.cell(row=lin,column=5).value\n",
        "  g3_p=sh.cell(row=lin,column=6).value\n",
        "  print(mov_p,\"\\t\",lot_tf_p,\"\\t\",cod_p,\"\\t\",g1_p,\"\\t\",g2_p,\"\\t\",g3_p,\"\\n\")"
      ],
      "execution_count": 8,
      "outputs": [
        {
          "output_type": "stream",
          "text": [
            "29/10/2020 \t tf \t 1001 \t 2 \t 3 \t 4 \n",
            "\n",
            "29/10/2020 \t tf \t 1002 \t 2 \t 3 \t 4 \n",
            "\n",
            "29/10/2020 \t tf \t 1003 \t 2 \t 3 \t 4 \n",
            "\n",
            "30/10/2020 \t lot \t 1002 \t 2 \t 3 \t 4 \n",
            "\n",
            "30/10/2020 \t lot \t 1003 \t 2 \t 3 \t 4 \n",
            "\n"
          ],
          "name": "stdout"
        }
      ]
    },
    {
      "cell_type": "code",
      "metadata": {
        "colab": {
          "base_uri": "https://localhost:8080/"
        },
        "id": "kiUei_ovqnKP",
        "outputId": "5d58c20e-9ed1-4e1f-ddf2-f6c9e9e2051e"
      },
      "source": [
        "#Laco para percorrer planilha\n",
        "for lin in range(lin_i,u_lin):\n",
        "  #Bloco planilha\n",
        "  mov=sh.cell(row=lin,column=1).value\n",
        "  lot_tf=sh.cell(row=lin,column=2).value\n",
        "  cod=sh.cell(row=lin,column=3).value\n",
        "  g1=sh.cell(row=lin,column=4).value\n",
        "  g2=sh.cell(row=lin,column=5).value\n",
        "  g3=sh.cell(row=lin,column=6).value\n",
        "  #Bloco de interacao com o site\n",
        "  #\n",
        "  #Teste com linha seguinte\n",
        "  prox=sh.cell(row=lin+1,column=1).value\n",
        "  #print(prox_lin)\n",
        "  if prox == mov:\n",
        "    print(prox)\n",
        "    continue#ha mais de um registro para a mesma data\n",
        "  else:#nao ha mais registro para data\n",
        "      print(\"clicou em gravar\")\n",
        "      #clica botao gravar\n",
        "      #aguarda browser 5 segundos"
      ],
      "execution_count": 9,
      "outputs": [
        {
          "output_type": "stream",
          "text": [
            "29/10/2020\n",
            "29/10/2020\n",
            "clicou em gravar\n",
            "30/10/2020\n",
            "clicou em gravar\n"
          ],
          "name": "stdout"
        }
      ]
    },
    {
      "cell_type": "code",
      "metadata": {
        "id": "Hm6RPtYQE_4I"
      },
      "source": [
        ""
      ],
      "execution_count": null,
      "outputs": []
    }
  ]
}