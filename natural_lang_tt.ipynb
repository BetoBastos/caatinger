{
  "nbformat": 4,
  "nbformat_minor": 0,
  "metadata": {
    "colab": {
      "name": "Teste_no_colab.ipynb",
      "version": "0.3.2",
      "provenance": [],
      "include_colab_link": true
    },
    "kernelspec": {
      "name": "python3",
      "display_name": "Python 3"
    }
  },
  "cells": [
    {
      "cell_type": "markdown",
      "metadata": {
        "id": "view-in-github",
        "colab_type": "text"
      },
      "source": [
        "<a href=\"https://colab.research.google.com/github/BetoBastos/caatinger/blob/master/natural_lang_tt.ipynb\" target=\"_parent\"><img src=\"https://colab.research.google.com/assets/colab-badge.svg\" alt=\"Open In Colab\"/></a>"
      ]
    },
    {
      "cell_type": "code",
      "metadata": {
        "id": "rIyzmkfTBR7V",
        "colab_type": "code",
        "colab": {}
      },
      "source": [
        "#help(\"nltk\")"
      ],
      "execution_count": 0,
      "outputs": []
    },
    {
      "cell_type": "code",
      "metadata": {
        "id": "wv8ZNp3iBX9O",
        "colab_type": "code",
        "colab": {}
      },
      "source": [
        "import nltk"
      ],
      "execution_count": 0,
      "outputs": []
    },
    {
      "cell_type": "code",
      "metadata": {
        "id": "qwyyOcRGDiTj",
        "colab_type": "code",
        "colab": {
          "base_uri": "https://localhost:8080/",
          "height": 54
        },
        "outputId": "7d930311-0973-48a5-8d0c-467e206c4acb"
      },
      "source": [
        "nltk.download(\"machado\")"
      ],
      "execution_count": 9,
      "outputs": [
        {
          "output_type": "stream",
          "text": [
            "[nltk_data] Downloading package machado to /root/nltk_data...\n"
          ],
          "name": "stdout"
        },
        {
          "output_type": "execute_result",
          "data": {
            "text/plain": [
              "True"
            ]
          },
          "metadata": {
            "tags": []
          },
          "execution_count": 9
        }
      ]
    },
    {
      "cell_type": "code",
      "metadata": {
        "id": "lvvmUavTXAAe",
        "colab_type": "code",
        "colab": {
          "base_uri": "https://localhost:8080/",
          "height": 72
        },
        "outputId": "60abfb5f-9936-4f24-b577-f7c3cb7ed718"
      },
      "source": [
        "nltk.download(\"mac_morpho\")"
      ],
      "execution_count": 147,
      "outputs": [
        {
          "output_type": "stream",
          "text": [
            "[nltk_data] Downloading package mac_morpho to /root/nltk_data...\n",
            "[nltk_data]   Unzipping corpora/mac_morpho.zip.\n"
          ],
          "name": "stdout"
        },
        {
          "output_type": "execute_result",
          "data": {
            "text/plain": [
              "True"
            ]
          },
          "metadata": {
            "tags": []
          },
          "execution_count": 147
        }
      ]
    },
    {
      "cell_type": "code",
      "metadata": {
        "id": "SlAuq2Pj4k7Z",
        "colab_type": "code",
        "colab": {
          "base_uri": "https://localhost:8080/",
          "height": 72
        },
        "outputId": "79604213-35b3-4df4-e752-1fab041441b4"
      },
      "source": [
        "nltk.download(\"stopwords\")"
      ],
      "execution_count": 32,
      "outputs": [
        {
          "output_type": "stream",
          "text": [
            "[nltk_data] Downloading package stopwords to /root/nltk_data...\n",
            "[nltk_data]   Unzipping corpora/stopwords.zip.\n"
          ],
          "name": "stdout"
        },
        {
          "output_type": "execute_result",
          "data": {
            "text/plain": [
              "True"
            ]
          },
          "metadata": {
            "tags": []
          },
          "execution_count": 32
        }
      ]
    },
    {
      "cell_type": "code",
      "metadata": {
        "id": "JTG6nRgou2XJ",
        "colab_type": "code",
        "colab": {}
      },
      "source": [
        "from __future__ import print_function, unicode_literals\n",
        "\n",
        "from nltk.corpus import machado, mac_morpho, floresta, genesis\n",
        "from nltk.text import Text\n",
        "from nltk.probability import FreqDist\n",
        "from nltk import ngrams\n",
        "from nltk.util import bigrams\n",
        "from nltk.misc import babelize_shell"
      ],
      "execution_count": 0,
      "outputs": []
    },
    {
      "cell_type": "code",
      "metadata": {
        "id": "8oKyyiiZSOVG",
        "colab_type": "code",
        "colab": {
          "base_uri": "https://localhost:8080/",
          "height": 1000
        },
        "outputId": "020e31a3-8f1b-4caa-cd9e-d43c86c51df5"
      },
      "source": [
        "machado.fileids()"
      ],
      "execution_count": 126,
      "outputs": [
        {
          "output_type": "execute_result",
          "data": {
            "text/plain": [
              "['contos/macn001.txt',\n",
              " 'contos/macn002.txt',\n",
              " 'contos/macn003.txt',\n",
              " 'contos/macn004.txt',\n",
              " 'contos/macn005.txt',\n",
              " 'contos/macn006.txt',\n",
              " 'contos/macn007.txt',\n",
              " 'contos/macn008.txt',\n",
              " 'contos/macn009.txt',\n",
              " 'contos/macn010.txt',\n",
              " 'contos/macn011.txt',\n",
              " 'contos/macn012.txt',\n",
              " 'contos/macn013.txt',\n",
              " 'contos/macn014.txt',\n",
              " 'contos/macn015.txt',\n",
              " 'contos/macn016.txt',\n",
              " 'contos/macn017.txt',\n",
              " 'contos/macn018.txt',\n",
              " 'contos/macn019.txt',\n",
              " 'contos/macn020.txt',\n",
              " 'contos/macn021.txt',\n",
              " 'contos/macn022.txt',\n",
              " 'contos/macn023.txt',\n",
              " 'contos/macn024.txt',\n",
              " 'contos/macn025.txt',\n",
              " 'contos/macn026.txt',\n",
              " 'contos/macn027.txt',\n",
              " 'contos/macn028.txt',\n",
              " 'contos/macn029.txt',\n",
              " 'contos/macn030.txt',\n",
              " 'contos/macn031.txt',\n",
              " 'contos/macn032.txt',\n",
              " 'contos/macn033.txt',\n",
              " 'contos/macn034.txt',\n",
              " 'contos/macn035.txt',\n",
              " 'contos/macn036.txt',\n",
              " 'contos/macn037.txt',\n",
              " 'contos/macn038.txt',\n",
              " 'contos/macn039.txt',\n",
              " 'contos/macn040.txt',\n",
              " 'contos/macn041.txt',\n",
              " 'contos/macn042.txt',\n",
              " 'contos/macn043.txt',\n",
              " 'contos/macn044.txt',\n",
              " 'contos/macn045.txt',\n",
              " 'contos/macn046.txt',\n",
              " 'contos/macn047.txt',\n",
              " 'contos/macn048.txt',\n",
              " 'contos/macn049.txt',\n",
              " 'contos/macn050.txt',\n",
              " 'contos/macn051.txt',\n",
              " 'contos/macn052.txt',\n",
              " 'contos/macn053.txt',\n",
              " 'contos/macn054.txt',\n",
              " 'contos/macn055.txt',\n",
              " 'contos/macn056.txt',\n",
              " 'contos/macn057.txt',\n",
              " 'contos/macn058.txt',\n",
              " 'contos/macn059.txt',\n",
              " 'contos/macn060.txt',\n",
              " 'contos/macn061.txt',\n",
              " 'contos/macn062.txt',\n",
              " 'contos/macn063.txt',\n",
              " 'contos/macn064.txt',\n",
              " 'contos/macn065.txt',\n",
              " 'contos/macn066.txt',\n",
              " 'contos/macn067.txt',\n",
              " 'contos/macn068.txt',\n",
              " 'contos/macn069.txt',\n",
              " 'contos/macn070.txt',\n",
              " 'contos/macn071.txt',\n",
              " 'contos/macn072.txt',\n",
              " 'contos/macn073.txt',\n",
              " 'contos/macn074.txt',\n",
              " 'contos/macn075.txt',\n",
              " 'contos/macn076.txt',\n",
              " 'contos/macn077.txt',\n",
              " 'contos/macn078.txt',\n",
              " 'contos/macn079.txt',\n",
              " 'contos/macn080.txt',\n",
              " 'contos/macn081.txt',\n",
              " 'contos/macn082.txt',\n",
              " 'contos/macn083.txt',\n",
              " 'contos/macn084.txt',\n",
              " 'contos/macn085.txt',\n",
              " 'contos/macn086.txt',\n",
              " 'contos/macn087.txt',\n",
              " 'contos/macn088.txt',\n",
              " 'contos/macn089.txt',\n",
              " 'contos/macn090.txt',\n",
              " 'contos/macn091.txt',\n",
              " 'contos/macn092.txt',\n",
              " 'contos/macn093.txt',\n",
              " 'contos/macn094.txt',\n",
              " 'contos/macn095.txt',\n",
              " 'contos/macn096.txt',\n",
              " 'contos/macn097.txt',\n",
              " 'contos/macn098.txt',\n",
              " 'contos/macn099.txt',\n",
              " 'contos/macn100.txt',\n",
              " 'contos/macn101.txt',\n",
              " 'contos/macn102.txt',\n",
              " 'contos/macn103.txt',\n",
              " 'contos/macn104.txt',\n",
              " 'contos/macn105.txt',\n",
              " 'contos/macn106.txt',\n",
              " 'contos/macn107.txt',\n",
              " 'contos/macn108.txt',\n",
              " 'contos/macn109.txt',\n",
              " 'contos/macn110.txt',\n",
              " 'contos/macn111.txt',\n",
              " 'contos/macn112.txt',\n",
              " 'contos/macn113.txt',\n",
              " 'contos/macn114.txt',\n",
              " 'contos/macn115.txt',\n",
              " 'contos/macn116.txt',\n",
              " 'contos/macn117.txt',\n",
              " 'contos/macn118.txt',\n",
              " 'contos/macn119.txt',\n",
              " 'contos/macn120.txt',\n",
              " 'contos/macn121.txt',\n",
              " 'contos/macn122.txt',\n",
              " 'contos/macn123.txt',\n",
              " 'contos/macn124.txt',\n",
              " 'contos/macn125.txt',\n",
              " 'contos/macn126.txt',\n",
              " 'contos/macn127.txt',\n",
              " 'contos/macn128.txt',\n",
              " 'contos/macn129.txt',\n",
              " 'contos/macn130.txt',\n",
              " 'contos/macn131.txt',\n",
              " 'contos/macn132.txt',\n",
              " 'contos/macn133.txt',\n",
              " 'contos/macn134.txt',\n",
              " 'contos/macn135.txt',\n",
              " 'contos/macn136.txt',\n",
              " 'contos/macn137.txt',\n",
              " 'critica/mact01.txt',\n",
              " 'critica/mact02.txt',\n",
              " 'critica/mact03.txt',\n",
              " 'critica/mact04.txt',\n",
              " 'critica/mact05.txt',\n",
              " 'critica/mact06.txt',\n",
              " 'critica/mact07.txt',\n",
              " 'critica/mact08.txt',\n",
              " 'critica/mact09.txt',\n",
              " 'critica/mact10.txt',\n",
              " 'critica/mact11.txt',\n",
              " 'critica/mact12.txt',\n",
              " 'critica/mact13.txt',\n",
              " 'critica/mact14.txt',\n",
              " 'critica/mact15.txt',\n",
              " 'critica/mact16.txt',\n",
              " 'critica/mact17.txt',\n",
              " 'critica/mact18.txt',\n",
              " 'critica/mact19.txt',\n",
              " 'critica/mact20.txt',\n",
              " 'critica/mact21.txt',\n",
              " 'critica/mact22.txt',\n",
              " 'critica/mact23.txt',\n",
              " 'critica/mact24.txt',\n",
              " 'critica/mact25.txt',\n",
              " 'critica/mact26.txt',\n",
              " 'critica/mact27.txt',\n",
              " 'critica/mact28.txt',\n",
              " 'critica/mact29.txt',\n",
              " 'critica/mact30.txt',\n",
              " 'critica/mact31.txt',\n",
              " 'critica/mact32.txt',\n",
              " 'critica/mact33.txt',\n",
              " 'critica/mact34.txt',\n",
              " 'critica/mact35.txt',\n",
              " 'critica/mact36.txt',\n",
              " 'critica/mact37.txt',\n",
              " 'critica/mact38.txt',\n",
              " 'critica/mact39.txt',\n",
              " 'critica/mact40.txt',\n",
              " 'critica/mact41.txt',\n",
              " 'critica/mact42.txt',\n",
              " 'critica/mact43.txt',\n",
              " 'critica/mact44.txt',\n",
              " 'critica/mact45.txt',\n",
              " 'cronica/macr01.txt',\n",
              " 'cronica/macr02.txt',\n",
              " 'cronica/macr03.txt',\n",
              " 'cronica/macr04.txt',\n",
              " 'cronica/macr05.txt',\n",
              " 'cronica/macr06.txt',\n",
              " 'cronica/macr07.txt',\n",
              " 'cronica/macr08.txt',\n",
              " 'cronica/macr09.txt',\n",
              " 'cronica/macr10.txt',\n",
              " 'cronica/macr11.txt',\n",
              " 'cronica/macr12.txt',\n",
              " 'cronica/macr13.txt',\n",
              " 'cronica/macr14.txt',\n",
              " 'cronica/macr15.txt',\n",
              " 'cronica/macr16.txt',\n",
              " 'cronica/macr17.txt',\n",
              " 'cronica/macr18.txt',\n",
              " 'cronica/macr19.txt',\n",
              " 'cronica/macr20.txt',\n",
              " 'cronica/macr21.txt',\n",
              " 'cronica/macr22.txt',\n",
              " 'cronica/macr23.txt',\n",
              " 'cronica/macr24.txt',\n",
              " 'miscelanea/mams01.txt',\n",
              " 'miscelanea/mams02.txt',\n",
              " 'miscelanea/mams03.txt',\n",
              " 'miscelanea/mams04.txt',\n",
              " 'miscelanea/mams05.txt',\n",
              " 'miscelanea/mams06.txt',\n",
              " 'miscelanea/mams07.txt',\n",
              " 'miscelanea/mams08.txt',\n",
              " 'miscelanea/mams09.txt',\n",
              " 'miscelanea/mams10.txt',\n",
              " 'poesia/maps01.txt',\n",
              " 'poesia/maps02.txt',\n",
              " 'poesia/maps03.txt',\n",
              " 'poesia/maps04.txt',\n",
              " 'poesia/maps05.txt',\n",
              " 'poesia/maps06.txt',\n",
              " 'poesia/maps07.txt',\n",
              " 'romance/marm01.txt',\n",
              " 'romance/marm02.txt',\n",
              " 'romance/marm03.txt',\n",
              " 'romance/marm04.txt',\n",
              " 'romance/marm05.txt',\n",
              " 'romance/marm06.txt',\n",
              " 'romance/marm07.txt',\n",
              " 'romance/marm08.txt',\n",
              " 'romance/marm09.txt',\n",
              " 'romance/marm10.txt',\n",
              " 'teatro/matt01.txt',\n",
              " 'teatro/matt02.txt',\n",
              " 'teatro/matt03.txt',\n",
              " 'teatro/matt04.txt',\n",
              " 'teatro/matt05.txt',\n",
              " 'teatro/matt06.txt',\n",
              " 'teatro/matt07.txt',\n",
              " 'teatro/matt08.txt',\n",
              " 'teatro/matt09.txt',\n",
              " 'teatro/matt10.txt',\n",
              " 'traducao/matr01.txt',\n",
              " 'traducao/matr02.txt',\n",
              " 'traducao/matr03.txt']"
            ]
          },
          "metadata": {
            "tags": []
          },
          "execution_count": 126
        }
      ]
    },
    {
      "cell_type": "code",
      "metadata": {
        "id": "z8Zd3XKDSh1l",
        "colab_type": "code",
        "colab": {
          "base_uri": "https://localhost:8080/",
          "height": 35
        },
        "outputId": "65ba5770-7bad-4bd4-92e3-7ed9c97edd39"
      },
      "source": [
        "##Corpus do Machado tem 246 arquivos txt\n",
        "len(machado.fileids())"
      ],
      "execution_count": 127,
      "outputs": [
        {
          "output_type": "execute_result",
          "data": {
            "text/plain": [
              "246"
            ]
          },
          "metadata": {
            "tags": []
          },
          "execution_count": 127
        }
      ]
    },
    {
      "cell_type": "code",
      "metadata": {
        "id": "R1ai5N_1S4YG",
        "colab_type": "code",
        "colab": {
          "base_uri": "https://localhost:8080/",
          "height": 1000
        },
        "outputId": "d701b62a-0734-465d-9526-5f33a5551af6"
      },
      "source": [
        "##O README apresenta a relacao de arquivos com suas respectivas obras\n",
        "print(machado.readme())"
      ],
      "execution_count": 129,
      "outputs": [
        {
          "output_type": "stream",
          "text": [
            "Machado de Assis -- Obra Completa\n",
            "\n",
            "http://machado.mec.gov.br/\n",
            "\n",
            "Public Domain\n",
            "\n",
            "Contents:\n",
            "\n",
            "Romance\n",
            "\n",
            "romance/marm01.txt: Ressurreição (1872)\n",
            "romance/marm02.txt: A Mão e a Luva (1874)\n",
            "romance/marm03.txt: Helena (1876)\n",
            "romance/marm04.txt: Iaiá Garcia (1878)\n",
            "romance/marm05.txt: Memórias Póstumas de Brás Cubas (1881)\n",
            "romance/marm06.txt: Casa Velha (1885)\n",
            "romance/marm07.txt: Quincas Borba (1891)\n",
            "romance/marm08.txt: Dom Casmurro (1899)\n",
            "romance/marm09.txt: Esaú e Jacó (1904)\n",
            "romance/marm10.txt: Memorial de Aires (1908)\n",
            "\n",
            "Poesia\n",
            "\n",
            "poesia/maps01.txt: Crisálidas (1864)\n",
            "poesia/maps02.txt: Falenas (1870)\n",
            "poesia/maps03.txt: Americanas (1875)\n",
            "poesia/maps04.txt: Gazeta de Holanda (1886-88)\n",
            "poesia/maps05.txt: Ocidentais (1901)\n",
            "poesia/maps06.txt: O Almada (1908)\n",
            "poesia/maps07.txt: Dispersas (1854-1939)\n",
            "\n",
            "Contos\n",
            "\n",
            "contos/macn001.txt: Contos Fluminenses (1870); Miss Dollar; Luís Soares; A mulher de preto; O segredo de Augusta; Confissões de uma viúva moça; Linha reta e linha curva; Frei Sim\n",
            "contos/macn002.txt: Histórias da meia-noite (1873); A parasita azul; As bodas de Luís Duarte; Ernesto de Tal; Aurora sem dia; O relógio de ouro; Ponto de vista\n",
            "contos/macn003.txt: Papéis avulsos (1882); O alienista; Teoria do medalhão; A chinela turca; Na arca; D. Benedita; O segredo do bonzo; O anel de Polícrates; O empréstimo; A sereníssima república; O espelho; Uma visita de Alcibíades; Verba testamentária\n",
            "contos/macn004.txt: Histórias sem data (1884); A igreja do Diabo; O lapso; Último capítulo; Cantiga de esponsais; Singular ocorrência; Galeria póstuma; Capítulo dos chapéus; Conto alexandrino; Rimas de Sapucaia!; Uma senhora; Anedota pecuniária; Fulano; A segunda vida; Noite de almirante; Manuscrito de um sacristão; Ex cathedra; A senhora do Galvão; As academias de Sião\n",
            "contos/macn005.txt: Várias histórias (1896); A cartomante; Entre santos; Uns braços; Um homem célebre; A desejada das gentes; A causa secreta; Trio em lá menor; Adão e Eva; O enfermeiro; O diplomático; Mariana; Conto de escola; Um apólogo; D. Paula; Viver!; O cônego ou Metafísica do estilo\n",
            "contos/macn006.txt: Páginas recolhidas (1899); O caso da vara; O dicionário; Um erradio; Eterno!; Missa do galo; Idéias de canário; Lágrimas de Xerxes; Papéis velhos\n",
            "contos/macn007.txt: Relíquias de Casa Velha (1906); Pai contra mãe; Maria Cora; Marcha fúnebre; Um capitão de voluntários; Suje-se gordo!; Umas férias; Evolução; Pílades e Orestes; Anedota do cabriolet\n",
            "\n",
            "Traducao\n",
            "\n",
            "traducao/matr01.txt: Suplício de uma mulher (1865)\n",
            "traducao/matr02.txt: Os trabalhadores do mar (1866)\n",
            "traducao/matr03.txt: Oliver Twist (1870)\n",
            "\n",
            "Teatro\n",
            "\n",
            "teatro/matt01.txt: As forcas caudinas (1956)\n",
            "teatro/matt02.txt: Hoje avental, amanhã luva (1860)\n",
            "teatro/matt03.txt: Desencantos (1861)\n",
            "teatro/matt04.txt: O caminho da porta / O protocolo (1863)\n",
            "teatro/matt05.txt: Quase ministro (1864)\n",
            "teatro/matt06.txt: Os deuses de casaca (1866)\n",
            "teatro/matt07.txt: O bote de rapé (1878)\n",
            "teatro/matt08.txt: Tu, só tu, puro amor (1880)\n",
            "teatro/matt09.txt: Não consultes médico (1899)\n",
            "teatro/matt10.txt: Lição de botânica (1906)\n",
            "\n",
            "Cronica\n",
            "\n",
            "cronica/macr01.txt: Comentários da semana (1861-1863)\n",
            "cronica/macr02.txt: Crônicas do Dr. Semana (1861-1864)\n",
            "cronica/macr03.txt: Crônicas - O futuro (1862-1863)\n",
            "cronica/macr04.txt: Ao acaso (1864-1865)\n",
            "cronica/macr05.txt: Cartas fluminenses (1867)\n",
            "cronica/macr06.txt: Badaladas (1871-1873)\n",
            "cronica/macr07.txt: História de quinze dias (1876-1877)\n",
            "cronica/macr08.txt: História dos trinta dias (1878)\n",
            "cronica/macr09.txt: Notas semanais (1878)\n",
            "cronica/macr10.txt: Balas de estalo (1883-1886)\n",
            "cronica/macr11.txt: Bons dias! (1888-1889)\n",
            "cronica/macr12.txt: A semana (1892-1800)\n",
            "cronica/macr13.txt: O jornal e o livro (1859)\n",
            "cronica/macr14.txt: A reforma pelo jornal (1859)\n",
            "cronica/macr15.txt: Aquarelas (1859)\n",
            "cronica/macr16.txt: O Visconde de Castilho (1875)\n",
            "cronica/macr17.txt: Cherchez la femme (1881)\n",
            "cronica/macr18.txt: José de Alencar (1883)\n",
            "cronica/macr19.txt: Joaquim Serra (1888)\n",
            "cronica/macr20.txt: O futuro dos argentinos (1888)\n",
            "cronica/macr21.txt: Entre 1892 e 1894 (1892-1894)\n",
            "cronica/macr22.txt: Henrique Chaves (1893)\n",
            "cronica/macr23.txt: Henrique Lombaerts (1897)\n",
            "cronica/macr24.txt: O velho Senado (1898)\n",
            "critica/mact01.txt: O Passado, o presente e o futuro da literatura (1858)\n",
            "critica/mact02.txt: Idéias sobre o teatro (1859)\n",
            "critica/mact03.txt: Revista dos teatros (1859)\n",
            "critica/mact04.txt: Revista Dramática (1860)\n",
            "critica/mact05.txt: A Crítica teatral. José de Alencar: Mãe (1860)\n",
            "critica/mact06.txt: Crítica variada - Diário do RJ (1862)\n",
            "critica/mact07.txt: Flores e Frutos, de Bruno Seabra (1862)\n",
            "critica/mact08.txt: Pareceres - Conservatório Dramático (1862-1864)\n",
            "critica/mact09.txt: Homem de Mello e B. Pinheiro  A Constituinte perante a História e Sombras e Luz (1863)\n",
            "critica/mact10.txt: Peregrinação pela província de S. Paulo , por A. E. Zaluar (1863)\n",
            "critica/mact11.txt: Revelações , de A. E. Zaluar (1863)\n",
            "critica/mact12.txt: Dois folhetins. Suplício de uma mulher (1865)\n",
            "critica/mact13.txt: O Ideal do crítico (1865)\n",
            "critica/mact14.txt: Álvares de Azevedo: Lira dos vinte anos (1866)\n",
            "critica/mact15.txt: Crítica teatral (1866)\n",
            "critica/mact16.txt: Fagundes Varela  Cantos e fantasias (1866)\n",
            "critica/mact17.txt: J .M. de Macedo: O culto do dever (1866)\n",
            "critica/mact18.txt: José de Alencar: Iracema (1866)\n",
            "critica/mact19.txt: Junqueira Freire: Inspirações do claustro (1866)\n",
            "critica/mact20.txt: Porto Alegre: Colombo (1866)\n",
            "critica/mact21.txt: Propósito (1866)\n",
            "critica/mact22.txt: Castro Alves (1868)\n",
            "critica/mact23.txt: Lúcio de Mendonça: Névoas matutinas (1872)\n",
            "critica/mact24.txt: Un cuento endemoniado e La mujer misteriosa , de Guilherme Malta (1872)\n",
            "critica/mact25.txt: Notícia da atual literatura brasileira: Instinto de nacionalidade (1873)\n",
            "critica/mact26.txt: Fagundes Varela (1875)\n",
            "critica/mact27.txt: Eça de Queirós: O primo Basílio (1878)\n",
            "critica/mact28.txt: Francisco de Castro: Harmonias errantes (1878)\n",
            "critica/mact29.txt: A Nova geração (1879)\n",
            "critica/mact30.txt: Carlos Jansen: Contos seletos das mil e uma noites (1882)\n",
            "critica/mact31.txt: Raimundo Correia: Sinfonias (1882)\n",
            "critica/mact32.txt: Alberto de Oliveira: Meridionais (1884)\n",
            "critica/mact33.txt: Enéias Galvão: Miragens (1885)\n",
            "critica/mact34.txt: L. L. Fernandes Pinheiro Júnior: Tipos e quadros (1886)\n",
            "critica/mact35.txt: José de Alencar: O Guarani (1887)\n",
            "critica/mact36.txt: Henriqueta Renan (1896)\n",
            "critica/mact37.txt: Discursos na Academia Brasileira de Letras (1897)\n",
            "critica/mact38.txt: Magalhães de Azeredo: Procelárias (1898)\n",
            "critica/mact39.txt: Cenas da vida amazônica , de José Veríssimo (1899)\n",
            "critica/mact40.txt: Garrett (1899)\n",
            "critica/mact41.txt: Eça de Queirós (1900)\n",
            "critica/mact42.txt: Eduardo Prado (1901)\n",
            "critica/mact43.txt: Magalhães de Azeredo e Mário de Alencar: Horas sagradas e Versos (1902)\n",
            "critica/mact44.txt: Oliveira Lima: Secretário d'el-rei (1904)\n",
            "critica/mact45.txt: Joaquim Nabuco: Pensées détachées et souvenirs (1906)\n",
            "\n",
            "Miscelanea\n",
            "\n",
            "miscelanea/mams01.txt: Os imortais (1859)\n",
            "miscelanea/mams02.txt: Queda que as mulheres têm para os tolos (1861)\n",
            "miscelanea/mams03.txt: Carta ao Sr. Bispo do RJ (1862)\n",
            "miscelanea/mams04.txt: Carta à redação da Imprensa Acadêmica (1864)\n",
            "miscelanea/mams05.txt: Pedro Luís (1884)\n",
            "miscelanea/mams06.txt: A morte de Francisco Otaviano (1889)\n",
            "miscelanea/mams07.txt: Secretaria de Agricultura (1890)\n",
            "miscelanea/mams08.txt: A Paixão de Jesus (1904)\n",
            "miscelanea/mams09.txt: Gonçalves Dias (1906)\n",
            "miscelanea/mams10.txt: A Estátua de José de Alencar (1906)\n",
            "\n"
          ],
          "name": "stdout"
        }
      ]
    },
    {
      "cell_type": "code",
      "metadata": {
        "id": "AiGlxkZqTjHt",
        "colab_type": "code",
        "colab": {}
      },
      "source": [
        "raw_text = machado.raw('romance/marm05.txt')"
      ],
      "execution_count": 0,
      "outputs": []
    },
    {
      "cell_type": "code",
      "metadata": {
        "id": "OZwHrTzuTmHr",
        "colab_type": "code",
        "colab": {
          "base_uri": "https://localhost:8080/",
          "height": 127
        },
        "outputId": "d05daf27-1614-444a-83d4-b7c4242021f9"
      },
      "source": [
        "\n",
        "print(raw_text[10000:10200])"
      ],
      "execution_count": 135,
      "outputs": [
        {
          "output_type": "stream",
          "text": [
            ", primou no\n",
            "Estado, e foi um dos amigos particulares do vice-rei Conde da Cunha.\n",
            "\n",
            "Como este apelido de Cubas lhe\n",
            "cheirasse excessivamente a tanoaria, alegava meu pai, bisneto de Damião, que o\n",
            "dito ape\n"
          ],
          "name": "stdout"
        }
      ]
    },
    {
      "cell_type": "code",
      "metadata": {
        "id": "SJIMMYqLUATK",
        "colab_type": "code",
        "colab": {}
      },
      "source": [
        "##Separa por palavra\n",
        "text1 = machado.words('romance/marm05.txt')"
      ],
      "execution_count": 0,
      "outputs": []
    },
    {
      "cell_type": "code",
      "metadata": {
        "id": "rfyAfiazUH0Y",
        "colab_type": "code",
        "colab": {
          "base_uri": "https://localhost:8080/",
          "height": 35
        },
        "outputId": "b6cba2c5-27ed-48ac-c7ba-900d8b1fa1cf"
      },
      "source": [
        "text1"
      ],
      "execution_count": 138,
      "outputs": [
        {
          "output_type": "execute_result",
          "data": {
            "text/plain": [
              "['Romance', ',', 'Memórias', 'Póstumas', 'de', 'Brás', ...]"
            ]
          },
          "metadata": {
            "tags": []
          },
          "execution_count": 138
        }
      ]
    },
    {
      "cell_type": "code",
      "metadata": {
        "id": "sPUYdlstUSmM",
        "colab_type": "code",
        "colab": {
          "base_uri": "https://localhost:8080/",
          "height": 35
        },
        "outputId": "8b80872a-ec7c-4586-98c4-ee47f3e4695f"
      },
      "source": [
        "##Conta palavras inclusive repetidas\n",
        "len(text1)"
      ],
      "execution_count": 139,
      "outputs": [
        {
          "output_type": "execute_result",
          "data": {
            "text/plain": [
              "77098"
            ]
          },
          "metadata": {
            "tags": []
          },
          "execution_count": 139
        }
      ]
    },
    {
      "cell_type": "code",
      "metadata": {
        "id": "m33b6tuPUZWn",
        "colab_type": "code",
        "colab": {
          "base_uri": "https://localhost:8080/",
          "height": 35
        },
        "outputId": "c5a34361-6548-4a9a-db0e-ba6ba3fc6746"
      },
      "source": [
        "##Cria conjunto \"set\" e conta palavras [nao repetidas]\n",
        "len(set(text1))"
      ],
      "execution_count": 140,
      "outputs": [
        {
          "output_type": "execute_result",
          "data": {
            "text/plain": [
              "10848"
            ]
          },
          "metadata": {
            "tags": []
          },
          "execution_count": 140
        }
      ]
    },
    {
      "cell_type": "code",
      "metadata": {
        "id": "jMAnCVxWzq-1",
        "colab_type": "code",
        "colab": {
          "base_uri": "https://localhost:8080/",
          "height": 35
        },
        "outputId": "122401eb-5519-4e2b-eeac-d66a3cbcbbc6"
      },
      "source": [
        "ptext1 = Text(machado.words('romance/marm05.txt'), name=\"Memórias Póstumas de Brás Cubas (1881)\")\n",
        "print(\"ptext1:\", ptext1.name)"
      ],
      "execution_count": 11,
      "outputs": [
        {
          "output_type": "stream",
          "text": [
            "ptext1: Memórias Póstumas de Brás Cubas (1881)\n"
          ],
          "name": "stdout"
        }
      ]
    },
    {
      "cell_type": "code",
      "metadata": {
        "id": "V5C3eG3XUGfs",
        "colab_type": "code",
        "colab": {}
      },
      "source": [
        ""
      ],
      "execution_count": 0,
      "outputs": []
    },
    {
      "cell_type": "code",
      "metadata": {
        "id": "bWWhdixn3GJA",
        "colab_type": "code",
        "colab": {
          "base_uri": "https://localhost:8080/",
          "height": 35
        },
        "outputId": "7ea4a64f-7cb0-49fa-9014-ba1f084311c6"
      },
      "source": [
        "nltk.corpus.machado.encoding(ptext1)"
      ],
      "execution_count": 25,
      "outputs": [
        {
          "output_type": "execute_result",
          "data": {
            "text/plain": [
              "'latin-1'"
            ]
          },
          "metadata": {
            "tags": []
          },
          "execution_count": 25
        }
      ]
    },
    {
      "cell_type": "code",
      "metadata": {
        "id": "jmL24-KM3mf8",
        "colab_type": "code",
        "colab": {
          "base_uri": "https://localhost:8080/",
          "height": 54
        },
        "outputId": "f54fef9e-7018-49a3-980e-db060aec5c5a"
      },
      "source": [
        "#Distribuicao semelhante / Sem sentido\n",
        "ptext1.similar('passado')"
      ],
      "execution_count": 30,
      "outputs": [
        {
          "output_type": "stream",
          "text": [
            "que tempo cotrim relógio resto livro e era outro céu corpo filho pai\n",
            "enfermo caminho rosto benefício senhor paulo teto\n"
          ],
          "name": "stdout"
        }
      ]
    },
    {
      "cell_type": "code",
      "metadata": {
        "id": "9i7dHLzX4WP5",
        "colab_type": "code",
        "colab": {
          "base_uri": "https://localhost:8080/",
          "height": 90
        },
        "outputId": "008be59f-4ba8-4278-c1dd-55368f73ec5a"
      },
      "source": [
        "#Palavras que geralmente aparecem juntas\n",
        "ptext1.collocations()"
      ],
      "execution_count": 33,
      "outputs": [
        {
          "output_type": "stream",
          "text": [
            "Quincas Borba; Lobo Neves; alguma coisa; Brás Cubas; meu pai; que não;\n",
            "dia seguinte; não sei; Com efeito; que era; Meu pai; alguns instantes;\n",
            "outra vez; outra coisa; por exemplo; que ele; mim mesmo; coisa\n",
            "nenhuma; mesma coisa; não era\n"
          ],
          "name": "stdout"
        }
      ]
    },
    {
      "cell_type": "code",
      "metadata": {
        "id": "JNHZJrkH8NPM",
        "colab_type": "code",
        "colab": {
          "base_uri": "https://localhost:8080/",
          "height": 35
        },
        "outputId": "ce907926-59dd-428c-bb29-0e7a809792e2"
      },
      "source": [
        "#Contexto em que palavra aparece\n",
        "\n",
        "ptext1.findall(\"<cheiro> (<.*>)\")"
      ],
      "execution_count": 41,
      "outputs": [
        {
          "output_type": "stream",
          "text": [
            "inebriante\n"
          ],
          "name": "stdout"
        }
      ]
    },
    {
      "cell_type": "code",
      "metadata": {
        "id": "vtL6SjhP9eTL",
        "colab_type": "code",
        "colab": {
          "base_uri": "https://localhost:8080/",
          "height": 35
        },
        "outputId": "391ca773-45af-4a53-fbba-b61abb4ba2e0"
      },
      "source": [
        "t_rand=ptext1.generate(\"água\")\n",
        "print(t_rand)"
      ],
      "execution_count": 46,
      "outputs": [
        {
          "output_type": "stream",
          "text": [
            "None\n"
          ],
          "name": "stdout"
        }
      ]
    },
    {
      "cell_type": "code",
      "metadata": {
        "id": "_QZFrETi-yWD",
        "colab_type": "code",
        "colab": {}
      },
      "source": [
        "#Palavras mais frequentes (Retorna objeto com dicionario embutido)\n",
        "fd1 = FreqDist(ptext1)"
      ],
      "execution_count": 0,
      "outputs": []
    },
    {
      "cell_type": "code",
      "metadata": {
        "id": "sB2Wj0swB_vb",
        "colab_type": "code",
        "colab": {}
      },
      "source": [
        "#fd1"
      ],
      "execution_count": 0,
      "outputs": []
    },
    {
      "cell_type": "code",
      "metadata": {
        "id": "uBnkTKdJ-0CT",
        "colab_type": "code",
        "colab": {
          "base_uri": "https://localhost:8080/",
          "height": 35
        },
        "outputId": "6b2ff69c-31eb-4939-97d3-971b0ec95446"
      },
      "source": [
        "#Quantas vezes determinada palavra se repetiu\n",
        "fd1[\"quem\"]"
      ],
      "execution_count": 49,
      "outputs": [
        {
          "output_type": "execute_result",
          "data": {
            "text/plain": [
              "44"
            ]
          },
          "metadata": {
            "tags": []
          },
          "execution_count": 49
        }
      ]
    },
    {
      "cell_type": "code",
      "metadata": {
        "id": "XjI6G0-gBTXI",
        "colab_type": "code",
        "colab": {
          "base_uri": "https://localhost:8080/",
          "height": 35
        },
        "outputId": "16ed7f7f-f560-4b0f-acf5-c8ba704b5c4b"
      },
      "source": [
        "#Palavra que mais repetiu\n",
        "fd1.max()"
      ],
      "execution_count": 52,
      "outputs": [
        {
          "output_type": "execute_result",
          "data": {
            "text/plain": [
              "','"
            ]
          },
          "metadata": {
            "tags": []
          },
          "execution_count": 52
        }
      ]
    },
    {
      "cell_type": "code",
      "metadata": {
        "id": "GODk96cVBlYG",
        "colab_type": "code",
        "colab": {
          "base_uri": "https://localhost:8080/",
          "height": 35
        },
        "outputId": "dbfd8e51-48b7-40df-9ceb-1f6265268345"
      },
      "source": [
        "type(fd1)"
      ],
      "execution_count": 56,
      "outputs": [
        {
          "output_type": "execute_result",
          "data": {
            "text/plain": [
              "nltk.probability.FreqDist"
            ]
          },
          "metadata": {
            "tags": []
          },
          "execution_count": 56
        }
      ]
    },
    {
      "cell_type": "code",
      "metadata": {
        "id": "hX0SbZsKC7b8",
        "colab_type": "code",
        "colab": {
          "base_uri": "https://localhost:8080/",
          "height": 35
        },
        "outputId": "6d25b22d-d8f5-48d5-acf0-e2fe90fe8bc8"
      },
      "source": [
        "#total de amostras de valores maior que zero = len(fd1)\n",
        "fd1.B()"
      ],
      "execution_count": 61,
      "outputs": [
        {
          "output_type": "execute_result",
          "data": {
            "text/plain": [
              "10848"
            ]
          },
          "metadata": {
            "tags": []
          },
          "execution_count": 61
        }
      ]
    },
    {
      "cell_type": "code",
      "metadata": {
        "id": "tktEBbDKDPhk",
        "colab_type": "code",
        "colab": {
          "base_uri": "https://localhost:8080/",
          "height": 35
        },
        "outputId": "d22aad44-39d3-4297-889d-be0c98f9992a"
      },
      "source": [
        "#Valores/palavras incluindo repetidos\n",
        "fd1.N()"
      ],
      "execution_count": 62,
      "outputs": [
        {
          "output_type": "execute_result",
          "data": {
            "text/plain": [
              "77098"
            ]
          },
          "metadata": {
            "tags": []
          },
          "execution_count": 62
        }
      ]
    },
    {
      "cell_type": "code",
      "metadata": {
        "id": "2pKRh-fzFIRH",
        "colab_type": "code",
        "colab": {}
      },
      "source": [
        "#Operações matematicas com FreqDist\n",
        "#fd1.Nr()"
      ],
      "execution_count": 0,
      "outputs": []
    },
    {
      "cell_type": "code",
      "metadata": {
        "id": "hsnpv89SFigw",
        "colab_type": "code",
        "colab": {
          "base_uri": "https://localhost:8080/",
          "height": 35
        },
        "outputId": "f1cb8427-8ac7-4af7-ab16-774541aab4b0"
      },
      "source": [
        "fd1.freq(\"que\")"
      ],
      "execution_count": 72,
      "outputs": [
        {
          "output_type": "execute_result",
          "data": {
            "text/plain": [
              "0.027666087317440143"
            ]
          },
          "metadata": {
            "tags": []
          },
          "execution_count": 72
        }
      ]
    },
    {
      "cell_type": "code",
      "metadata": {
        "id": "8ny7TID9GWju",
        "colab_type": "code",
        "colab": {}
      },
      "source": [
        "##Palavras que ocorrem apenas uma vez (retorna lista)\n",
        "#fd1.hapaxes()\n"
      ],
      "execution_count": 0,
      "outputs": []
    },
    {
      "cell_type": "code",
      "metadata": {
        "id": "sjYfq0LJGzyh",
        "colab_type": "code",
        "colab": {
          "base_uri": "https://localhost:8080/",
          "height": 35
        },
        "outputId": "a9cc6650-872d-435d-bac1-d9093b79ee48"
      },
      "source": [
        "\n",
        "len(fd1.hapaxes())"
      ],
      "execution_count": 76,
      "outputs": [
        {
          "output_type": "execute_result",
          "data": {
            "text/plain": [
              "6371"
            ]
          },
          "metadata": {
            "tags": []
          },
          "execution_count": 76
        }
      ]
    },
    {
      "cell_type": "code",
      "metadata": {
        "id": "3xxymfnyHio6",
        "colab_type": "code",
        "colab": {
          "base_uri": "https://localhost:8080/",
          "height": 55
        },
        "outputId": "2920a2e2-907b-4507-d585-6761ad09b473"
      },
      "source": [
        "#Imprime 20 primeiras ocorrencias\n",
        "fd1.pformat(20)"
      ],
      "execution_count": 79,
      "outputs": [
        {
          "output_type": "execute_result",
          "data": {
            "text/plain": [
              "\"FreqDist({',': 6918, '.': 2921, 'a': 2430, 'que': 2133, 'de': 2063, 'e': 1823, '-': 1748, 'o': 1618, ';': 1260, 'me': 978, 'um': 923, 'não': 911, '\\\\x97': 745, 'se': 712, 'do': 680, 'da': 644, 'uma': 631, 'com': 559, 'os': 483, 'é': 477, ...})\""
            ]
          },
          "metadata": {
            "tags": []
          },
          "execution_count": 79
        }
      ]
    },
    {
      "cell_type": "code",
      "metadata": {
        "id": "8AKSBaqcIVK0",
        "colab_type": "code",
        "colab": {}
      },
      "source": [
        "##Plota frequencia de palavras (necessita modulo matplotlib)\n",
        "#fd1.plot()"
      ],
      "execution_count": 0,
      "outputs": []
    },
    {
      "cell_type": "code",
      "metadata": {
        "id": "dy6nrm_kIpQj",
        "colab_type": "code",
        "colab": {
          "base_uri": "https://localhost:8080/",
          "height": 35
        },
        "outputId": "7e44f822-0b31-45b9-92e3-a35c9550684e"
      },
      "source": [
        "#Semelhante ao pformat()\n",
        "fd1.pprint(10)"
      ],
      "execution_count": 82,
      "outputs": [
        {
          "output_type": "stream",
          "text": [
            "FreqDist({',': 6918, '.': 2921, 'a': 2430, 'que': 2133, 'de': 2063, 'e': 1823, '-': 1748, 'o': 1618, ';': 1260, 'me': 978, ...})\n"
          ],
          "name": "stdout"
        }
      ]
    },
    {
      "cell_type": "code",
      "metadata": {
        "id": "q01k5wfHJQni",
        "colab_type": "code",
        "colab": {}
      },
      "source": [
        "##cria um dicionario de alguma coisa\n",
        "#fd1.r_Nr()"
      ],
      "execution_count": 0,
      "outputs": []
    },
    {
      "cell_type": "code",
      "metadata": {
        "id": "JVoNVJQOKJZJ",
        "colab_type": "code",
        "colab": {}
      },
      "source": [
        "##Transforma em tabela. Deu erro ao testar no Google Colab\n",
        "#fd1.tabulate()"
      ],
      "execution_count": 0,
      "outputs": []
    },
    {
      "cell_type": "code",
      "metadata": {
        "id": "NI50i6-LLsqX",
        "colab_type": "code",
        "colab": {}
      },
      "source": [
        "##Lista mais comuns em ordem decrescente (retorna lista com tupla)\n",
        "#fd1.most_common()\n",
        "#type(fd1.most_common())"
      ],
      "execution_count": 0,
      "outputs": []
    },
    {
      "cell_type": "code",
      "metadata": {
        "id": "aRk5VqUjM1SE",
        "colab_type": "code",
        "colab": {
          "base_uri": "https://localhost:8080/",
          "height": 35
        },
        "outputId": "a424d3c0-5516-437f-90cd-f7a273bfac32"
      },
      "source": [
        "##Remove palavra/string da lista de frequencia. Caso string não exista ou jah tenha sido removida retorna erro\n",
        "##Aceita apenas uma sring por vez fd1.pop(\"\\x97\",\"-\") remove apenas \"\\x97\"\n",
        "#fd1.pop(\",\")\n",
        "fd1.pop(\"-\")"
      ],
      "execution_count": 103,
      "outputs": [
        {
          "output_type": "execute_result",
          "data": {
            "text/plain": [
              "1748"
            ]
          },
          "metadata": {
            "tags": []
          },
          "execution_count": 103
        }
      ]
    },
    {
      "cell_type": "code",
      "metadata": {
        "id": "tdLUilKyNB-u",
        "colab_type": "code",
        "colab": {
          "base_uri": "https://localhost:8080/",
          "height": 201
        },
        "outputId": "5e8062a8-0e8c-46ed-e00c-9e2bd235438d"
      },
      "source": [
        "fd1.most_common(10)"
      ],
      "execution_count": 104,
      "outputs": [
        {
          "output_type": "execute_result",
          "data": {
            "text/plain": [
              "[('a', 2430),\n",
              " ('que', 2133),\n",
              " ('de', 2063),\n",
              " ('e', 1823),\n",
              " ('o', 1618),\n",
              " ('me', 978),\n",
              " ('um', 923),\n",
              " ('não', 911),\n",
              " ('se', 712),\n",
              " ('do', 680)]"
            ]
          },
          "metadata": {
            "tags": []
          },
          "execution_count": 104
        }
      ]
    },
    {
      "cell_type": "code",
      "metadata": {
        "id": "2xoV7ZoaOpa6",
        "colab_type": "code",
        "colab": {
          "base_uri": "https://localhost:8080/",
          "height": 35
        },
        "outputId": "84185bb6-9d01-4103-c0da-e9cb013963b4"
      },
      "source": [
        "##Uso de memoria\n",
        "# fd1.__sizeof__()"
      ],
      "execution_count": 105,
      "outputs": [
        {
          "output_type": "execute_result",
          "data": {
            "text/plain": [
              "295000"
            ]
          },
          "metadata": {
            "tags": []
          },
          "execution_count": 105
        }
      ]
    },
    {
      "cell_type": "code",
      "metadata": {
        "id": "mVXhY46uO4o5",
        "colab_type": "code",
        "colab": {
          "base_uri": "https://localhost:8080/",
          "height": 35
        },
        "outputId": "33c0e585-7fcf-45e4-b219-4fb4e15036a8"
      },
      "source": [
        "##Testa se ha string na lista de frequencia (retorna True se encontrar)\n",
        "fd1.__contains__(\"ao\")"
      ],
      "execution_count": 109,
      "outputs": [
        {
          "output_type": "execute_result",
          "data": {
            "text/plain": [
              "True"
            ]
          },
          "metadata": {
            "tags": []
          },
          "execution_count": 109
        }
      ]
    },
    {
      "cell_type": "code",
      "metadata": {
        "id": "T6zoA8bQPej1",
        "colab_type": "code",
        "colab": {}
      },
      "source": [
        "##Retorna lista com tupla\n",
        "# fd1.items()\n",
        "# type(fd1.items())"
      ],
      "execution_count": 0,
      "outputs": []
    },
    {
      "cell_type": "code",
      "metadata": {
        "id": "GViwepbZQoLP",
        "colab_type": "code",
        "colab": {
          "base_uri": "https://localhost:8080/",
          "height": 55
        },
        "outputId": "4b7ca7dc-44db-4d8a-f11a-363642be7ab1"
      },
      "source": [
        "##retorna palavras\n",
        "fd1.keys()\n"
      ],
      "execution_count": 121,
      "outputs": [
        {
          "output_type": "execute_result",
          "data": {
            "text/plain": [
              "dict_keys(['Romance', 'Memórias', 'Póstumas', 'de', 'Brás', 'Cubas', '1880', 'Texto', 'fonte', ':', 'Obra', 'Completa', 'Machado', 'Assis', 'Rio', 'Janeiro', 'Editora', 'Nova', 'Aguilar', '1994', 'Publicado', 'originalmente', 'em', 'folhetins', 'a', 'partir', 'março', 'na', 'Revista', 'Brasileira', 'Ao', 'verme', 'que', 'primeiro', 'roeu', 'as', 'frias', 'carnes', 'do', 'meu', 'cadáver', 'dedico', 'como', 'saudosa', 'lembrança', 'estas', 'Prólogo', 'da', 'terceira', 'edição', 'A', 'primeira', 'destas', 'foi', 'feita', 'aos', 'pedaços', 'pelos', 'anos', 'Postas', 'mais', 'tarde', 'livro', 'corrigi', 'o', 'texto', 'vários', 'lugares', 'Agora', 'tive', 'rever', 'para', 'emendei', 'ainda', 'alguma', 'coisa', 'e', 'suprimi', 'duas', 'ou', 'três', 'dúzias', 'linhas', 'Assim', 'composta', 'sai', 'novamente', 'à', 'luz', 'esta', 'obra', 'benevolência', 'parece', 'ter', 'encontrado', 'no', 'público', 'Capistrano', 'Abreu', 'noticiando', 'publicação', 'perguntava', '\\x93', 'As', 'são', 'um', 'romance', '?\\x94', 'Macedo', 'Soares', 'carta', 'me', 'escreveu', 'por', 'esse', 'tempo', 'recordava', 'amigamente', 'Viagens', 'minha', 'terra', 'respondia', 'já', 'defunto', '(', 'leitor', 'viu', 'verá', 'prólogo', 'dele', 'vai', 'adiante', ')', 'sim', 'não', 'era', 'uns', 'outros', 'Quanto', 'ao', 'segundo', 'assim', 'se', 'explicou', 'finado', 'Trata', 'uma', 'difusa', 'qual', 'eu', 'adotei', 'forma', 'livre', 'Sterne', 'Xavier', 'Maistre', 'sei', 'lhe', 'meti', 'algumas', 'rabugens', 'pessimismo', '.\\x94', 'Toda', 'essa', 'gente', 'viajou', 'roda', 'quarto', 'Garret', 'dos', 'De', 'pode', 'dizer', 'vida', 'O', 'faz', 'autor', 'particular', 'é', 'ele', 'chama', '\\x94.', 'Há', 'alma', 'deste', 'risonho', 'pareça', 'sentimento', 'amargo', 'áspero', 'está', 'longe', 'vir', 'seus', 'modelos', 'É', 'taça', 'lavores', 'igual', 'escola', 'mas', 'leva', 'outro', 'vinho', 'Não', 'digo', 'entrar', 'crítica', 'pintou', 'si', 'conforme', 'pareceu', 'melhor', 'certo', 'AO', 'LEITOR', 'Que', 'Stendhal', 'confessasse', 'haver', 'escrito', 'livros', 'cem', 'leitores', 'admira', 'consterna', 'nem', 'provavelmente', 'consternará', 'este', 'tiver', 'os', 'cinqüenta', 'vinte', 'quando', 'muito', 'dez', 'Dez', '?', 'Talvez', 'cinco', 'verdade', 'Pode', 'ser', 'Escrevi', 'com', 'pena', 'galhofa', 'tinta', 'melancolia', 'difícil', 'antever', 'poderá', 'sair', 'desse', 'conúbio', 'Acresce', 'grave', 'achará', 'umas', 'aparências', 'puro', 'passo', 'frívola', 'nele', 'seu', 'usual', 'ei', 'lo', 'aí', 'fica', 'privado', 'estima', 'graves', 'amor', 'frívolos', 'colunas', 'máximas', 'opinião', 'Mas', 'espero', 'angariar', 'simpatias', 'remédio', 'fugir', 'explícito', 'longo', 'contém', 'menos', 'coisas', 'diz', 'jeito', 'obscuro', 'truncado', 'Conseguintemente', 'evito', 'contar', 'processo', 'extraordinário', 'empreguei', 'composição', 'trabalhadas', 'cá', 'mundo', 'Seria', 'curioso', 'nimiamente', 'extenso', 'aliás', 'desnecessário', 'entendimento', 'mesma', 'tudo', 'te', 'agradar', 'fino', 'pago', 'tarefa', 'piparote', 'adeus', 'CAPÍTULO', 'PRIMEIRO', '/', 'ÓBITO', 'DO', 'AUTOR', 'Algum', 'hesitei', 'devia', 'abrir', 'memórias', 'pelo', 'princípio', 'fim', 'isto', 'poria', 'lugar', 'nascimento', 'morte', 'Suposto', 'uso', 'vulgar', 'seja', 'começar', 'considerações', 'levaram', 'adotar', 'diferente', 'método', 'sou', 'propriamente', 'quem', 'campa', 'berço', 'segunda', 'ficaria', 'galante', 'novo', 'Moisés', 'também', 'contou', 'sua', 'pôs', 'intróito', 'cabo', 'diferença', 'radical', 'entre', 'Pentateuco', 'Dito', 'expirei', 'às', 'horas', 'sexta', 'feira', 'mês', 'agosto', '1869', 'bela', 'chácara', 'Catumbi', 'Tinha', 'sessenta', 'quatro', 'rijos', 'prósperos', 'solteiro', 'possuía', 'cerca', 'trezentos', 'contos', 'fui', 'acompanhado', 'cemitério', 'onze', 'amigos', 'Onze', '!', 'Verdade', 'houve', 'cartas', 'anúncios', 'chovia', 'peneirava', 'chuvinha', 'miúda', 'triste', 'constante', 'tão', 'levou', 'daqueles', 'fiéis', 'última', 'hora', 'intercalar', 'engenhosa', 'idéia', 'discurso', 'proferiu', 'beira', 'cova', 'Vós', 'conhecestes', 'meus', 'senhores', 'vós', 'podeis', 'comigo', 'natureza', 'estar', 'chorando', 'perda', 'irreparável', 'belos', 'caracteres', 'têm', 'honrado', 'humanidade', 'Este', 'ar', 'sombrio', 'gotas', 'céu', 'aquelas', 'nuvens', 'escuras', 'cobrem', 'azul', 'crepe', 'funéreo', 'isso', 'dor', 'crua', 'má', 'rói', 'Natureza', 'íntimas', 'entranhas', 'sublime', 'louvor', 'nosso', 'ilustre', 'Bom', 'fiel', 'amigo', 'arrependo', 'das', 'apólices', 'deixei', 'E', 'cheguei', 'cláusula', 'dias', 'encaminhei', 'undiscovered', 'country', 'Hamlet', 'sem', 'ânsias', 'dúvidas', 'moço', 'príncipe', 'pausado', 'trôpego', 'retira', 'espetáculo', 'Tarde', 'aborrecido', 'Viram', 'ir', 'nove', 'pessoas', 'elas', 'senhoras', 'irmã', 'Sabina', 'casada', 'Cotrim', 'filha', 'lírio', 'vale', '...', 'Tenham', 'paciência', 'daqui', 'pouco', 'lhes', 'direi', 'senhora', 'Contentem', 'saber', 'anônima', 'parenta', 'padeceu', 'parentas', 'carpisse', 'deixasse', 'rolar', 'chão', 'convulsa', 'Nem', 'óbito', 'altamente', 'dramática', 'Um', 'solteirão', 'expira', 'reúna', 'todos', 'elementos', 'tragédia', 'dado', 'convinha', 'aparentá', 'pé', 'cabeceira', 'cama', 'olhos', 'estúpidos', 'boca', 'entreaberta', 'mal', 'podia', 'crer', 'extinção', 'Morto', 'morto', '!\\x94', 'dizia', 'consigo', 'imaginação', 'dela', 'cegonhas', 'viajante', 'desferirem', 'vôo', 'desde', 'Ilisso', 'ribas', 'africanas', 'embargo', 'ruínas', 'tempos', 'dessa', 'voou', 'sobre', 'destroços', 'presentes', 'até', 'África', 'juvenil', 'Deixá', 'la', 'lá', 'iremos', 'restituir', 'primeiros', 'quero', 'morrer', 'tranqüilamente', 'metodicamente', 'ouvindo', 'soluços', 'damas', 'falas', 'baixas', 'homens', 'chuva', 'tamborila', 'nas', 'folhas', 'tinhorão', 'som', 'estrídulo', 'navalha', 'amolador', 'afiando', 'fora', 'porta', 'correeiro', 'Juro', 'orquestra', 'parecer', 'ponto', 'diante', 'chegou', 'deliciosa', 'estrebuchava', 'peito', 'ímpetos', 'vaga', 'marinha', 'esvaía', 'consciência', 'descia', 'imobilidade', 'física', 'moral', 'corpo', 'fazia', 'planta', 'pedra', 'lodo', 'nenhuma', 'Morri', 'pneumonia', 'disser', 'grandiosa', 'útil', 'causa', 'possível', 'creia', 'todavia', 'Vou', 'expor', 'sumariamente', 'caso', 'Julgue', 'mesmo', 'II', 'EMPLASTO', 'Com', 'efeito', 'dia', 'manhã', 'estando', 'passear', 'pendurou', 'trapézio', 'tinha', 'cérebro', 'Uma', 'vez', 'pendurada', 'entrou', 'bracejar', 'pernear', 'fazer', 'arrojadas', 'cabriolas', 'volatim', 'Eu', 'contemplá', 'Súbito', 'deu', 'grande', 'salto', 'estendeu', 'braços', 'pernas', 'tomar', 'X', 'decifra', 'devoro', 'Essa', 'nada', 'invenção', 'medicamento', 'emplastro', 'anti', 'hipocondríaco', 'destinado', 'aliviar', 'nossa', 'melancólica', 'Na', 'petição', 'privilégio', 'então', 'redigi', 'chamei', 'atenção', 'governo', 'resultado', 'verdadeiramente', 'cristão', 'Todavia', 'neguei', 'vantagens', 'pecuniárias', 'deviam', 'resultar', 'distribuição', 'produto', 'tamanhos', 'profundos', 'efeitos', 'porém', 'estou', 'lado', 'posso', 'confessar', 'influiu', 'principalmente', 'gosto', 'ver', 'impressas', 'nos', 'jornais', 'mostradores', 'folhetos', 'esquinas', 'enfim', 'caixinhas', 'palavras', 'Emplasto', 'Para', 'negá', 'paixão', 'arruído', 'cartaz', 'foguete', 'lágrimas', 'modestos', 'argúam', 'defeito', 'fio', 'talento', 'hão', 'reconhecer', 'hábeis', 'trazia', 'faces', 'medalhas', 'virada', 'outra', 'mim', 'filantropia', 'lucro', 'sede', 'nomeada', 'Digamos', 'glória', 'tio', 'cônego', 'prebenda', 'inteira', 'costumava', 'temporal', 'perdição', 'almas', 'só', 'devem', 'cobiçar', 'eterna', 'retorquia', 'oficial', 'antigos', 'terços', 'infantaria', 'humana', 'há', 'homem', 'conseguintemente', 'genuína', 'feição', 'Decida', 'militar', 'volto', 'emplasto', 'III', 'GENEALOGIA', 'falei', 'dois', 'tios', 'deixem', 'aqui', 'curto', 'esboço', 'genealógico', 'fundador', 'família', 'Damião', 'floresceu', 'metade', 'século', 'XVIII', 'Era', 'tanoeiro', 'ofício', 'natural', 'onde', 'teria', 'morrido', 'penúria', 'obscuridade', 'somente', 'exercesse', 'tanoaria', 'fez', 'lavrador', 'plantou', 'colheu', 'permutou', 'boas', 'honradas', 'patacas', 'morreu', 'deixando', 'grosso', 'cabedal', 'filho', 'licenciado', 'Luís', 'Neste', 'rapaz', 'começa', 'série', 'avós', 'sempre', 'confessou', 'porque', 'afinal', 'contas', 'talvez', 'mau', 'estudou', 'Coimbra', 'primou', 'Estado', 'particulares', 'vice', 'rei', 'Conde', 'Cunha', 'Como', 'apelido', 'cheirasse', 'excessivamente', 'alegava', 'pai', 'bisneto', 'dito', 'cavaleiro', 'herói', 'jornadas', 'prêmio', 'façanha', 'praticou', 'arrebatando', 'trezentas', 'cubas', 'mouros', 'Meu', 'escapou', 'asas', 'calembour', 'bom', 'caráter', 'varão', 'digno', 'leal', 'poucos', 'fumos', 'pacholice', 'pachola', 'nesse', 'Releva', 'notar', 'recorreu', 'inventiva', 'senão', 'depois', 'experimentar', 'falsificação', 'primeiramente', 'entroncou', 'daquele', 'famoso', 'homônimo', 'capitão', 'mor', 'fundou', 'vila', 'São', 'Vicente', '1592', 'motivo', 'nome', 'Opôs', 'imaginou', 'mouriscas', 'Vivem', 'alguns', 'membros', 'sobrinha', 'Venância', 'exemplo', 'flor', 'vive', 'sujeito', 'antecipemos', 'sucessos', 'acabemos', 'IV', 'IDÉIA', 'FIXA', 'tantas', 'constituíra', 'fixa', 'Deus', 'antes', 'argueiro', 'trave', 'olho', 'Vê', 'Cavour', 'unidade', 'italiana', 'matou', 'Bismarck', 'cumpre', 'advertir', 'caprichosa', 'história', 'loureira', 'Por', 'Suetônio', 'Cláudio', 'simplório', 'abóbora', '\\x94', 'chamou', 'Sêneca', 'Tito', 'mereceu', 'delícias', 'Roma', 'Veio', 'modernamente', 'professor', 'achou', 'meio', 'demonstrar', 'césares', 'delicioso', 'verdadeiro', 'tu', 'madama', 'Lucrécia', 'Bórgias', 'poeta', 'Messalina', 'católica', 'apareceu', 'Gregorovius', 'incrédulo', 'apagou', 'qualidade', 'vieste', 'ficaste', 'pântano', 'deixo', 'sábio', 'Viva', 'pois', 'volúvel', 'dá', 'tornando', 'ela', 'varões', 'fortes', 'doidos', 'móbil', 'furta', 'cor', 'Cláudios', 'fórmula', 'ocorre', 'assaz', 'fixo', 'lua', 'pirâmides', 'Egito', 'finada', 'dieta', 'germânica', 'Veja', 'comparação', 'quadrar', 'veja', 'esteja', 'daí', 'torcer', 'nariz', 'chegamos', 'parte', 'narrativa', 'Lá', 'Creio', 'prefere', 'anedota', 'reflexão', 'confrades', 'acho', 'bem', 'Pois', 'importa', 'pachorra', 'desafrontado', 'brevidade', 'supinamente', 'filosófica', 'filosofia', 'desigual', 'agora', 'austera', 'logo', 'brincalhona', 'edifica', 'destrói', 'inflama', 'regala', 'passatempo', 'apostolado', 'Vamos', 'retifique', 'tornemos', 'Deixemos', 'caprichos', 'dama', 'elegante', 'Nenhum', 'nós', 'pelejou', 'batalha', 'Salamina', 'nenhum', 'confissão', 'Augsburgo', 'pela', 'lembro', 'Cromwell', 'Sua', 'Alteza', 'mão', 'trancara', 'parlamento', 'imposto', 'ingleses', 'riam', 'vitória', 'comum', 'farmácia', 'puritanismo', 'Quem', 'sabe', 'cada', 'bandeira', 'pública', 'ostensiva', 'muitas', 'vezes', 'várias', 'outras', 'bandeiras', 'modestamente', 'hasteiam', 'flutuam', 'sombra', 'daquela', 'poucas', 'sobrevivem', 'Mal', 'comparando', 'arraia', 'acolhia', 'castelo', 'feudal', 'caiu', 'ficou', 'graúda', 'castelã', 'presta', 'V', 'EM', 'QUE', 'APARECE', 'ORELHA', 'DE', 'UMA', 'SENHORA', 'Senão', 'ocupado', 'preparar', 'apurar', 'recebi', 'cheio', 'golpe', 'adoeci', 'tratei', 'Via', 'ascender', 'turbas', 'remontar', 'Céu', 'águia', 'imortal', 'excelso', 'sentir', 'punge', 'No', 'estava', 'pior', 'incompletamente', 'cuidado', 'persistência', 'tal', 'origem', 'trouxe', 'eternidade', 'Sabem', 'morri', 'numa', 'aziago', 'creio', 'provado', 'demonstrações', 'lúcidas', 'triunfantes', 'impossível', 'entretanto', 'chegasse', 'galgar', 'cimo', 'figurar', 'públicas', 'macróbios', 'saúde', 'robustez', 'Suponha', 'lançando', 'alicerces', 'farmacêutica', 'tratava', 'coligir', 'instituição', 'política', 'reforma', 'religiosa', 'Vinha', 'corrente', 'vence', 'eficácia', 'cálculo', 'humano', 'ia', 'corre', 'sorte', 'despedi', 'mulher', 'discreta', 'certeza', 'formosa', 'contemporâneas', 'suas', 'capítulo', 'cuja', 'semelhança', '54', 'ruína', 'imponente', 'Imagine', 'amamos', 'muitos', 'enfermo', 'vejo', 'assomar', 'alcova', 'VI', 'CHIMÈNE', 'QUI', 'L', \"'\", 'EÛT', 'DIT', 'RODRIGUE', 'CRU', 'Vejo', 'pálida', 'comovida', 'trajada', 'preto', 'ali', 'ficar', 'durante', 'minuto', 'ânimo', 'detida', 'presença', 'Da', 'jazia', 'contemplei', 'esquecido', 'gesto', 'Havia', 'víamos', 'via', 'quais', 'fôramos', 'ambos', 'Ezequias', 'misterioso', 'fizera', 'recuar', 'sol', 'juvenis', 'Recuou', 'sacudi', 'todas', 'misérias', 'punhado', 'pó', 'espalhar', 'pôde', 'ministro', 'Nenhuma', 'água', 'Juventa', 'igualaria', 'simples', 'saudade', 'Creiam', 'recordar', 'ninguém', 'fie', 'felicidade', 'presente', 'nela', 'gota', 'baba', 'Caim', 'Corrido', 'cessado', 'espasmo', 'gozar', 'deveras', 'dessas', 'ilusões', 'gosta', 'doer', 'durou', 'evocação', 'realidade', 'dominou', 'expeliu', 'passado', 'exponha', 'algum', 'canto', 'teoria', 'edições', 'humanas', 'Virgília', 'chamava', 'firme', 'gravidade', 'davam', 'roupas', 'veio', 'leito', 'estranho', 'levantou', 'saiu', 'visitava', 'falar', 'câmbio', 'colonização', 'necessidade', 'desenvolver', 'viação', 'férrea', 'interessante', 'moribundo', 'Saiu', 'deixou', 'ficamos', 'olhar', 'articular', 'palavra', 'diria', 'grandes', 'namorados', 'paixões', 'freio', 'havia', 'apenas', 'corações', 'murchos', 'devastados', 'saciados', 'dose', 'beleza', 'velhice', 'austero', 'maternal', 'magra', 'vi', 'festa', 'João', 'Tijuca', 'resistem', 'começavam', 'cabelos', 'escuros', 'fios', 'prata', 'Anda', 'visitando', 'defuntos', 'disse', 'Ora', 'respondeu', 'muxoxo', 'apertar', 'mãos', 'Ando', 'ponho', 'vadios', 'rua', 'carícia', 'lacrimosa', 'voz', 'amiga', 'doce', 'Sentou', 'casa', 'enfermeiro', 'podíamos', 'perigo', 'longas', 'notícias', 'narrando', 'graça', 'travo', 'língua', 'sal', 'palestra', 'prestes', 'deixar', 'sentia', 'prazer', 'satânico', 'mofar', 'persuadir', 'deixava', 'idéias', 'essas', 'interrompeu', 'tanto', 'zangada', 'Olhe', 'Morrer', 'Todos', 'havemos', 'basta', 'estarmos', 'vivos', 'vendo', 'relógio', 'Jesus', 'embora', 'Já', 'virei', 'amanhã', 'retorqui', 'doente', 'tem', 'mana', 'passar', 'sábado', 'refletiu', 'instante', 'ombros', 'Estou', 'velha', 'Ninguém', 'repara', 'cortar', 'Nhonhô', 'bacharel', 'único', 'casamento', 'idade', 'cúmplice', 'inconsciente', 'nossos', 'amores', 'Vieram', 'juntos', 'confesso', 'vê', 'los', 'tomado', 'acanhamento', 'permitiu', 'corresponder', 'afáveis', 'adivinhou', 'repares', 'manhoso', 'quer', 'Sorriu', 'sorri', 'acabou', 'pura', 'serena', 'risonha', 'aspecto', 'vidas', 'imaculadas', 'suspeito', 'pudesse', 'denunciar', 'igualdade', 'espírito', 'dominação', 'pareciam', 'fossem', 'raras', 'tocássemos', 'casualmente', 'nuns', 'ilegítimos', 'secretos', 'divulgados', 'desdém', 'indignação', 'satisfeito', 'aquela', 'digna', 'forte', 'diriam', 'gaviões', 'Buffon', 'tivesse', 'nascido', 'gavião', 'delírio', 'começava', 'VII', 'DELÍRIO', 'conste', 'relatou', 'próprio', 'faço', 'ciência', 'mo', 'agradecerá', 'Se', 'contemplação', 'destes', 'fenômenos', 'mentais', 'saltar', 'vá', 'direito', 'narração', 'passou', 'cabeça', 'trinta', 'minutos', 'Primeiramente', 'tomei', 'figura', 'barbeiro', 'chinês', 'bojudo', 'destro', 'escanhoando', 'mandarim', 'pagava', 'trabalho', 'beliscões', 'confeitos', 'Logo', 'senti', 'transformado', 'Suma', 'Teológica', 'Tomás', 'impressa', 'num', 'volume', 'encadernada', 'marroquim', 'fechos', 'estampas', 'completa', 'lembra', 'sendo', 'minhas', 'cruzando', 'ventre', 'alguém', 'descruzava', 'decerto', '),', 'atitude', 'dava', 'imagem', 'Ultimamente', 'restituído', 'chegar', 'hipopótamo', 'arrebatou', 'Deixei', 'calado', 'medo', 'confiança', 'dentro', 'carreira', 'modo', 'tornou', 'vertiginosa', 'atrevi', 'interrogá', 'arte', 'viagem', 'parecia', 'destino', 'Engana', 'replicou', 'animal', 'vamos', 'séculos', 'Insinuei', 'deveria', 'muitíssimo', 'entendeu', 'ouviu', 'fingiu', 'perguntando', 'visto', 'falava', 'descendente', 'cavalo', 'Aquiles', 'asna', 'Balaão', 'retorquiu', 'peculiar', 'estes', 'quadrúpedes', 'abanou', 'orelhas', 'Pela', 'fechei', 'ventura', 'tais', 'cócegas', 'curiosidade', 'ficava', 'misteriosa', 'Nilo', 'sobretudo', 'valia', 'consumação', 'mesmos', 'reflexões', 'fechados', 'caminho', 'sensação', 'frio', 'aumentava', 'jornada', 'ocasião', 'região', 'gelos', 'eternos', 'abri', 'galopava', 'planície', 'branca', 'neve', 'animais', 'Tudo', 'chegava', 'gelar', 'Tentei', 'pude', 'grunhir', 'pergunta', 'ansiosa', 'Onde', 'estamos', 'passamos', 'Éden', 'Bem', 'paremos', 'tenda', 'Abraão', 'caminhamos', 'trás', 'redargüiu', 'motejando', 'cavalgadura', 'Fiquei', 'vexado', 'aturdido', 'enfadonha', 'extravagante', 'incômodo', 'condução', 'violenta', 'impalpável', 'cogitações', 'chegássemos', 'indicado', 'irritados', 'devassarem', 'esmagassem', 'unhas', 'seculares', 'eles', 'Enquanto', 'pensava', 'íamos', 'devorando', 'voava', 'debaixo', 'pés', 'estacou', 'torno', 'Olhar', 'além', 'imensa', 'brancura', 'desta', 'invadira', 'espaços', 'enorme', 'brutesca', 'meneando', 'vento', 'largas', 'silêncio', 'sepulcro', 'dissera', 'ficara', 'estúpida', 'Caiu', 'destacou', 'vulto', 'imenso', 'fitando', 'rutilantes', 'nessa', 'vastidão', 'formas', 'selváticas', 'escapava', 'compreensão', 'contornos', 'perdiam', 'ambiente', 'espesso', 'muita', 'diáfano', 'Estupefato', 'sequer', 'soltar', 'grito', 'breve', 'perguntei', 'Chama', 'Pandora', 'tua', 'mãe', 'inimiga', 'ouvir', 'recuei', 'susto', 'soltou', 'gargalhada', 'produziu', 'tufão', 'plantas', 'torceram', 'gemido', 'quebrou', 'mudez', 'externas', 'assustes', 'inimizade', 'mata', 'afirma', 'Vives', 'flagelo', 'Vivo', 'enterrando', 'certificar', 'existência', 'Sim', 'vives', 'receies', 'perder', 'andrajo', 'teu', 'orgulho', 'provarás', 'pão', 'miséria', 'ensandeceste', 'reouver', 'sagacidade', 'dirás', 'queres', 'viver', 'Dizendo', 'visão', 'braço', 'segurou', 'pluma', 'Só', 'perto', 'rosto', 'Nada', 'quieto', 'contorção', 'expressão', 'ódio', 'ferocidade', 'única', 'geral', 'impassibilidade', 'egoísta', 'surdez', 'vontade', 'imóvel', 'Raivas', 'ficavam', 'encerradas', 'coração', 'glacial', 'juventude', 'mescla', 'força', 'viço', 'débil', 'decrépito', 'seres', 'Entendeste', 'mútua', 'respondi', 'entender', 'és', 'absurda', 'fábula', 'sonhando', 'enlouqueci', 'passas', 'concepção', 'alienado', 'vã', 'razão', 'ausente', 'reger', 'palpar', 'conheço', 'traz', 'indiferente', 'Porque', 'levo', 'bolsa', 'bens', 'males', 'maior', 'esperança', 'consolação', 'Tremes', 'fascina', 'estás', 'devolver', 'emprestei', 'Grande', 'lascivo', 'espera', 'voluptuosidade', 'Quando', 'ecoou', 'trovão', 'naquele', 'afigurou', 'último', 'ouvidos', 'decomposição', 'súbita', 'Então', 'encarei', 'súplices', 'pedi', 'Pobre', 'exclamou', 'instantes', 'devorar', 'devorado', 'farto', 'luta', 'Conheces', 'sobejo', 'deparei', 'torpe', 'aflitivo', 'alvor', 'quietação', 'noite', 'aspectos', 'Terra', 'sono', 'benefício', 'idiota', 'Viver', 'peço', 'amo', 'hás', 'golpear', 'ti', 'matando', 'preciso', 'passa', 'vem', 'jucundo', 'supõe', 'trazer', 'perece', 'subsiste', 'Egoísmo', 'dizes', 'egoísmo', 'tenho', 'lei', 'conservação', 'onça', 'novilho', 'raciocínio', 'deve', 'tenro', 'eis', 'estatuto', 'universal', 'Sobe', 'olha', 'Isto', 'dizendo', 'alto', 'montanha', 'Inclinei', 'vertentes', 'largo', 'através', 'nevoeiro', 'Imagina', 'redução', 'desfilar', 'raças', 'tumulto', 'Impérios', 'guerra', 'apetites', 'ódios', 'destruição', 'recíproca', 'Tal', 'acerbo', 'intensidade', 'podiam', 'dar', 'lenta', 'enquanto', 'condensação', 'viva', 'descrevê', 'seria', 'fixar', 'relâmpago', 'Os', 'desfilavam', 'turbilhão', 'obstante', 'passava', ',\\x97', 'flagelos', 'multiplicando', 'agravando', 'debilidade', 'Aí', 'vinham', 'cobiça', 'devora', 'cólera', 'inveja', 'enxada', 'úmidas', 'suor', 'ambição', 'fome', 'vaidade', 'riqueza', 'agitavam', 'chocalho', 'destruí', 'farrapo', 'Eram', 'ora', 'mordia', 'víscera', 'pensamento', 'passeava', 'eternamente', 'vestes', 'arlequim', 'derredor', 'espécie', 'cedia', 'indiferença', 'sonhos', 'bastarda', 'flagelado', 'rebelde', 'corria', 'fatalidade', 'atrás', 'nebulosa', 'esquiva', 'retalhos', 'retalho', 'improvável', 'invisível', 'cosidos', 'precário', 'agulha', 'quimera', 'fugia', 'perpetuamente', 'apanhar', 'fralda', 'cingia', 'ria', 'escárnio', 'sumia', 'ilusão', 'contemplar', 'tanta', 'calamidade', 'reter', 'angústia', 'escutou', 'protestar', 'rir', 'transtorno', 'cerebral', 'pus', 'riso', 'descompassado', 'Tens', 'divertida', 'monótona', 'Jó', 'amaldiçoava', 'concebido', 'ganas', 'cima', 'abre', 'digere', 'resposta', 'compelir', 'fortemente', 'baixo', 'continuavam', 'velozes', 'turbulentos', 'gerações', 'superpunham', 'tristes', 'Hebreus', 'cativeiro', 'alegres', 'devassos', 'Cômodo', 'pontuais', 'sepultura', 'Quis', 'retinha', 'vão', 'passando', 'chegará', 'passará', 'dará', 'decifração', 'fixei', 'continuei', 'idades', 'chegando', 'tranqüilo', 'resoluto', 'alegre', 'Cada', 'porção', 'apatia', 'combate', 'erro', 'cortejo', 'sistemas', 'novas', 'deles', 'rebentavam', 'verduras', 'primavera', 'amareleciam', 'remoçar', 'regularidade', 'calendário', 'civilização', 'nu', 'desarmado', 'armava', 'vestia', 'construía', 'tugúrio', 'palácio', 'rude', 'aldeia', 'Tebas', 'portas', 'criava', 'perscruta', 'enleva', 'orador', 'mecânico', 'filósofo', 'face', 'globo', 'subia', 'esfera', 'colaborando', 'entretinha', 'desamparo', 'enfarado', 'distraído', 'futuros', 'Aquele', 'vinha', 'ágil', 'vibrante', 'difuso', 'audaz', 'sabedor', 'miserável', 'passaram', 'rapidez', 'monotonia', 'Redobrei', 'fitei', 'vista', '!;', 'marcha', 'toda', 'entraram', 'objetos', 'trocarem', 'cresceram', 'minguaram', 'perderam', 'cobriu', 'trouxera', 'começou', 'diminuir', 'tamanho', 'gato', 'efetivamente', 'Encarei', 'Sultão', 'brincava', 'bola', 'papel', 'VIII', 'RAZÃO', 'CONTRA', 'SANDICE', 'compreendeu', 'Razão', 'voltava', 'convidava', 'Sandice', 'clamando', 'jus', 'Tartufo', 'La', 'maison', 'est', 'moi', 'c', 'vous', 'd', 'en', 'sortir', 'sestro', 'antigo', 'criar', 'casas', 'alheias', 'dificilmente', 'lha', 'farão', 'despejar', 'tira', 'calejou', 'vergonha', 'advertirmos', 'número', 'ocupa', 'estações', 'calmosas', 'concluiremos', 'amável', 'peregrina', 'terror', 'proprietários', 'quase', 'distúrbio', 'adventícia', 'queria', 'entregar', 'dona', 'intenção', 'Afinal', 'contentava', 'cantinho', 'sótão', 'cansada', 'ceder', 'sótãos', 'experimentada', 'você', 'mansamente', 'sala', 'jantar', 'visitas', 'resto', 'Está', 'deixe', 'pista', 'mistério', 'emendou', 'Hás', 'travou', 'pulsos', 'arrastou', 'fechou', 'gemeu', 'súplicas', 'grunhiu', 'zangas', 'desenganou', 'depressa', 'deitou', 'surriada', 'andando', 'IX', 'TRANSIÇÃO', 'vejam', 'destreza', 'transição', 'Vejam', 'grão', 'pecado', 'meninice', 'esforço', '20', 'outubro', '1805', 'nasci', 'juntura', 'aparente', 'divirta', 'pausada', 'rigidez', 'indispensável', 'tê', 'gravata', 'suspensórios', 'fresca', 'solta', 'vizinha', 'fronteira', 'inspetor', 'quarteirão', 'eloqüência', 'feiticeira', 'tesa', 'engomada', 'chocha', 'NAQUELE', 'DIA', 'Naquele', 'árvore', 'brotou', 'graciosa', 'Nasci', 'recebeu', 'Pascoela', 'insigne', 'parteira', 'minhota', 'gabava', 'aberto', 'geração', 'fidalgos', 'ouvisse', 'declaração', 'paterno', 'induziu', 'gratificá', 'meias', 'dobras', 'Lavado', 'enfaixado', 'prognosticava', 'respeito', 'quadrava', 'sabor', 'achava', 'Bonaparte', 'náuseas', 'Ildefonso', 'padre', 'farejava', 'Cônego', 'admiraria', 'destinasse', 'bispado', 'mano', 'Bento', 'quisesse', 'alçava', 'intentasse', 'mostrar', 'cidade', 'inteligente', 'bonito', 'Digo', 'ouvi', 'narrar', 'ignoro', 'pormenores', 'Sei', 'vizinhança', 'mandou', 'cumprimentar', 'recém', 'primeiras', 'semanas', 'foram', 'cadeirinha', 'trabalhasse', 'aventou', 'casaca', 'calção', 'conto', 'mimos', 'beijos', 'admirações', 'bênçãos', 'contasse', 'acabaria', 'acabá', 'Item', 'batizado', 'referiram', 'galhardas', 'festas', 'ano', 'seguinte', '1806', 'batizei', 'igreja', 'Domingos', 'terça', 'claro', 'luminoso', 'padrinhos', 'Coronel', 'Rodrigues', 'Matos', 'descendiam', 'velhas', 'famílias', 'Norte', 'honravam', 'sangue', 'veias', 'outrora', 'derramado', 'contra', 'Holanda', 'Cuido', 'nomes', 'aprendi', 'certamente', 'revelava', 'precoce', 'pessoa', 'estranha', 'obrigassem', 'recitá', 'diga', 'padrinho', 'Excelentíssimo', 'Senhor', 'Paulo', 'Vaz', 'Lobo', 'César', 'Andrade', 'Sousa', 'madrinha', 'Excelentíssima', 'Senhora', 'D', 'Maria', 'Luísa', 'Resende', 'esperto', 'menino', 'exclamavam', 'ouvintes', 'Muito', 'concordava', 'babavam', 'espalmava', 'fitava', 'namorado', 'comecei', 'andar', 'apressar', 'obrigavam', 'cedo', 'agarrar', 'cadeiras', 'pegavam', 'carrinhos', 'pau', 'nhonhô', 'mucama', 'atraído', 'lata', 'agitava', 'frente', 'cai', 'acolá', 'andava', 'fiquei', 'XI', 'MENINO', 'PAI', 'HOMEM', 'Cresci', 'nisso', 'interveio', 'cresci', 'naturalmente', 'crescem', 'magnólias', 'gatos', 'matreiros', 'inquietas', 'infância', 'vejamos', 'lineamentos', 'Desde', 'merecera', 'alcunha', 'diabo', '\\x94;', 'malignos', 'arguto', 'indiscreto', 'traquinas', 'voluntarioso', 'quebrei', 'escrava', 'negara', 'colher', 'coco', 'fazendo', 'contente', 'malefício', 'deitei', 'cinza', 'tacho', 'travessura', 'estragara', 'pirraça', 'seis', 'Prudêncio', 'moleque', 'punha', 'recebia', 'cordel', 'queixos', 'guisa', 'trepava', 'dorso', 'varinha', 'fustigava', 'mil', 'voltas', 'obedecia', 'gemendo', 'ai', 'Cala', 'besta', 'Esconder', 'chapéus', 'deitar', 'rabos', 'puxar', 'rabicho', 'cabeleiras', 'matronas', 'façanhas', 'jaez', 'eram', 'mostras', 'gênio', 'indócil', 'devo', 'expressões', 'robusto', 'admiração', 'repreendia', 'formalidade', 'conclua', 'levasse', 'todo', 'quebrar', 'esconder', 'opiniático', 'algo', 'contemptor', 'passei', 'puxei', 'Outrossim', 'afeiçoei', 'injustiça', 'inclinei', 'atenuá', 'explicá', 'classifiquei', 'partes', 'entendê', 'padrão', 'rígido', 'circunstâncias', 'Minha', 'doutrinava', 'decorar', 'preceitos', 'orações', 'governavam', 'nervos', 'boa', 'regra', 'perdia', 'tornar', 'mingau', 'pedia', 'perdoasse', 'perdoava', 'devedores', 'maldade', 'alvoroço', 'pancadinhas', 'cara', 'exclamava', 'Ah', 'brejeiro', 'ah', 'adorava', 'fraca', 'crédula', 'sinceramente', 'piedosa', 'caseira', 'apesar', 'bonita', 'modesta', 'abastada', 'temente', 'trovoadas', 'marido', 'deus', 'colaboração', 'criaturas', 'nasceu', 'educação', 'viciosa', 'incompleta', 'negativa', 'reparos', 'irmão', 'liberdade', 'ensino', 'afeição', 'emenda', 'aplicava', 'sistema', 'inteiramente', 'superior', 'usado', 'confundir', 'iludia', 'envolta', 'transmissão', 'doméstico', 'Vimos', 'pais', 'conversa', 'picaresca', 'admitir', 'anedotas', 'reais', 'eivadas', 'obscenidade', 'imundície', 'respeitava', 'adolescência', 'batina', 'enveredava', 'assunto', 'escabroso', 'entendendo', 'achando', 'procurava', 'gostava', 'doces', 'levava', 'passeio', 'Em', 'aconteceu', 'achá', 'fundo', 'lavadouro', 'palestrar', 'escravas', 'batiam', 'roupa', 'desfiar', 'ditos', 'perguntas', 'estalar', 'risadas', 'pretas', 'tanga', 'arregaçar', 'palmo', 'vestidos', 'tanque', 'inclinadas', 'peças', 'batê', 'las', 'ensaboá', 'torcê', 'iam', 'redargüindo', 'pilhérias', 'comentá', 'Cruz', '!...', 'sinhô', 'Esse', 'austeridade', 'pureza', 'dotes', 'contudo', 'realçavam', 'compensavam', 'medíocre', 'visse', 'substancial', 'externo', 'hierarquia', 'preeminências', 'sobrepelizes', 'circunflexões', 'sacristia', 'altar', 'lacuna', 'ritual', 'excitava', 'infração', 'mandamentos', 'tantos', 'distância', 'poderia', 'atinar', 'facilmente', 'trecho', 'Tertuliano', 'titubear', 'símbolo', 'Nicéia', 'cantadas', 'sabia', 'casos', 'cortesias', 'oficiante', 'dignidade', 'aspirar', 'Piedoso', 'severo', 'costumes', 'minucioso', 'observância', 'regras', 'frouxo', 'acanhado', 'subalterno', 'virtudes', 'exemplar', 'carecia', 'absolutamente', 'incutir', 'impor', 'tia', 'materna', 'Emerenciana', 'autoridade', 'diferençava', 'grandemente', 'viveu', 'companhia', 'Outros', 'parentes', 'íntimos', 'merecem', 'citados', 'tivemos', 'intermitente', 'claros', 'separação', 'indicada', 'vulgaridade', 'frouxidão', 'domínio', 'capricho', 'Dessa', 'estrume', 'XII', 'UM', 'EPISÓDIO', '1814', 'episódio', 'Napoleão', 'esplendor', 'poder', 'imperador', 'granjeara', 'nobreza', 'acabara', 'persuadindo', 'nutria', 'puramente', 'mental', 'renhidas', 'contendas', 'classe', 'simpatia', 'déspota', 'admirava', 'general', 'inflexível', 'corso', 'dividiam', 'controvérsias', 'rusgas', 'Chegando', 'notícia', 'queda', 'abalo', 'chasco', 'remoque', 'vencidos', 'testemunhas', 'regozijo', 'julgaram', 'decoroso', 'bateram', 'palmas', 'população', 'cordialmente', 'regateou', 'afeto', 'real', 'iluminações', 'salvas', 'Te', 'Deum', 'aclamações', 'Figurei', 'nesses', 'espadim', 'dera', 'Santo', 'Antônio', 'francamente', 'interessava', 'Nunca', 'esqueceu', 'fenômeno', 'pensar', 'espada', 'notem', 'vivo', 'li', 'página', 'rumorosa', 'maiores', 'aplausos', 'arrancavam', 'ecoava', 'conceito', 'experimentado', 'Vai', 'cuidas', 'contentou', 'quinhão', 'anônimo', 'oportuno', 'celebrar', 'destituição', 'ruído', 'ministros', 'feito', 'abaixo', 'prataria', 'herdada', 'avô', 'vieram', 'toalhas', 'Flandres', 'jarras', 'Índia', 'capado', 'encomendaram', 'madres', 'Ajuda', 'compotas', 'marmeladas', 'lavaram', 'arearam', 'poliram', 'salas', 'escadas', 'castiçais', 'arandelas', 'vastas', 'mangas', 'vidro', 'aparelhos', 'luxo', 'clássico', 'Dada', 'reunida', 'sociedade', 'seleta', 'juiz', 'oficiais', 'militares', 'comerciantes', 'letrados', 'funcionários', 'administração', 'mulheres', 'filhas', 'comungando', 'desejo', 'atolar', 'memória', 'papo', 'peru', 'Dr', 'Vilaça', 'glosador', 'acrescentou', 'pratos', 'acepipe', 'musas', 'Lembra', 'fosse', 'ontem', 'erguer', 'longa', 'cabeleira', 'seda', 'esmeralda', 'dedo', 'pedir', 'repetisse', 'mote', 'repetido', 'cravar', 'testa', 'tossir', 'alçar', 'direita', 'fechada', 'índice', 'apontava', 'teto', 'posto', 'composto', 'glosado', 'glosa', 'jurou', 'deuses', 'acabar', 'Pedia', 'lho', 'glosava', 'prontamente', 'calar', 'nunca', 'Bocage', 'Lisboa', 'Aquilo', 'facilidade', 'versos', 'Tivemos', 'lutas', 'botequim', 'Nicola', 'glosarmos', 'bravos', 'Imenso', 'Duquesa', 'Cadaval', 'últimas', 'expressas', 'ênfase', 'produziram', 'assembléia', 'frêmito', 'pasmo', 'pleitear', 'poetas', 'discreteava', 'duquesas', 'contato', 'sentiam', 'superfinas', 'olhavam', 'raros', 'incredulidade', 'Ele', 'acumular', 'adjetivo', 'advérbio', 'rimas', 'tirano', 'usurpador', 'sobremesa', 'comer', 'intervalo', 'glosas', 'burburinho', 'palavrear', 'estômagos', 'satisfeitos', 'moles', 'úmidos', 'cálidos', 'espreguiçavam', 'saltitavam', 'ponta', 'mesa', 'atulhada', 'frutas', 'ananás', 'fatias', 'melão', 'talhadas', 'compoteiras', 'cristal', 'finamente', 'ralado', 'amarelo', 'gema', 'melado', 'escuro', 'queijo', 'cará', 'jovial', 'amplo', 'desabotoado', 'banquete', 'interesse', 'pequenos', 'moças', 'falavam', 'modinhas', 'haviam', 'cantar', 'cravo', 'minuete', 'solo', 'inglês', 'faltava', 'matrona', 'prometesse', 'bailar', 'oitavado', 'compasso', 'folgara', 'bons', 'criança', 'recente', 'negros', 'novos', 'estavam', 'recebera', 'Loanda', 'sobrinho', 'negociado', 'quarenta', 'cabeças', 'Trazia', 'justamente', 'algibeira', 'ler', 'naquela', 'afiançava', 'cento', 'Trás', 'batendo', 'rumor', 'cessava', 'súbito', 'estacado', 'voltavam', 'aconcheava', 'orelha', 'aplauso', 'trivial', 'cândido', 'solitário', 'deslembrado', 'namorar', 'certa', 'compota', 'esperando', 'continuava', 'intata', 'lembrava', 'saboreava', 'goles', 'extensos', 'alegria', 'convivas', 'mirava', 'carões', 'flores', 'deliciava', 'familiaridade', 'travada', 'distantes', 'espíritos', 'influxo', 'arrastava', 'ma', 'servisse', 'sucediam', 'bátegas', 'obrigando', 'recolher', 'pedido', 'Pacientei', 'quanto', 'Pedi', 'baixa', 'bradei', 'berrei', 'bati', 'capaz', 'exigisse', 'escravo', 'servir', 'arrancara', 'cadeira', 'entregara', 'gritos', 'repelões', 'delito', 'retardara', 'exclusão', 'Tanto', 'bastou', 'cogitasse', 'vingança', 'qualquer', 'maneira', 'tornasse', 'ridículo', 'medido', 'lento', 'sete', 'casado', 'rabo', 'Entrei', 'espreitá', 'segui', 'aonde', 'desceram', 'Vi', 'conversar', 'Eusébia', 'sargento', 'Domingues', 'robusta', 'donzelona', 'feia', 'senhor', 'quê', 'sina', 'Tinham', 'penetrado', 'pequena', 'moita', 'lusco', 'fusco', 'chispas', 'volúpia', 'Deixe', 'anjo', 'Você', 'morrerei', '?...', 'morro', 'saudades', 'lenço', 'vasculhava', 'pedaço', 'literário', 'verifiquei', 'óperas', 'Judeu', 'chores', 'queiras', 'amanheça', 'auroras', 'Disse', 'puxou', 'resistiu', 'uniram', 'rostos', 'leve', 'beijo', 'medroso', 'correndo', 'Foi', 'estouro', 'estupefação', 'imobilizou', 'espraiavam', 'banda', 'trocavam', 'sorrisos', 'segredos', 'socapa', 'mães', 'arrastavam', 'pretextando', 'sereno', 'disfarçadamente', 'irritado', 'indiscrição', 'almoço', 'lembrando', 'sacudiu', 'XIII', 'SALTO', 'Unamos', 'demos', 'escrever', 'cacholetas', 'apanhá', 'diabruras', 'morros', 'praias', 'propício', 'ociosos', 'amarguras', 'ralhos', 'castigos', 'lições', 'árduas', 'pesada', 'palmatória', 'Ó', 'pueris', 'foste', 'compelle', 'intrare', 'velho', 'mestre', 'ossudo', 'calvo', 'incutiu', 'alfabeto', 'prosódia', 'sintaxe', 'benta', 'praguejada', 'modernos', 'ficado', 'sob', 'jugo', 'imberbe', 'ignorâncias', 'aquele', 'querias', 'letras', 'Lição', 'compostura', 'aula', 'metias', 'meteste', 'zanga', 'tuas', 'chinelas', 'couro', 'branco', 'capote', 'calva', 'mostra', 'barba', 'rapada', 'sentar', 'bufar', 'absorver', 'pitada', 'inicial', 'chamar', 'lição', 'fizeste', 'pontual', 'metido', 'casinha', 'Rua', 'Piolho', 'enfadar', 'mediocridade', 'mergulho', 'trevas', 'chorou', 'salvo', 'rudimentos', 'escrita', 'Chamava', 'Ludgero', 'nesta', 'Barata', 'funesto', 'servia', 'meninos', 'eterno', 'chufas', 'Quincas', 'Borba', 'cruel', 'pobre', 'Duas', 'semana', 'calças', 'enfiar', '\\x97,', 'gaveta', 'tinteiro', 'barata', 'morta', 'encontrava', 'pulo', 'circulava', 'chamejantes', 'últimos', 'éramos', 'sevandijas', 'capadócios', 'malcriados', 'moleques', 'Uns', 'tremiam', 'rosnavam', 'espetados', 'achei', 'gracioso', 'inventivo', 'travesso', 'viúva', 'amimado', 'asseado', 'enfeitado', 'vistoso', 'pajem', 'gazear', 'caçar', 'ninhos', 'pássaros', 'perseguir', 'lagartixas', 'Livramento', 'Conceição', 'simplesmente', 'arruar', 'toa', 'peraltas', 'emprego', 'Espírito', 'jogos', 'escolhia', 'supremacia', 'garbo', 'magnificência', 'atitudes', 'meneios', 'Suspendamos', 'adiantemos', '1822', 'data', 'independência', 'pessoal', 'XIV', 'BEIJO', 'dezessete', 'pungia', 'buçozinho', 'forcejava', 'bigode', 'resolutos', 'máscula', 'ostentasse', 'arrogância', 'distinguia', 'ares', 'lindo', 'garção', 'entrava', 'botas', 'esporas', 'chicote', 'cavalgando', 'corcel', 'nervoso', 'rijo', 'veloz', 'antigas', 'baladas', 'romantismo', 'buscar', 'medieval', 'ruas', 'estafaram', 'deitá', 'margem', 'realismo', 'achar', 'comido', 'lazeira', 'vermes', 'compaixão', 'transportou', 'airoso', 'abastado', 'imagina', 'inclinou', 'fronte', 'pensativa', 'cobiçosos', 'cativou', 'casto', 'castíssimo', 'espanhola', 'Marcela', 'linda', '\\x94,', 'chamavam', 'rapazes', 'tinham', 'hortelão', 'Astúrias', 'sinceridade', 'aceita', 'nascera', 'letrado', 'Madri', 'vítima', 'invasão', 'francesa', 'ferido', 'encarcerado', 'espingardeado', 'doze', 'Cosas', 'España', 'inocência', 'rústica', 'código', 'moça', 'lépida', 'escrúpulos', 'tolhida', 'permitia', 'arrastar', 'pelas', 'estouvamentos', 'berlindas', 'luxuosa', 'impaciente', 'dinheiro', 'morria', 'tísico', 'pérola', 'Rocio', 'luminárias', 'constou', 'amanhecer', 'Éramos', 'povo', 'vínhamos', 'arrebatamentos', 'airosa', 'vistosa', 'esbelto', 'ondulante', 'desgarre', 'achara', 'puras', 'Segue', 'ordem', 'dada', 'chamaram', 'lembrou', 'ouvira', 'tonto', 'Três', 'perguntou', 'segredo', 'ceia', 'Cajueiros', 'Fomos', 'tubérculos', 'presidia', 'noturno', 'comi', 'gentil', 'meia', 'dúzia', 'partido', 'bonitas', 'cheias', 'entusiasmo', 'imperioso', 'estouvado', 'saída', 'esperasse', 'tornei', 'subir', 'Esqueceu', 'patamar', 'Ela', 'segurei', 'dei', 'gritou', 'desci', 'incerto', 'ébrio', 'XV', 'MARCELA', 'Gastei', 'cego', 'asno', 'teimoso', 'meios', 'granjear', 'violento', 'touro', 'Europa', 'insinuativo', 'cisne', 'Leda', 'ouro', 'Danae', 'inventos', 'Padre', 'Zeus', 'estarem', 'moda', 'ficam', 'trocados', 'traças', 'urdi', 'peitas', 'alternativas', 'temor', 'esperas', 'baldadas', 'preliminares', 'Afirmo', 'Sancho', 'citado', 'período', 'apeei', 'anca', 'mandei', 'pastar', 'Primeira', 'comoção', 'criação', 'bíblica', 'bater', 'chapa', 'contaste', 'dezoito', 'deves', 'lembrar', 'Teve', 'fases', 'ligação', 'curo', 'teve', 'fase', 'consular', 'imperial', 'curta', 'regemos', 'jamais', 'acreditasse', 'dividir', 'credulidade', 'resistir', 'evidência', 'depôs', 'insígnias', 'concentrei', 'poderes', 'cesariana', 'universo', 'multiplicá', 'inventá', 'Primeiro', 'explorei', 'larguezas', 'repreensão', 'demora', 'frieza', 'extremo', 'abuso', 'restringiu', 'franquezas', 'recorri', 'induzi', 'desviar', 'escondidas', 'lancei', 'recurso', 'entrei', 'sacar', 'herança', 'assinar', 'obrigações', 'resgatar', 'usura', 'jóia', 'brigar', 'faça', 'caro', 'dedos', 'procurar', 'ensaiá', 'beijar', 'reincidência', 'impetuosa', 'sincera', 'protestando', 'derramava', 'feliz', 'Gostava', 'nossas', 'quantas', 'obter', 'juntava', 'caixinha', 'ferro', 'chave', 'soube', 'escondia', 'escravos', 'morava', 'própria', 'sólidos', 'móveis', 'jacarandá', 'lavrado', 'demais', 'alfaias', 'espelhos', 'baixela', 'doara', 'desembargador', 'Baixela', 'dissimulava', 'tédio', 'faziam', 'esses', 'despojos', 'antanho', 'ouvia', 'cândida', 'entendia', 'relembrando', 'penso', 'misto', 'criatura', 'nascesse', 'bruxa', 'Shakespeare', 'serafim', 'Klopstock', 'explico', 'zelos', 'tardios', 'açular', 'colar', 'vira', 'joalheiro', 'gracejo', 'precisava', 'estímulo', 'perdôo', 'fizer', 'concluiu', 'ameaçando', 'passarinho', 'espalmou', 'cingiu', 'trejeito', 'momo', 'Depois', 'reclinada', 'marquesa', 'continuou', 'daquilo', 'simplicidade', 'franqueza', 'Jamais', 'consentiria', 'comprassem', 'afetos', 'Vendera', 'guardava', 'Duarte', 'alferes', 'amara', 'custo', 'conseguia', 'valor', 'acontecia', 'aceitava', 'relutância', 'escasso', 'preço', 'cruz', 'Esta', 'Dizia', 'metendo', 'seio', 'tirando', 'fina', 'presa', 'fita', 'colo', 'observei', 'disseste', 'lástima', 'percebeste', 'mentira', 'molestar', 'Vem', 'chiquito', 'sejas', 'desconfiado', 'Amei', 'separarmos', 'digas', 'cessa', 'soluço', 'estrangulou', 'tomou', 'conchegou', 'sussurrou', 'ouvido', 'agradeci', 'levei', 'recusado', 'lembrares', 'indignado', 'magnífico', 'tentou', 'atirar', 'retive', 'fizesse', 'desfeita', 'ficasse', 'Entretanto', 'farta', 'sacrifícios', 'espreitava', 'recônditos', 'pensamentos', 'acudisse', 'razoável', 'criancice', 'trajar', 'enfeites', 'vestido', 'palreira', 'Arábias', 'pôr', 'renda', 'brincos', 'obediência', 'encantar', 'XVI', 'REFLEXÃO', 'IMORAL', 'Ocorre', 'imoral', 'correção', 'estilo', 'vivia', 'afirmam', 'joalheiros', 'gramática', 'Bons', 'vossos', 'dixes', 'fiados', 'terço', 'quinto', 'comércio', 'pretendia', 'obscura', 'entende', 'cingir', 'diadema', 'pedras', 'finas', 'amada', 'amou', 'XVII', 'TRAPÉZIO', 'OUTRAS', 'COISAS', 'quinze', 'meses', 'réis', 'aragem', 'sobressaltou', 'excedia', 'raias', 'Desta', 'vais', 'cursar', 'Universidade', 'sério', 'arruador', 'gatuno', 'espanto', 'Gatuno', 'Sacou', 'títulos', 'dívida', 'resgatados', 'mos', 'Vês', 'peralta', 'zelar', 'Pensas', 'ganhamos', 'jogo', 'vadiar', 'Pelintra', 'tomas', 'juízo', 'ficas', 'Estava', 'furioso', 'furor', 'temperado', 'opus', 'ruminava', 'levar', 'Fui', 'expus', 'crise', 'fiz', 'proposta', 'responder', 'insistisse', 'dolente', 'respirar', 'aqueles', 'Qual', 'advogado', 'franziu', 'cantarolou', 'seguidilha', 'dentes', 'queixou', 'calor', 'copo', 'aluá', 'Trouxe', 'salva', 'ofereceu', 'polidamente', 'refresco', 'entornou', 'líquido', 'regaço', 'preta', 'Ficando', 'sós', 'derramei', 'desespero', 'monstro', 'tivera', 'deixara', 'descer', 'desculpa', 'feios', 'gestos', 'descompostos', 'sentada', 'fria', 'mármore', 'Tive', 'estrangular', 'humilhar', 'subjugando', 'Ia', 'fazê', 'ação', 'trocou', 'noutra', 'atirei', 'contrito', 'súplice', 'beijei', 'lhos', 'recordei', 'solitária', 'repeti', 'queridos', 'sentado', 'joelhos', 'apertando', 'ofegante', 'desvairado', 'desamparasse', 'esteve', 'calados', 'brandamente', 'desviou', 'enfastiado', 'aborreça', 'Levantou', 'molhado', 'caminhou', 'lançar', 'entrara', 'fechara', 'Saí', 'desatinado', 'gastei', 'mortais', 'vaguear', 'bairros', 'excêntricos', 'desertos', 'mastigando', 'gula', 'mórbida', 'evocava', 'comprazia', 'aquilo', 'pesadelo', 'enganando', 'tentava', 'rejeitá', 'fardo', 'inútil', 'resolvia', 'embarcar', 'imediatamente', 'metades', 'deleitava', 'sabendo', 'partida', 'ralada', 'remorsos', 'tonta', 'Nisto', 'dente', 'ciúme', 'enterrava', 'bradava', 'ferindo', 'punhada', 'Enfim', 'salvadora', 'pecados', 'concepções', 'abstrusas', 'trabalhou', ').', 'fasciná', 'deslumbrá', 'arrastá', 'concreto', 'súplica', 'medi', 'conseqüências', 'derradeiro', 'empréstimo', 'Ourives', 'comprei', 'diamantes', 'encastoados', 'pente', 'marfim', 'corri', 'rede', 'mole', 'cansado', 'pendentes', 'pezinho', 'calçado', 'soltos', 'derramados', 'sonolento', 'arranjei', 'recursos', 'temos', 'terás', 'quiseres', 'Olha', 'toma', 'mostrei', 'sobressalto', 'ergueu', 'apoiada', 'cotovelo', 'olhou', 'curtos', 'retirou', 'dominado', 'coligi', 'enlacei', 'pressa', 'improvisei', 'toucado', 'alinho', 'rematei', 'aproximar', 'madeixas', 'abaixei', 'busquei', 'simetria', 'desordem', 'minuciosidade', 'carinho', 'Pronto', 'Doudo', 'pagar', 'sacrifício', 'ardente', 'tirou', 'admirou', 'matéria', 'lavor', 'olhando', 'abanando', 'Vens', 'gostei', 'parede', 'impressão', 'desvaneceu', 'resolutamente', 'embarcas', 'Daqui', 'Agradeci', 'achado', 'sorriu', 'guardar', 'escada', 'VISÃO', 'CORREDOR', 'corredor', 'parei', 'apalpar', 'convocar', 'dispersas', 'reaver', 'sensações', 'profundas', 'contrárias', 'Achava', 'Certo', 'corrompiam', 'amar', 'gregos', 'confiava', 'defeitos', 'amava', 'murmurei', 'desconfiança', 'chispava', 'Bakbarah', 'Mil', 'Noites', 'correr', 'vizir', 'galeria', 'acenar', 'posse', 'alameda', 'comprida', 'donde', 'saíste', 'correeiros', 'apuparam', 'desancaram', 'Bagdá', 'calçada', 'libré', 'paisana', 'tomaram', 'meteram', 'sege', 'esquerda', 'boléia', 'intendente', 'polícia', 'transportado', 'galera', 'seguir', 'Imaginem', 'resisti', 'resistência', 'barra', 'abatido', 'mudo', 'chorava', 'Malditas', 'fixas', 'oceano', 'repetindo', 'XIX', 'BORDO', 'passageiros', 'doido', 'criados', 'recomendou', 'começando', 'navio', 'cuidar', 'tísica', 'grau', 'suspeitou', 'fúnebre', 'projeto', 'sobreaviso', 'tirava', 'camilha', 'rasa', 'afiançar', 'arredores', 'transparente', 'morresse', 'fingia', 'próxima', 'enganar', 'importava', 'ensejo', 'Subi', 'cauteloso', 'encontrei', 'junto', 'amurada', 'fitos', 'horizonte', 'estremecendo', 'admiro', 'celestial', 'desmentia', 'aparentemente', 'alheia', 'locuções', 'rebuscadas', 'Fitei', 'saborear', 'segundos', 'pegou', 'apontou', 'ode', 'rosnou', 'passos', 'meteu', 'bolso', 'sacou', 'amarrotado', 'lanterna', 'leu', 'horaciana', 'marítima', 'apertou', 'agradecimentos', 'recitou', 'sonetos', 'recitar', 'vou', 'terceiro', 'soneto', 'pausa', 'musa', 'varrera', 'maus', 'preferi', 'dormir', 'interino', 'acordamos', 'pulos', 'mandava', 'berlinda', 'loucura', 'esquecer', 'hedionda', 'gentes', 'uivos', 'furacão', 'cantarolar', 'saltarem', 'pálido', 'cabelo', 'arrepiado', 'Às', 'parava', 'erguia', 'ossudas', 'cruzes', 'xadrez', 'argolas', 'desesperadamente', 'entregue', 'rezava', 'santos', 'tempestade', 'amainou', 'Confesso', 'diversão', 'excelente', 'meditava', 'ousei', 'fitá', 'estivera', 'risco', 'Naturalmente', 'versou', 'mar', 'idílios', 'piscatórios', 'ingenuamente', 'poemazinho', 'égloga', 'rematou', 'confidência', 'literária', 'motivos', 'abraçara', 'profissão', 'avó', 'latinas', 'vocação', 'prová', 'centena', 'Notei', 'ademanes', 'usava', 'fizeram', 'recitava', 'olhava', 'passavam', 'águas', 'enferma', 'exclamei', 'Passou', 'moribunda', 'falando', 'descansar', 'propósito', 'consternado', 'vagas', 'costado', 'consolar', 'agradeceu', 'elogiou', 'fidelidade', 'dedicação', 'relembrou', 'buscá', 'corremos', 'cruéis', 'fugi', 'repugnância', 'Meia', 'molho', 'cabos', 'conforto', 'Morreu', 'santa', 'pudessem', 'levadas', 'conta', 'fraqueza', 'fitou', 'profundo', 'entreguemo', 'Efetivamente', 'lançado', 'cerimônias', 'costume', 'tristeza', 'murchara', 'viúvo', 'cabeço', 'rijamente', 'lascado', 'raio', 'abriu', 'acolheu', 'despojo', 'ruga', 'popa', 'dali', 'distraí', 'Obrigado', 'compreendendo', 'esquecerei', 'serviços', 'Leocádia', 'lembrarás', 'Enxugou', 'manga', 'lágrima', 'importuna', 'derivativo', 'poesia', 'Falei', 'lera', 'ofereci', 'imprimi', 'animaram', 'aceite', 'frouxos', 'Jurei', 'reunisse', 'desembarque', 'murmurou', 'epicédio', 'fresco', 'memoradas', 'trêmula', 'dignos', 'tesouro', 'perdera', 'haverá', 'estro', 'ponderou', 'negará', 'prejudicou', 'perfeição', 'perfeitos', 'Versos', 'marujo', 'tremuras', 'acentuando', 'intenções', 'literárias', 'dando', 'relevo', 'imagens', 'melodia', 'acabada', 'predisse', 'futuro', 'XX', 'BACHARELO', 'ME', 'batia', 'devolvia', 'vago', 'expelia', 'desmontava', 'naturalista', 'literato', 'arqueólogo', 'banqueiro', 'político', 'bispo', 'cargo', 'preeminência', 'reputação', 'posição', 'ovo', 'desvendou', 'pupila', 'fulva', 'penetrante', 'Adeus', 'jóias', 'regímen', 'Cá', 'fadigas', 'vos', 'calcinhas', 'desembarquei', 'esperava', 'matérias', 'estudei', 'mediocremente', 'perdi', 'deram', 'solenidade', 'após', 'encheu', 'conquistado', 'folião', 'acadêmico', 'estróina', 'superficial', 'tumultuário', 'petulante', 'aventuras', 'prático', 'liberalismo', 'teórico', 'vivendo', 'fé', 'pretos', 'constituições', 'escritas', 'atestou', 'pergaminho', 'arraigada', 'logrado', 'orgulhoso', 'Explico', 'diploma', 'alforria', 'responsabilidade', 'Guardei', 'margens', 'Mondego', 'vim', 'desconsolado', 'sentindo', 'acotovelar', 'influir', 'prolongar', 'XXI', 'ALMOCREVE', 'empacou', 'jumento', 'montado', 'fustiguei', 'corcovos', 'sela', 'desastre', 'esquerdo', 'preso', 'estribo', 'tento', 'espantado', 'disparou', 'estrada', 'disparar', 'saltos', 'almocreve', 'acudiu', 'pegar', 'rédea', 'detê', 'Dominado', 'bruto', 'desvencilhei', 'vosmecê', 'contundia', 'estaria', 'congestão', 'salvara', 'positivo', 'tornava', 'cuidava', 'consertar', 'arreios', 'zelo', 'Resolvi', 'moedas', 'inestimável', 'recompensa', 'salvou', 'dou', 'apresentando', 'deixa', 'morrendo', 'ajuda', 'alforjes', 'tirei', 'colete', 'cujo', 'cogitei', 'excessiva', 'gratificação', 'bastavam', 'moeda', 'bastante', 'estremeções', 'Examinei', 'Portanto', 'Tirei', 'reluzir', 'voltado', 'costas', 'significativo', 'conselhos', 'tomasse', 'doutor', 'castigá', 'monólogo', 'paternal', 'Valha', 'beijava', 'Olé', 'Queira', 'perdoar', 'bicho', 'Ri', 'cruzado', 'cavalguei', 'trote', 'pratinha', 'braças', 'olhei', 'evidentes', 'contentamento', 'Adverti', 'pagara', 'Meti', 'cobre', 'vinténs', 'devera', 'mira', 'virtude', 'cedeu', 'impulso', 'temperamento', 'hábitos', 'acresce', 'circunstância', 'constituí', 'instrumento', 'Providência', 'mérito', 'ato', 'positivamente', 'pródigo', 'dissipações', '?)', 'XXII', 'VOLTA', 'RIO', 'Jumento', 'figa', 'cortaste', 'pensei', 'península', 'assisti', 'alvoradas', 'efetiva', 'Itália', 'Teria', 'diário', 'entra', 'substância', 'peregrinação', 'atendi', 'vieres', 'acharás', 'bênção', 'bordo', 'verei', 'soluçava', 'ressoavam', 'profecia', 'realizada', 'Note', 'Veneza', 'recendente', 'lord', 'Byron', 'mergulhado', 'pleno', 'sonho', 'revivendo', 'pretérito', 'crendo', 'Sereníssima', 'República', 'perguntar', 'locandeiro', 'doge', 'signor', 'mio', 'Caí', 'confessei', 'gênero', 'charada', 'americana', 'mostrou', 'compreender', 'charadas', 'americanas', 'Ponte', 'Suspiros', 'gôndola', 'lorde', 'Rialto', 'disparei', 'bala', 'direção', 'Vim', 'alonguemos', 'esqueço', 'comendo', 'prejuízo', 'Capítulos', 'compridos', 'quadram', 'pesadões', 'somos', 'in', 'folio', '12', 'larga', 'tipo', 'corte', 'dourado', 'vinhetas', 'XXIII', 'TRISTE', 'MAS', 'CURTO', 'nego', 'avistar', 'natal', 'nova', 'pátria', 'torre', 'chafariz', 'esquina', 'mantilha', 'ganho', 'cenas', 'buriladas', 'renascença', 'pássaro', 'arrepiou', 'original', 'beber', 'mesclada', 'enxurro', 'Reparando', 'Outro', 'tristemente', 'consternação', 'abraçou', 'Tua', 'reumatismo', 'matava', 'cancro', 'estômago', 'infeliz', 'padecia', 'cru', 'roer', 'cair', 'fadiga', 'dormia', 'dedicadas', 'suspendeu', 'tenazes', 'sorriso', 'alumiou', 'asa', 'caveira', 'passara', 'brilhante', 'restavam', 'ossos', 'emagrecem', 'conhecê', 'oito', 'Ajoelhado', 'ousar', 'temíamos', 'avisá', 'Vão', 'verificamo', 'Longa', 'agonia', 'crueldade', 'minuciosa', 'repisada', 'Conhecia', 'outiva', 'petrificada', 'acompanhei', 'embrulhada', 'amplificações', 'retórica', 'professores', 'aleivosa', 'Sócrates', 'orgulhosa', 'Catão', 'duelo', 'dolorida', 'contraída', 'aparelho', 'filosófico', 'encarar', 'chorei', 'garganta', 'boquiaberta', 'Quê', 'dócil', 'meiga', 'verter', 'desgosto', 'carinhosa', 'esposa', 'imaculada', 'trateada', 'mordida', 'tenaz', 'doença', 'misericórdia', 'incongruente', 'insano', 'Triste', 'passemos', 'XXIV', 'ALEGRE', 'prostrado', 'compêndio', 'trivialidade', 'presunção', 'problema', 'oprimira', 'debruçara', 'abismo', 'Inexplicável', 'essencial', 'vertigem', 'refletia', 'opiniões', 'cabeleireiro', 'Módena', 'cabeleireiros', 'demorada', 'operação', 'enfadava', 'intercalava', 'penteadelas', 'motes', 'pulhas', 'cheios', 'pico', 'ensinado', 'decorei', 'fórmulas', 'vocabulário', 'esqueleto', 'Tratei', 'latim', 'embolsei', 'Virgílio', 'Horácio', 'morais', 'políticas', 'despesas', 'conversação', 'jurisprudência', 'Colhi', 'fraseologia', 'casca', 'ornamentação', 'espante', 'exponho', 'realço', 'advirta', 'contraste', 'interesses', 'cobiças', 'obrigam', 'trapos', 'velhos', 'disfarçar', 'rasgões', 'remendos', 'estender', 'revelações', 'obrigação', 'embaçar', 'embaça', 'poupa', 'vexame', 'penosa', 'hipocrisia', 'vício', 'hediondo', 'desabafo', 'sacudir', 'capa', 'fosso', 'lantejoulas', 'despregar', 'despintar', 'desafeitar', 'lisamente', 'suma', 'vizinhos', 'inimigos', 'conhecidos', 'estranhos', 'platéia', 'agudo', 'judicial', 'perde', 'pisamos', 'território', 'estenda', 'examine', 'julgue', 'exame', 'julgamento', 'Senhores', 'incomensurável', 'finados', 'XXV', 'NA', 'TIJUCA', 'Ui', 'escorregar', 'enfático', 'Sejamos', 'sétimo', 'missa', 'travei', 'espingarda', 'charutos', 'meter', 'propriedade', 'forcejou', 'resolução', 'obedecer', 'desejava', 'morar', 'cunhado', 'circunspecto', 'comerciava', 'gêneros', 'estiva', 'labutava', 'ardor', 'perseverança', 'janela', 'encaracolar', 'suíças', 'Amava', 'Diziam', 'avaro', 'Renunciei', 'atônito', 'desabotoar', 'hipocondria', 'amarela', 'cheiro', 'inebriante', 'sutil', 'eco', 'tamarineiro', 'cabisbaixo', 'jururu', 'dizemos', 'galinhas', 'Apertava', 'taciturna', 'aborrecimento', 'Volúpia', 'decora', 'guarda', 'examina', 'chegares', 'podes', 'concluir', 'ignoras', 'sutis', 'caçava', 'lia', 'atoar', 'borboleta', 'vadia', 'faminta', 'pingando', 'caía', 'sombras', 'velavam', 'recomendei', 'expressamente', 'deixassem', 'passada', 'bulício', 'solidão', 'aplacara', 'arvoredo', 'Reagia', 'mocidade', 'baú', 'hipocondríacos', 'camisas', 'meditações', 'gravatas', 'fechá', 'conhecimento', 'mudara', 'véspera', 'roxa', 'situada', 'duzentos', 'lembre', 'Ocorreu', 'adverti', 'acontecimentos', 'evitar', 'relações', 'embarque', 'boquejava', 'misteriosamente', 'menina', 'legado', 'bairro', 'guloso', 'escândalos', 'tratou', 'Ainda', 'dessem', 'finalmente', 'nenhumas', 'estreitas', 'existiam', 'Fiz', 'acabei', 'fechar', 'visitar', 'sinhá', 'vestiu', 'defunta', 'Lembrei', 'enterro', 'ignorava', 'houvesse', 'prestado', 'obséquio', 'ponderação', 'visita', 'determinei', 'XXVI', 'HESITA', 'ouço', 'Olá', 'propostas', 'Sentei', 'comovido', 'conforma', 'conformei', 'almoçado', 'almoçamos', 'aludiu', 'reclusão', 'falamos', 'passagem', 'recair', 'Regência', 'pêsames', 'Regentes', 'mandara', 'amarrotada', 'havê', 'lido', 'Leu', 'agradecer', 'sinal', 'consideração', 'Tu', 'notável', 'hoje', 'Demais', 'trago', 'projetos', 'deputado', 'tom', 'disposição', 'cavá', 'profundamente', 'desdizia', 'fraqueou', 'repetiu', 'encareceu', 'noiva', 'Aceitas', 'entendo', 'urso', 'ursos', 'casam', 'traga', 'ursa', 'Ursa', 'Maior', 'Riu', 'necessária', 'razões', 'deduziu', 'singular', 'volubilidade', 'ilustrando', 'exemplos', 'bastava', 'iria', 'Experimentou', 'fascinação', 'persuasão', 'intimação', 'afiava', 'palito', 'bolas', 'miolo', 'sorrir', 'refletir', 'Sentia', 'apreço', 'aparecia', 'fragilidade', 'afeições', 'definitiva', 'fi', 'ni', 'va', 'sílabas', 'Bebeu', 'gole', 'café', 'repoltreou', 'Senado', 'Câmara', 'restauração', 'Evaristo', 'coche', 'comprar', 'Mata', 'cavalos', 'desvairadamente', 'lápis', 'traçava', 'frase', 'verso', 'triângulo', 'repetia', 'acaso', 'arma', 'virumque', 'cano', 'Arma', 'Maquinalmente', 'lógica', 'dedução', 'sílaba', 'Vir', 'despeitado', 'lançou', 'És', 'XXVII', 'VIRGÍLIA', 'assistir', 'contava', 'dezesseis', 'atrevida', 'raça', 'voluntariosa', 'coubesse', 'primazia', 'mocinhas', 'sobredoura', 'fecha', 'sardas', 'espinhas', 'maculasse', 'sarda', 'espinha', 'saía', 'cheia', 'feitiço', 'indivíduo', 'fins', 'clara', 'faceira', 'ignorante', 'pueril', 'misteriosos', 'preguiça', 'devoção', 'retrato', 'físico', 'lês', 'fores', 'páginas', 'vierem', 'reparas', 'linguagem', 'Crê', 'sincero', 'rabugento', 'injusto', 'discernir', 'exprimi', 'indiscreta', 'ignorantona', 'restaurar', 'tocar', 'instabilidade', 'impressões', 'Deixa', 'Pascal', 'caniço', 'pensante', 'errata', 'estação', 'corrige', 'anterior', 'será', 'corrigida', 'editor', 'XXVIII', 'CONTANTO', 'interrompi', 'pateta', 'altura', 'azougue', 'Dutra', 'Conselheiro', 'conheces', 'influência', 'aceitas', 'botim', 'declarei', 'disposto', 'examinar', 'candidatura', 'contanto', 'Contanto', 'fique', 'obrigado', 'aceitar', 'separadamente', 'Todo', 'sentenciosamente', 'fico', 'fará', 'Parlamento', 'saberás', 'Vá', 'aceito', 'dilação', 'imitando', 'deixes', 'cuidados', 'empenhos', 'brilhar', 'convém', 'continuar', 'continuá', 'ilustrá', 'necessário', 'hesitar', 'Teme', 'foge', 'ínfimo', 'valem', 'diferentes', 'modos', 'seguro', 'valer', 'estragues', 'teus', 'mágico', 'agitar', 'pequeno', 'recolheu', 'botão', 'XXIX', 'VISITA', 'Vencera', 'dispus', 'Deputados', 'Virgílias', 'assomo', 'ternura', 'Aceitei', 'abraços', 'reconhecia', 'Desces', 'Desço', 'torceu', 'despediu', 'desceu', 'Achei', 'repreender', 'jardineiro', 'desacanhou', 'par', 'robustos', 'Fez', 'varanda', 'exclamações', 'Brasinho', 'homenzarrão', 'familiar', 'entristecesse', 'percebeu', 'pediu', 'estudos', 'namoros', 'patusca', 'recordá', 'ranger', 'farfalhar', 'saias', 'Mamãe', 'mamãe', 'XXX', 'FLOR', 'DA', 'MOITA', 'pertenciam', 'mocinha', 'morena', 'deteve', 'Silêncio', 'constrangido', 'Eugênia', 'cumprimenta', 'Sr', 'voltando', 'cortesia', 'admirada', 'acanhada', 'lentamente', 'aproximou', 'arranjou', 'tranças', 'desmanchara', 'travessa', 'beijou', 'expansiva', 'comoveu', 'Travessa', 'Quantos', 'Dezessete', 'Menos', 'Dezesseis', 'encobrir', 'satisfação', 'dantes', 'ereta', 'muda', 'folgares', 'quieta', 'impassível', 'diminuía', 'virginal', 'Depressa', 'familiarizamos', 'elogios', 'escutava', 'sorria', 'fúlgidos', 'estivesse', 'voar', 'borboletinha', 'diamante', 'esvoaçou', 'subitamente', 'penetrou', 'praguejou', 'soltas', 'T', 'esconjuro', 'Sai', 'Virgem', 'Nossa', 'tenha', 'expeli', 'sentou', 'envergonhada', 'Apertei', 'saí', 'superstição', 'desinteressado', 'seguida', 'cumprimento', 'lisonjeei', 'voltaria', 'voltou', 'XXXI', 'BORBOLETA', 'PRETA', 'negra', 'Lembrou', 'ri', 'conservar', 'esvoaçar', 'pousou', 'Sacudi', 'pousar', 'vidraça', 'sacudisse', 'parar', 'brando', 'posta', 'mover', 'escarninho', 'aborreceu', 'Dei', 'repelão', 'toalha', 'torcia', 'movia', 'farpinhas', 'Apiedei', 'palma', 'depô', 'peitoril', 'expirou', 'incomodado', 'Também', 'borboletas', 'consolou', 'reconciliou', 'Imaginei', 'saíra', 'mato', 'almoçada', 'espairecendo', 'borboletices', 'vasta', 'cúpula', 'Passa', 'Suponho', 'portanto', 'descreveu', 'infinitas', 'divino', 'estatura', 'colossal', 'inventor', 'subjugou', 'aterrou', 'sugestivo', 'insinuou', 'criador', 'beijá', 'enxotada', 'descobrisse', 'aventura', 'valeu', 'imensidade', 'pompa', 'verdes', 'palmos', 'linho', 'justo', 'dizê', 'laranja', 'segura', 'atravessasse', 'alfinete', 'recreio', 'restituiu', 'uni', 'polegar', 'jardim', 'próvidas', 'formigas', 'XXXII', 'COXA', 'NASCENÇA', 'preparativos', 'demoro', 'desço', 'detenha', 'sensaboria', 'chega', 'empulhação', 'Ai', 'pronto', 'convidar', 'transferir', 'descida', 'Cheguei', 'recusar', 'instou', 'devida', 'compensação', 'desataviou', 'Sem', 'bichas', 'pendiam', 'recortadas', 'ninfa', 'cassa', 'tendo', 'broche', 'madrepérola', 'punhos', 'fechando', 'pulseira', 'Idéias', 'claras', 'maneiras', 'chãs', 'exatamente', 'glosar', 'esgotamos', 'Saímos', 'notei', 'coxeava', 'machucara', 'calou', 'coxa', 'nascença', 'Mandei', 'diabos', 'desastrado', 'grosseirão', 'possibilidade', 'chegara', 'confessava', 'Olhei', 'reparei', 'apagar', 'vestígios', 'desazo', 'confessara', 'árvores', 'patos', 'lavar', 'infinidade', 'mostrando', 'comentando', 'soslaio', 'perscrutava', 'Palavra', 'coxo', 'perfeitamente', 'tranqüilos', 'baixaram', 'turvados', 'fitavam', 'temeridade', 'biocos', 'XXXIII', 'BEM', 'AVENTURADOS', 'OS', 'NÃO', 'DESCEM', 'lúcidos', 'senhoril', 'faria', 'suspeitar', 'voltar', 'solução', 'enigma', 'resolve', 'enxotei', 'adejava', 'aliviado', 'fresta', 'bichinho', 'cavar', 'Amanheceu', 'chovendo', 'transferi', 'límpida', 'disso', 'Manhãs', 'frescas', 'convidativas', 'embaixo', 'acudir', 'enlevado', 'Vênus', 'Manca', 'Enlevado', 'realçar', 'enlevo', 'Queria', 'singela', 'espúria', 'desprezo', 'vigiava', 'temperava', 'conveniência', 'explosão', 'entregava', 'desce', 'Pretendo', 'desça', 'acrescentei', 'versículo', 'Evangelho', 'aventurados', 'descem', 'domingo', 'tomara', 'furtado', 'arrebatado', 'candidamente', 'devedor', 'honesto', 'paga', 'soubesses', 'vagavam', 'mente', 'vindo', 'esposo', 'podias', 'mentir', 'inesperadamente', 'apanhasse', 'concertar', 'dissimulação', 'infinita', 'delicada', 'tartufice', 'profunda', 'estudado', 'apetite', 'XXXIV', 'ALMA', 'SENSÍVEL', 'lêem', 'sensível', 'agastada', 'tremer', 'chame', 'cínico', 'Diana', 'injúria', 'merecia', 'lavada', 'lavasse', 'tablado', 'drama', 'sacro', 'piegas', 'comédia', 'louçã', 'desgrenhada', 'farsa', 'autos', 'bufonerias', 'pandemônio', 'barafunda', 'rosa', 'Esmirna', 'arruda', 'quintal', 'Cleópatra', 'recanto', 'praia', 'mendigo', 'tirita', 'Cruzavam', 'vária', 'casta', 'atmosfera', 'beija', 'lesma', 'sapo', 'Retira', 'castiga', 'limpa', 'óculos', 'XXXV', 'CAMINHO', 'DAMASCO', 'Damasco', 'Escritura', 'At', '7', '):', 'Levanta', 'origens', 'piedade', 'desarmava', 'ante', 'candura', 'desposá', 'duvidar', 'anunciar', 'viria', 'suspirou', 'estendendo', 'dissesse', 'Faz', 'casar', 'engolindo', 'Alcancei', 'jurei', 'querer', 'hipérboles', 'Acredita', 'retê', 'império', 'Desci', 'amargurado', 'conveniente', 'abraçar', 'constituição', 'XXXVI', 'PROPÓSITO', 'BOTAS', 'agradecimento', 'Posso', '...?', 'reticência', 'descalçar', 'apertadas', 'respirei', 'comprido', 'entrávamos', 'relativa', 'aventurança', 'considerei', 'venturas', 'dão', 'azo', 'Mortifica', 'desgraçado', 'desmortifica', 'tens', 'sapateiros', 'Epicuro', 'trabalhava', 'lançava', 'aleijadinha', 'tardaria', 'descalçou', 'Quatro', 'rápido', 'inefável', 'incoercível', 'momento', 'gozo', 'sucede', 'pungente', 'preocupação', 'inferi', 'engenhoso', 'aguça', 'deparar', 'inventou', 'calos', 'aperfeiçoam', 'terrestre', 'sabedoria', 'curtas', 'descalçaste', 'manquejando', 'perna', 'enterros', 'pobres', 'calada', 'laboriosa', 'comparsa', 'patear', 'XXXVII', 'ENFIM', 'Antes', 'ajuste', 'prévio', 'conversando', 'prometeu', 'criaturinha', 'estrela', 'rara', 'imaginei', 'casasses', 'serias', 'patriota', 'públicos', 'desesperando', 'curar', 'Achou', 'legítima', 'esperar', 'apresentou', 'estimável', 'desmentiu', 'panegírico', 'Relede', 'conjugal', 'estávamos', 'XXXVIII', 'QUARTA', 'EDIÇÃO', 'Venha', 'convite', 'Largo', 'Francisco', 'Paula', 'sabei', 'quarta', 'revista', 'emendada', 'inçada', 'descuidos', 'barbarismos', 'encadernação', 'Dadas', 'consulto', 'Entro', 'loja', 'cubículo', 'empoeirado', 'balcão', 'bexiguento', 'destacava', 'sido', 'contrário', 'destruíam', 'graças', 'bexigas', 'terríveis', 'sinais', 'saliências', 'encarnas', 'declives', 'aclives', 'lixa', 'grossa', 'enormemente', 'repugnante', 'mudou', 'ruço', 'poento', 'portais', 'Num', 'fulgia', 'pósteros', 'conheci', 'conheceu', 'dirigi', 'chisparam', 'trocaram', 'movimento', 'instinto', 'acomodou', 'Quer', 'hesitou', 'decidir', 'dominava', 'assombro', 'Deu', 'permeio', 'falou', 'longamente', 'levara', 'desastres', 'escalavraram', 'ajudou', 'moléstia', 'adiantando', 'decadência', 'decrépita', 'ourivesaria', 'desgraça', 'buscada', 'singularidade', 'dirigir', 'Casou', 'secamente', 'atonia', 'reflete', 'relembra', 'recordações', 'desatino', 'buscava', 'interrogando', 'contavam', 'ardia', 'neles', 'flama', 'souberam', 'saindo', 'torpor', 'supunha', 'relojoeiro', 'desculpe', 'pungido', 'ansiava', 'oposição', 'sentei', 'proteção', 'casasse', 'afiançou', 'daria', 'preços', 'baratos', 'usou', 'metáfora', 'desconfiar', 'padecera', 'recado', 'negociava', 'roedor', 'disseram', 'XXXIX', 'VIZINHO', 'chapéu', 'trazendo', 'Maricota', 'podido', 'vesti', '..,', 'Toma', 'vara', 'marmelo', 'fala', 'pamonha', 'papai', 'ensina', 'rezar', 'noites', 'ave', 'maria', 'oferecidos', 'humilde', 'imagine', 'oferecê', 'Santa', 'Coitadinha', 'beijando', 'namoro', 'Contou', 'agradáveis', 'levando', 'interrogativo', 'suspeitoso', 'Perguntei', 'Parecem', 'gostar', 'proferir', 'tremor', 'espraiou', 'onda', 'XL', 'SEGE', 'custava', 'moedinha', 'dobre', 'travado', 'opostas', 'Notem', 'amanhecera', 'antecipação', 'rimo', 'fantasias', 'entro', 'surge', 'lacera', 'interroga', 'cortado', 'pressas', 'ordenei', 'boleeiro', 'rodasse', 'atiçou', 'bestas', 'sacolejar', 'molas', 'gemiam', 'rodas', 'sulcavam', 'rapidamente', 'lama', 'parado', 'morno', 'abafadiço', 'rodomoinha', 'abate', 'afrouxa', 'dissolve', 'soprava', 'almejava', 'anda', 'Uê', 'parados', 'conselheiro', 'XLI', 'ALUCINAÇÃO', 'apressado', 'humor', 'nublada', 'surda', 'cumprimentos', 'sequidão', 'Esperávamos', 'viesse', 'Defendi', 'empacara', 'detivera', 'repente', 'morre', 'lábios', 'tolhido', 'desviei', 'Tornei', 'olhá', 'pele', 'rosada', 'estigmada', 'devastara', 'travessos', 'lábio', 'peguei', 'enganava', 'repulsa', 'afastou', 'sofá', 'próprios', 'Devia', 'Rejeitei', 'alvitre', 'absurdo', 'Céus', 'florida', 'procurei', 'vestígio', 'encarava', 'insistência', 'Tão', 'Seguiram', 'estranhas', 'incidente', 'estalido', 'estátua', 'soerguendo', 'pontinha', 'contraindo', 'sobrancelhas', 'unir', 'conjunto', 'média', 'cômica', 'trágica', 'afetação', 'arrebique', 'mágoa', 'despeito', 'dissimula', 'dói', 'provável', 'padecesse', 'dobro', 'realmente', 'padecer', 'metafísica', 'XLII', 'ESCAPOU', 'ARISTÓTELES', 'Outra', 'Dá', 'rola', 'encontra', 'transmite', 'rolou', 'Suponhamos', 'suposição', 'Temos', 'recebendo', 'cedendo', 'impulsiva', 'esbarrar', 'tocam', 'extremos', 'sociais', 'estabelece', 'poderemos', 'solidariedade', 'Aristóteles', 'XLIII', 'MARQUESA', 'PORQUE', 'EU', 'SEREI', 'MARQUÊS', 'Positivamente', 'diabrete', 'angélico', 'querem', 'Neves', 'simpático', 'ímpeto', 'cesariano', 'precedeu', 'menor', 'violência', 'influências', 'Cedi', 'começo', 'derrota', 'Promete', 'baronesa', 'Marquesa', 'serei', 'marquês', 'perdido', 'comparou', 'pavão', 'elegeu', 'pata', 'Átila', 'esterilizava', 'XLIV', 'CUBAS', 'desenlace', 'castelos', 'engenhara', 'tantíssimos', 'esboroados', 'organismo', 'quis', 'crê', 'galho', 'convicção', 'informado', 'esqueci', 'raro', 'graduada', 'velado', 'ama', 'vínculo', 'fantasia', 'passageira', 'fatuidade', 'explicar', 'vigília', 'despeitozinho', 'desfez', 'murros', 'leituras', 'truncadas', 'romper', 'aurora', 'tranqüila', 'suportar', 'pancada', 'Pensando', 'precisamente', 'complicou', 'dores', 'acabrunhado', 'intensa', 'contínua', 'remorso', 'desencanto', 'mortal', 'substituiu', 'reumatismos', 'tosses', 'visitou', 'grato', 'concentração', '1uz', 'lampejo', 'expirante', 'cabia', 'maio', 'filhos', 'médicos', 'XLV', 'NOTAS', 'Soluços', 'armada', 'veludo', 'vestir', 'medida', 'caixão', 'tocheiros', 'convites', 'convidados', 'entravam', 'surdo', 'apertavam', 'sérios', 'sacristão', 'rezas', 'aspersões', '\\x92', 'prego', 'martelo', 'tomam', 'levantam', 'colocam', 'traspassam', 'apertam', 'correias', 'rodar', 'carros', 'inventário', 'notas', 'escrevo', 'XLVI', 'HERANÇA', 'encostado', 'consolo', 'cruzados', 'morder', 'Luto', 'pesado', 'Profundo', 'valha', 'Vale', 'ponderei', 'custou', 'Podia', 'custar', 'segue', 'valesse', 'quantos', 'deseja', 'Campo', 'fale', 'Velha', 'levantando', 'Parece', 'aposto', 'erguendo', 'podemos', 'arranjar', 'amizade', 'lisura', 'acudi', 'hei', 'Livre', 'arranjava', 'libertou', 'Tínhamos', 'falado', 'José', 'I', 'vetustez', 'Brasil', 'bisavô', 'questão', 'precisa', 'copa', 'apresentável', 'recebe', 'Sorri', 'levemente', 'interpretou', 'aquiescência', 'redargüi', 'cedi', 'cede', 'Abanei', 'falta', 'sumário', 'citar', 'provar', 'Faça', 'colherinha', 'agastado', 'entendi', 'oferecer', 'conciliação', 'caberia', 'bule', 'açucareiro', 'declarou', 'teríamos', 'liquidar', 'pretensão', 'propôs', 'condição', 'adiantou', 'Isso', 'esmolas', 'Jantamos', 'presenciou', 'altercação', 'Meus', 'lembrem', 'repartido', 'manteiga', 'Pão', 'seco', 'engulo', 'Fizeram', 'partilhas', 'brigados', 'Jogos', 'fúrias', 'risos', 'tristezas', 'adulta', 'dividimos', 'irmãmente', 'irmãos', 'esvaiu', 'XLVII', 'RECLUSO', 'fundir', 'contrastes', 'interior', 'Pena', 'ata', 'veste', 'sórdido', 'estira', 'embalou', 'decorreram', '1842', 'cheirar', 'aroma', 'toucador', 'cuides', 'derramar', 'regalo', 'N', 'Z', 'U', 'maiúsculas', 'embalaram', 'abjeção', 'guardei', 'retratos', 'ficaram', 'iniciais', 'Vivi', 'recluso', 'indo', 'baile', 'teatro', 'Vivia', 'curso', 'buliçoso', 'apático', 'desânimo', 'Escrevia', 'literatura', 'Mandava', 'artigos', 'alcançar', 'polemista', 'futura', 'XLVIII', 'PRIMO', 'Sabe', 'primo', 'privava', 'agradavam', 'valiam', 'sanção', 'confirmasse', 'interrogava', 'forças', 'arremetia', 'juvenilmente', 'Apenas', 'publicava', 'girar', 'volta', 'espreita', 'aprovasse', 'produção', 'Catete', 'discussão', 'câmaras', 'prosas', 'animação', 'abria', 'empacava', 'desanimá', 'eliminá', 'XLIX', 'PONTA', 'NARIZ', 'Nariz', 'valeste', 'meditaste', 'amado', 'explicação', 'Doutor', 'Pangloss', 'criado', 'ruminar', 'pontos', 'obscuros', 'atinei', 'verdadeira', 'atentar', 'faquir', 'gasta', 'celeste', 'finca', 'embeleza', 'aprende', 'desvincula', 'eteriza', 'sublimação', 'faculdade', 'pertence', 'subordinação', 'constitui', 'equilíbrio', 'sociedades', 'narizes', 'contemplassem', 'exclusivamente', 'chegaria', 'durar', 'extinguia', 'tribos', 'Ouço', 'objeção', 'Leitor', 'obtuso', 'prova', 'entraste', 'chapeleiro', 'rival', 'promete', 'Nas', 'vidraças', 'ostentam', 'entram', 'fregueses', 'compara', 'antiga', 'buscados', 'concentrado', 'indagar', 'causas', 'prosperidade', 'atraso', 'Nesse', 'fixam', 'conclusão', 'capitais', 'multiplica', 'subordina', 'Procriação', 'CASADA', 'prima', 'maganão', 'Ouvidor', 'tipografia', 'Plancher', 'esplêndida', 'reconheci', 'apuro', 'Cortejamo', 'seguiu', 'carruagem', 'acima', 'Oito', 'trocar', 'noutro', 'ornara', 'salões', 'reinado', 'desornava', 'aproximação', 'conversamos', 'valsamos', 'valsa', 'Valsamos', 'conchegar', 'flexível', 'roubado', 'acabamos', 'terraço', 'constipar', 'acerca', 'escritos', 'políticos', 'acrescentando', 'literários', 'excelentes', 'pensados', 'Respondi', 'iguais', 'esmeros', 'separamo', 'contentes', 'Cerca', 'reunião', 'íntima', 'valsar', 'fama', 'valsista', 'emérito', 'preferisse', 'perdeu', 'Francesca', 'apertei', 'esquecida', 'abraçá', 'abraçavam', 'giravam', 'LI', 'MINHA', 'cavalheiro', 'entranhando', 'verruma', 'insinuativa', 'lembrasse', 'pasto', 'arroubos', 'possessórios', 'luziu', 'redonda', 'Abaixei', 'dobra', 'Nessa', 'recordando', 'herdara', 'ganhara', 'Evidentemente', 'rico', 'operário', 'dever', 'Cumpria', 'intermédio', 'anúncio', 'Enviei', 'chefe', 'remetendo', 'rogando', 'alcance', 'devolvê', 'dono', 'almocei', 'jubiloso', 'valsara', 'sufocada', 'respiração', 'restituição', 'respirou', 'Ventilai', 'consciências', 'despido', 'quaisquer', 'exprimia', 'escrúpulo', 'meigo', 'aberta', 'Fizeste', 'andaste', 'balsâmico', 'transpiração', 'jardins', 'Queres', 'espelho', 'claramente', 'quinhentas', 'exprimindo', 'espraiava', 'revia', 'hem', 'valsado', 'poucochinho', 'descobri', 'equivalência', 'janelas', 'estabeleci', 'compensar', 'possa', 'arejar', 'continuamente', 'entendas', 'concreta', 'embrulho', 'LII', 'EMBRULHO', 'MISTERIOSO', 'Botafogo', 'tropecei', 'tropeção', 'pontapé', 'Vendo', 'limpo', 'corretamente', 'atado', 'barbante', 'experiência', 'Relanceei', 'deserta', 'brincavam', 'pescador', 'curava', 'redes', 'apanhei', 'Segui', 'receio', 'pulha', 'apalpei', 'rejeitei', 'desandei', 'guiei', 'Vejamos', 'gabinete', 'assaltou', 'testemunha', 'externa', 'garoto', 'assobiar', 'guinchar', 'apupar', 'cacarejar', 'lenços', 'goiabas', 'podres', 'aguçada', 'desfiz', 'contei', 'recontei', 'Cinco', 'asseadinho', 'arranjadinho', 'Embrulhei', 'falara', 'Ter', 'espreitado', 'Interroguei', 'discretamente', 'concluí', 'Sobre', 'examinei', 'maternais', 'naquilo', 'instara', 'freqüentar', 'recepções', 'apresentado', 'remetera', 'Aventou', 'procedimento', 'acertou', 'análoga', 'impaciência', 'histérica', 'quietinhos', 'secretária', 'crime', 'lance', 'perdem', 'tabaco', 'levam', 'sentidos', 'apalpam', 'miúdo', 'tiram', 'perderem', 'tolamente', 'Crime', 'desonra', 'embaciasse', 'acerto', 'apostas', 'ganhos', 'merecida', 'indigno', 'benefícios', 'Estes', 'empregá', 'dote', 'Banco', 'receberam', 'delicadas', 'alusões', 'espalhada', 'enfadado', 'estrondo', 'louvaram', 'modéstia', 'encolerizasse', 'replicaram', 'LIII', 'concentrada', 'nascem', 'tardias', 'pecas', 'daquelas', 'seiva', 'folhuda', 'exuberante', 'bosques', 'poderei', 'crescimento', 'abotoou', 'quiserem', 'coitadinha', 'portão', 'Uniu', 'terrores', 'prazeres', 'rematavam', 'aflições', 'desabrochavam', 'paciente', 'sistemática', 'agitações', 'cóleras', 'desesperos', 'ciúmes', 'sobra', 'engolia', 'tona', 'fastio', 'saciedade', 'LIV', 'PÊNDULA', 'estirei', 'Ouvi', 'Usualmente', 'pêndula', 'tique', 'taque', 'soturno', 'vagaroso', 'Imaginava', 'sacos', 'tirar', 'contá', 'corda', 'perdidos', 'Invenções', 'transformam', 'acabam', 'mesmas', 'instituições', 'morrem', 'definitivo', 'perpétuo', 'despedir', 'gasto', 'exata', 'Naquela', 'padeci', 'enfado', 'deleitosa', 'tumultuavam', 'devotas', 'abalroam', 'cantor', 'procissões', 'ganhados', 'ardiloso', 'saltou', 'bateu', 'saudaram', 'Nós', 'rolarmos', 'necessitados', 'repouso', 'postos', 'repetirem', 'diálogo', 'Adão', 'Eva', 'LV', 'VELHO', 'DIÁLOGO', 'ADÃO', 'EVA', 'BRÁS', '................................?', '...............................', '................................................................................................', '........................................................', '..........................................!', '.................................', '..........................................................................................................................................................?', '..................................................', '.......................................................', '...............................................', '..............................................................................................', '.............................', '..........!..............................!...........................!', '....................................................?', '..............................................!', '...................................................!', 'LVI', 'MOMENTO', 'OPORTUNO', 'breca', 'explicará', 'vimo', 'tratamos', 'desfizemo', 'houvera', 'mordeu', 'Correm', 'damos', 'giros', 'substancialmente', 'tornara', 'verde', 'distinção', 'fundamental', 'oportunidade', 'sujeitos', 'queixava', 'pintalegrete', 'tenazmente', 'galanteava', 'importuno', 'careta', 'raiva', 'Estremeci', 'ocorreu', 'provocado', 'compreendi', 'grandeza', 'evolução', 'LVII', 'DESTINO', 'amávamos', 'leis', 'impediam', 'Achávamo', 'jungidos', 'encontrou', 'Purgatório', 'Di', 'pari', 'come', 'buoi', 'che', 'vanno', 'giogo', 'bois', 'tardo', 'velhaco', 'Eis', 'caminhar', 'estradas', 'escusas', 'assustou', 'entreguei', 'Destino', 'andarás', 'procurador', 'negócios', 'humanos', 'estejas', 'explicaríamos', 'momentos', 'magníficos', 'murmurando', 'Amo', 'domingos', 'igrejas', 'tribuna', 'fervor', 'nessas', 'ocasiões', 'tapava', 'resmoneava', 'catecismo', 'oratoriozinho', 'talha', 'amigas', 'tachava', 'beatas', 'religiosas', 'desconfiei', 'religião', 'camisa', 'flanela', 'preservativa', 'clandestina', 'evidentemente', 'engano', 'LVIII', 'CONFIDÊNCIA', 'metia', 'sustos', 'Pura', 'adorasse', 'vexava', 'qualidades', 'sólidas', 'amorável', 'modelo', 'escancarada', 'carcoma', 'Animei', 'unção', 'Dias', 'tédios', 'desfalecimentos', 'engolidas', 'raivas', 'sopitadas', 'tecido', 'invejas', 'despeitos', 'intrigas', 'perfídias', 'vaidades', 'combatê', 'imaginar', 'reuni', 'faltou', 'Vira', 'Soberbo', 'cenário', 'representação', 'Escriturei', 'fatigar', 'amofinações', 'Creia', 'constância', 'sentimentos', 'gratidão', '....', 'Calou', 'parecendo', 'Após', 'negócio', 'referisse', 'rigor', 'Entraram', 'deputados', 'paróquia', 'postiça', 'afortunado', 'conversava', 'chasqueava', 'LIX', 'ENCONTRO', 'Deve', 'enérgico', 'Barbonos', 'companheiro', 'colégio', 'afetuosamente', 'rútila', 'bizarro', 'Bernardes', 'atração', 'Recordei', 'correrias', 'alegrias', 'travessuras', 'comparei', 'Entrava', 'Passeio', 'Público', 'serás', 'refrescava', 'banco', 'remoer', 'Alguns', 'encaminhar', 'desconhecida', 'magro', 'feitio', 'escapado', 'Babilônia', 'contemporâneo', 'Gessler', 'sobrecasaca', 'pediam', 'literalmente', 'brilho', 'pêlo', 'desaparecia', 'primitivos', 'botões', 'brim', 'pardo', 'joelheiras', 'bainhas', 'roídas', 'tacão', 'graxa', 'pescoço', 'flutuavam', 'pontas', 'cores', 'ambas', 'desmaiadas', 'colarinho', 'escura', 'roto', 'Aposto', 'conhece', 'Sou', 'Recuei', 'verbo', 'solene', 'Bossuet', 'Vieira', 'tamanha', 'desolação', 'esquálida', 'pintada', 'maltrapilho', 'avelhentado', 'suportava', 'firmeza', 'arredei', 'repelia', 'acabrunhava', 'adivinha', 'atribulações', 'figurava', 'trambolhão', 'Acabo', 'alçando', 'resignado', 'golpes', 'fortuna', 'resignação', 'cristã', 'conformidade', 'calejara', 'Arrastava', 'andrajos', 'púrpura', 'indolente', 'Procure', 'fiam', 'quitandeiras', 'angu', 'malditas', 'inferno', 'moro', 'degrau', 'sobe', 'Casa', 'extremamente', 'carteira', 'escolhi', 'nota', 'cintilantes', 'agitou', 'entusiasmado', 'In', 'hoc', 'signo', 'vinces', 'bradou', 'ruidosa', 'expansão', 'nojo', 'grotescamente', 'bote', 'Trabalhando', 'trabalhar', 'enjoado', 'preparei', 'ensinar', 'escarranchando', 'LX', 'ABRAÇO', 'Cuidei', 'afastar', 'pulso', 'Senti', 'pruridos', 'Magnífico', 'trata', 'Jóias', '..', 'Compare', 'sapatos', 'Pudera', 'Moro', 'mora', 'atalhou', 'virmos', 'dê', 'permita', 'evitá', 'Separamo', 'abraço', 'simpática', 'Quisera', 'Contudo', 'comparar', 'entristecer', 'separa', 'esperanças', 'Meto', 'Última', 'desilusão', 'furtara', 'LXI', 'PROJETO', 'Jantei', 'furto', 'reminiscências', 'sopa', 'jantei', 'refugiar', 'escapar', 'opressões', 'encontro', 'abjeto', 'regenerar', 'surgiu', 'Indaguei', 'encontrá', 'prometi', 'enchia', 'elevação', 'LXII', 'TRAVESSEIRO', 'travesseiro', 'tépido', 'aromático', 'enfronhado', 'cambraia', 'bruxelas', 'repousar', 'más', 'enfadonhas', 'dolorosas', 'pesadas', 'bastaram', 'olvidar', 'presas', 'Escrófula', 'existas', 'molestes', 'LXIII', 'FUJAMOS', 'abatida', 'instasse', 'desconfia', 'Noto', 'esquisitices', 'dúvida', 'Durmo', 'acordei', 'aterrada', 'matar', 'Tranqüilizei', 'concordou', 'seriam', 'excitada', 'nervosa', 'Estávamos', 'trocáramos', 'sacudia', 'frouxamente', 'cortinas', 'Empunhara', 'binóculo', 'lobrigava', 'liame', 'tolhesse', 'embriagou', 'eliminados', 'penetrar', 'habitação', 'anjos', 'proponho', 'Amas', 'Oh', 'cingindo', 'fúria', 'patente', 'respirando', 'úmida', 'madrugada', 'insaciável', 'grandioso', 'possuíra', 'figuras', 'pentélico', 'nobre', 'rasgado', 'estátuas', 'apática', 'naturezas', 'cálidas', 'resumia', 'Resumia', 'mudamente', 'urgia', 'deslacei', 'fito', 'coragem', 'Iremos', 'for', 'cômodo', 'roça', 'haja', 'perigos', 'vivamos', 'fujamos', 'descobrir', 'estarás', 'perdida', 'ouves', 'matarei', 'juro', 'Interrompi', 'empalidecera', 'canapé', 'Esteve', 'vacilante', 'escolha', 'descoberta', 'insisti', 'escaparíamos', 'Mostrei', 'vasto', 'capazes', 'ações', 'rufar', 'desejar', 'Justamente', 'tremas', 'leitora', 'descansa', 'rubricar', 'lauda', 'pingo', 'apressadamente', 'Entrara', 'derramando', 'jovialidade', 'afastei', 'sentando', 'preguiçosamente', 'Cansado', 'aturei', 'maçadas', 'câmara', 'Adivinha', 'sentara', 'compôs', 'camarote', 'Candiani', 'destoava', 'centro', 'consultou', 'toilette', 'ópera', 'cantava', 'janta', 'conosco', 'confirmou', 'possui', 'bebe', 'desmenti', 'bebi', 'excitado', 'imprensa', 'ministério', 'falaria', 'teologia', 'soubesse', 'acompanhava', 'placidez', 'irritava', 'Despedi', 'levantamos', 'Até', 'LXIV', 'TRANSAÇÃO', 'Vaguei', 'recolhi', 'podendo', 'arrependido', 'ido', 'consultei', 'Julguei', 'aborrecer', 'sucessivamente', 'desesperado', 'esquecê', 'matá', 'nus', 'fascinando', 'soberbo', 'leite', 'bandos', 'brilhantes', 'luzidios', 'doía', 'vissem', 'despi', 'sedas', 'despenteá', 'sôfregas', 'lascivas', 'torná', 'unicamente', 'vermelhos', 'chorar', 'soma', 'Tratou', 'dirá', 'cachorro', 'rebentaram', 'Acabou', 'argüir', 'argüi', 'culpa', 'necessariamente', 'dissensões', 'Pensei', 'metida', 'escondida', 'Acho', 'ingênuo', 'preguiçoso', 'cuida', 'derreava', 'cantos', 'candidez', 'afastando', 'desatou', 'atrair', 'recalcava', 'desconcertou', 'sussurrei', 'intimidade', 'apaziguou', 'irá', 'mate', 'quiser', 'Sossegue', 'olhe', 'podem', 'ouçam', 'esquecesse', 'insânia', 'provinha', 'enxugou', 'Sorrimos', 'tornávamos', 'escusa', 'LXV', 'OLHEIROS', 'ESCUTAS', 'Interrompeu', 'carro', 'receber', 'apeou', 'mete', 'aparece', 'Gosta', 'barão', 'brasileiras', 'desaforo', 'enxaqueca', 'acha', 'apresse', 'licença', 'consultar', 'certidão', 'batismo', 'Sábado', 'arrependi', 'saído', 'desconfiavam', 'Cinqüenta', 'macia', 'porte', 'escutar', 'espiando', 'reclinava', 'desembainhava', 'afiado', 'gesticulavam', 'astúcia', 'pálpebras', 'pestanas', 'rótulas', 'remexendo', 'parente', 'Viegas', 'cangalho', 'setenta', 'invernos', 'chupado', 'amarelado', 'asma', 'teimosa', 'lesão', 'hospital', 'luziam', 'espreitar', 'contando', 'apresentar', 'ligando', 'mostravam', 'apresentação', 'exultava', 'denunciasse', 'gamenhos', 'fâmulos', 'desforravam', 'servil', 'constituía', 'floresta', 'olheiros', 'escutas', 'tínhamos', 'resvalar', 'tática', 'maciez', 'cobras', 'LXVI', 'AS', 'PERNAS', 'insensivelmente', 'Hotel', 'Pharoux', 'jantava', 'deliberadamente', 'andado', 'merecimento', 'cabe', 'Abençoadas', 'trate', 'zangava', 'fatigáveis', 'podíeis', 'deixáveis', 'avoaçar', 'galinha', 'atada', 'deixastes', 'dissestes', 'levá', 'dividamos', 'tomemos', 'abalroe', 'carroças', 'tire', 'chegue', 'hotel', 'cumpristes', 'risca', 'vosso', 'amáveis', 'obriga', 'imortalizar', 'LXVII', 'CASINHA', 'caixa', 'ornada', 'fitinhas', 'Entendi', 'bilhete', 'B', 'Desconfiam', 'esqueça', 'veremos', 'arrependida', 'ausência', 'comentado', 'objeto', 'suspeita', 'Concluiu', 'fugirmos', 'insinuei', 'separar', 'ligadas', 'fuga', 'semelhante', 'comoções', 'arranjemos', 'Gamboa', 'brinco', 'caiada', 'venezianas', 'tijolo', 'trepadeira', 'Convencionamos', 'conhecida', 'costureira', 'agregada', 'exercia', 'aceitaria', 'situação', 'aparência', 'exclusiva', 'absoluto', 'adormecer', 'resguardar', 'decoro', 'tapete', 'traziam', 'constantemente', 'duplicidade', 'jantares', 'freqüentes', 'chá', 'inimigo', 'resgatava', 'terminaria', 'infinito', 'excepcional', 'baronesas', 'casal', 'LXVIII', 'VERGALHO', 'Tais', 'Valongo', 'ajustar', 'ajuntamento', 'vergalhava', 'praça', 'atrevia', 'gemia', 'únicas', 'perdão', 'vergalhada', 'bêbado', 'replicava', 'vergalho', 'Parei', 'Justos', 'céus', 'libertara', 'vadio', 'quitanda', 'venda', 'perdoa', 'manda', 'pede', 'Entra', 'grupo', 'cochichava', 'conjeturas', 'sinto', 'capítulos', 'fraco', 'Exteriormente', 'torvo', 'exteriormente', 'faca', 'gaiato', 'desfazer', 'pancadas', 'recebidas', 'transmitindo', 'montava', 'desancava', 'sofria', 'dispunha', 'folgar', 'desagrilhoado', 'desbancava', 'comprou', 'pagando', 'quantias', 'sutilezas', 'maroto', 'LXIX', 'GRÃO', 'Romualdo', 'Tamerlão', 'mania', 'curiosa', 'Outrora', 'tártaro', 'Tártaro', 'Tártaros', 'Ouvida', 'chiste', 'contada', 'recebido', 'transferido', 'deixemos', 'Romualdos', 'Prudêncios', 'LXX', 'PLÁCIDA', 'Voltemos', 'envelheceu', 'enegreceu', 'apodreceu', 'proprietário', 'substituí', 'estreito', 'Alexandre', 'desvão', 'telhado', 'andorinhas', 'neutralidade', 'lancha', 'náufragos', 'costa', 'dorme', 'espaço', 'sofreu', 'Amanhã', 'eclesiástico', 'assassino', 'ferreiro', 'abençoarão', 'designou', 'idôneas', 'dispô', 'intuição', 'estética', 'Plácida', 'suposta', 'certos', 'respeitos', 'Custou', 'farejara', 'baixos', 'séria', 'carrancuda', 'angariá', 'ofendido', 'obtive', 'patética', 'dureza', 'toques', 'novela', 'rejeitou', 'aceitou', 'sogra', 'ingrato', 'pecúlio', 'achados', 'LXXI', 'SENÃO', 'LIVRO', 'Começo', 'arrepender', 'canse', 'expedir', 'magros', 'distrai', 'enfadonho', 'cheira', 'contração', 'cadavérica', 'envelhecer', 'devagar', 'amas', 'direta', 'nutrida', 'regular', 'fluente', 'ébrios', 'guinam', 'andam', 'param', 'resmungam', 'urram', 'gargalham', 'ameaçam', 'escorregam', 'caem', 'Folhas', 'misérrimas', 'cipreste', 'heis', 'belas', 'vistosas', 'vantagem', 'Heis', 'LXXII', 'BIBLIÔMANO', 'suprima', 'parecida', 'despropósito', 'Olhai', 'grisalho', 'inclina', 'descobre', 'lê', 'relê', 'treslê', 'desengonça', 'saca', 'restantes', 'lados', 'espaneja', 'esfrega', 'joelho', 'lava', 'bibliômano', 'dicionários', 'biográficos', 'pardieiro', 'alfarrabista', 'Comprou', 'Indagou', 'pesquisou', 'esgaravatou', 'Único', 'amais', 'padeceis', 'sabeis', 'adivinhais', 'rejeitaria', 'coroa', 'Índias', 'papado', 'museus', 'Almanaque', 'Laemmert', 'continua', 'inclinado', 'lente', 'áspera', 'função', 'decifrar', 'relate', 'sublimidade', 'houver', 'contenta', 'Fecha', 'remira', 'folheia', 'LXXIII', 'LUNCHEON', 'solavancos', 'indecorosa', 'refeições', 'fazíamos', 'patuscada', 'luncheon', 'Vinho', 'fruta', 'Comíamos', 'virgulado', 'palavrinhas', 'olhares', 'ternos', 'criancices', 'desses', 'apartes', 'ininterrupto', 'arrufo', 'temperar', 'nímio', 'adocicado', 'refugiava', 'denguices', 'Dona', 'reatávamos', 'reato', 'desatá', 'termos', 'horror', 'convidá', 'Iaiá', 'gostaria', 'neste', 'pegando', 'fixamente', 'molharem', 'acariciou', 'LXXIV', 'HISTÓRIA', 'arrependas', 'generoso', 'rendeu', 'achasse', 'travamos', 'breves', 'Sé', 'Perdeu', 'ralava', 'trabalhos', 'doceira', 'compatíveis', 'Aos', 'casou', 'alfaiate', 'Viúva', 'sustentar', 'Fazia', 'cosia', 'afinco', 'lojas', 'ensinava', 'crianças', 'tostões', 'Apareceram', 'seduções', 'resistia', 'encontrar', 'pretendentes', 'conseguiu', 'delicado', 'Continuou', 'coser', 'escumar', 'tachos', 'rabugem', 'mortificava', 'maridos', 'vêm', 'fidúcias', 'rica', 'camarada', 'arranja', 'Moços', 'Policarpo', 'coitado', 'Esperas', 'fidalgo', 'Sabia', 'conhecia', 'delas', 'Trabalhava', 'queimando', 'fogão', 'candeeiro', 'Emagreceu', 'adoeceu', 'enterrou', 'subscrição', 'quatorze', 'fraquinha', 'rondavam', 'rótula', 'imensos', 'costuras', 'arregalava', 'piscava', 'convencida', 'diziam', 'graçolas', 'fugiu', 'Deixou', 'Estive', 'costurando', 'vivi', 'servido', 'grossas', 'gretadas', 'picadas', 'cria', 'Felizmente', 'protegeu', 'pedindo', 'esmola', 'calafrio', 'inconveniência', 'amante', 'desdizer', 'tola', 'LXXV', 'COMIGO', 'Podendo', 'acontecer', 'pulado', 'observo', 'ajudando', 'colaboradora', 'Viu', 'inteiras', 'gostou', 'pisou', 'acender', 'altares', 'acercaram', 'amaram', 'conjunção', 'luxúrias', 'vadias', 'falasse', 'autores', 'Aqui', 'chamastes', 'sacristã', 'responderiam', 'Chamamos', 'queimar', 'costura', 'faina', 'adoecendo', 'sarando', 'adoecer', 'sarar', 'desesperada', 'resignada', 'chamamos', 'LXXVI', 'ESTRUME', 'acusou', 'capitular', 'probidade', 'privações', 'Medianeira', 'concubina', 'baixado', 'custa', 'obséquios', 'dinheiros', 'replicasse', 'aproveitara', 'exercida', 'ex', 'Notou', 'caras', 'feias', 'silêncios', 'vencê', 'repuxou', 'Concordei', 'aleguei', 'abrigo', 'mendicidade', 'deduzir', 'impede', 'cheirosa', 'sã', 'LXXVII', 'ENTREVISTA', 'sossegada', 'levado', 'vexames', 'envolvida', 'mantéu', 'disfarçava', 'ondulações', 'talhe', 'escarlate', 'lisonjeado', 'acabado', 'entrevistas', 'cronométrico', 'tresloucado', 'constituir', 'feixe', 'raios', 'casamentos', 'faltado', 'Questão', 'alta', 'antevéspera', 'cortesanices', 'derramada', 'descobriu', 'interrogativa', 'ameaçadora', 'povoada', 'cansaço', 'certas', 'eternas', 'estrelas', 'pasmados', 'semi', 'arqueadas', 'visível', 'tangível', 'negar', 'réplica', 'confundiu', 'torna', 'pancadinha', 'repetir', 'enganara', 'LXXVIII', 'PRESIDÊNCIA', 'ocupar', 'presidência', 'província', 'empalideceu', 'empalidecer', 'gostaste', 'agrada', 'insistiu', 'dissimular', 'causava', 'necessidades', 'pedem', 'brasões', 'Dirás', 'ambicioso', 'ponhas', 'peso', 'desorientada', 'consolá', 'doida', 'insensatez', 'Levantei', 'Cogitei', 'largamente', 'Nesta', 'pequenina', 'responsável', 'encostar', 'fronteiro', 'Decorreram', 'ouvíamos', 'latir', 'cão', 'deixadas', 'suprema', 'desesperança', 'Noutra', 'lançaria', 'ampararia', 'compeli', 'desampará', 'deixá', 'Repito', 'prorromper', 'estive', 'enxugar', 'subjuguei', 'LXXIX', 'COMPROMISSO', 'Vacilava', 'empuxava', 'supunhamos', 'Fica', 'resolverá', 'sentido', 'investiam', 'resistiam', 'tenacidade', 'definitivamente', 'dentezinho', 'abusava', 'culpada', 'sacrificar', 'arriscar', 'conselho', 'irresoluto', 'inquieto', 'desejoso', 'receoso', 'compartir', 'compromisso', 'Deste', 'conciliar', 'burla', 'sugestão', 'padecimento', 'LXXX', 'SECRETÁRIO', 'sentiu', 'alívio', 'encontraram', 'planos', 'dificuldades', 'locais', 'resoluções', 'esperançado', 'secretário', 'ordenado', 'obsequiar', 'serpente', 'imperiosamente', 'apanhava', 'oculto', 'franco', 'salpicada', 'Respirei', 'presidente', 'presidenta', 'resolver', 'administrativo', 'LXXXI', 'RECONCILIAÇÃO', 'insanamente', 'haveria', 'combinar', 'levantar', 'nomeação', 'coberta', 'véu', 'Corro', 'façamos', 'pazes', 'acabando', 'consentisse', 'irei', 'gorda', 'Parecia', 'Graciosa', 'afável', 'ressentimento', 'Olhávamos', 'seguras', 'ressurgia', 'loura', 'caindo', 'fileiras', 'jogar', 'encurvadas', 'deixavam', 'Suportei', 'recordação', 'zangarrear', 'clássica', 'rabeca', 'fanhosa', 'secos', 'anjinho', 'Sara', 'Apanhei', 'espantada', 'empurrava', 'ombro', 'mãozinha', 'quebrando', 'efusão', 'Simples', 'Daí', 'falávamos', 'alusão', 'promessa', 'jantarmos', 'troca', 'interrupção', 'concordaram', 'senso', 'diacho', 'plena', 'luzir', 'chinelo', 'comparasse', 'briga', 'ridícula', 'triunfos', 'Ouvia', 'concerto', 'louvores', 'Seja', 'venha', 'Certamente', 'objetou', 'reprimiu', 'reconciliação', 'enigmático', 'LXXXII', 'QUESTÃO', 'BOTÂNICA', 'Digam', 'descerem', 'tropel', 'afetuosas', 'Continuei', 'reconciliava', 'tratando', 'aparelhar', 'ânimos', 'realizar', 'desígnios', 'pessoais', 'boatos', 'sorriam', 'maliciosamente', 'escultura', 'Referia', 'rasgada', 'Fê', 'Garcez', 'cirurgião', 'pequenino', 'grulha', 'oitenta', 'noventa', 'adquirir', 'gentileza', 'ancião', 'porventura', 'derradeira', 'surpresa', 'Cícero', 'Seu', 'latinista', 'Traduz', 'relance', 'confunda', 'rasteiro', 'frívolo', 'receosa', 'disfarçá', 'indulgência', 'acabavam', 'novidade', 'supor', 'fugitivo', 'palreiro', 'pegas', 'Sintra', 'belo', 'fácil', 'Costumava', 'carrancudo', 'honra', 'suave', 'lisonjeira', 'explique', 'abotoado', 'desabotoou', 'próximo', 'botânica', 'LXXXIII', '13', 'insensata', 'perigosa', 'multidão', 'personagens', 'gazetas', 'farejarem', 'passam', 'virão', 'remoques', 'alcunhas', 'Entende', 'negasse', 'longos', 'suporte', 'evite', 'escândalo', 'lampião', 'azeite', 'recurvado', 'interrogação', 'cumpria', 'dobrar', 'lutar', 'subjugá', 'diverso', 'pensando', 'arranjo', 'opresso', 'desorientado', 'porteiro', 'conveniências', 'cartão', 'ingresso', 'legislativo', 'abro', 'folha', 'leio', 'decretos', 'nomeados', '***', 'Coitada', 'aflita', 'esqueceríamos', 'Consolei', 'consolações', 'afligia', 'andorinha', 'Vacilo', 'confessá', 'observou', 'poderoso', 'Referiu', 'decreto', 'significava', 'treze', 'morrera', 'n', '.°', 'Et', 'coetera', 'algarismo', 'fatídico', 'alegar', 'dir', 'assombrado', 'LXXXIV', 'CONFLITO', 'Número', 'lembras', 'abençoei', 'virgens', 'ruivas', 'abençoar', 'égua', 'ruiva', 'crina', 'Pelópidas', 'donosa', 'ta', 'havida', 'donzelas', 'escapas', 'figurasse', 'salvação', 'recusa', 'convencido', 'escutei', 'minava', 'absorvia', 'Outras', 'estrépito', 'Oprimiam', 'desasara', 'arrependimento', 'hipótese', 'supersticioso', 'existia', 'Duvidava', 'repugna', 'preferia', 'ingenuidade', 'sapato', 'selos', 'Disseram', 'apontar', 'verruga', 'Ou', 'Tolera', 'gratuita', 'insuportável', 'acréscimo', 'acreditou', 'atribuiu', 'manejos', 'complicada', 'comunicou', 'colegas', 'sobrevieram', 'incidentes', 'resignatário', 'LXXXV', 'CIMO', 'MONTANHA', 'escapa', 'pique', 'avivar', 'primitiva', 'droga', 'tornamos', 'saboroso', 'prezado', 'Nos', 'folgávamos', 'proporção', 'elástica', 'dilatando', 'semelhantes', 'achegam', 'fugíamos', 'suposto', 'reatamos', 'sultana', 'Scheherazade', 'cuido', 'máximo', 'divisamos', 'leste', 'oeste', 'Repousado', 'começamos', 'encosta', 'LXXXVI', 'MISTÉRIO', 'Serra', 'ateimei', 'fluido', 'percorreu', 'rápida', 'chegarei', 'Travei', 'delicadeza', 'zéfiro', 'estremeceu', 'afagou', 'LXXXVII', 'GEOLOGIA', 'Sucedeu', 'abafados', 'desconjuntados', 'quebra', 'finos', 'espreitadores', 'amparasse', 'encobria', 'estrangulava', 'camada', 'rocha', 'camadas', 'areia', 'lhas', 'observará', 'comparo', 'reparar', 'acrescento', 'países', 'geologia', 'lendo', 'altera', 'conserva', 'mereceriam', 'alongar', 'probo', 'Jacó', 'Medeiros', 'Valadares', 'recorda', 'violentando', 'quatrocentos', 'cansativa', 'achássemos', '.,', 'pega', 'recebê', 'afirmando', 'Retirou', 'respiramos', 'respirados', 'acabava', 'negando', 'alegrando', 'justeza', 'observação', 'desculpou', 'veracidade', 'absoluta', 'incompatível', 'estado', 'social', 'adiantado', 'paz', 'cidades', 'embaçadelas', 'recíprocas', 'Tavares', 'LXXXVIII', 'ENFERMO', 'refutei', 'perniciosa', 'doutrina', 'elementares', 'argumentos', 'reparo', 'fictício', 'atordoar', 'escrupulosa', 'manifestava', 'cumulava', 'atenções', 'afagos', 'poderiam', 'render', 'codicilo', 'Propriamente', 'adulava', 'adulação', 'orça', 'servilidade', 'confunde', 'graciosamente', 'curvas', 'local', 'legítimo', 'adulado', 'enfermeira', 'feminil', 'hábil', 'carecerá', 'quid', 'desfazia', 'rindo', 'bengala', 'especial', 'conchegada', 'anciã', 'brisa', 'combinando', 'Hoje', 'fortezinho', 'Passei', 'bufava', 'repousando', 'entrada', 'subida', 'sentava', 'banquinha', 'discreto', 'introduzia', 'ampla', 'pastilhas', 'Pastilhas', 'antiasmáticas', 'Repetia', 'variantes', 'gostasse', 'aturando', 'frouxa', 'tarda', 'desciam', 'légua', 'Iam', 'sentavam', 'tornavam', 'bisbilhotice', 'construir', 'residência', 'moderno', 'contemporânea', 'el', 'Cristóvão', 'casarão', 'substituído', 'encomendado', 'pedreiro', 'Falava', 'intervalado', 'arfagem', 'incômoda', 'acesso', 'tosse', 'curvo', 'investigava', 'plano', 'quartos', 'cachoeira', 'primor', 'LXXXIX', 'IN', 'EXTREMIS', 'Coitado', 'caíra', 'adoecera', 'aproveitei', 'tossia', 'arder', 'acessos', 'debatia', 'oferecia', 'exigia', 'comprador', 'instava', 'receia', 'trem', 'recusou', 'tolheu', 'acarinhou', 'travesseiros', 'Mandou', 'maço', 'papéis', 'escrivaninha', 'borracha', 'prendia', 'deslaçasse', 'construção', 'carpinteiro', 'pintor', 'alcovas', 'gabinetes', 'ferragens', 'terreno', 'lesse', 'peça', 'Dobradiças', 'francesas', 'lida', 'Quarenta', 'juros', 'Vinham', 'tossidas', 'golfadas', 'migalhas', 'pulmão', 'desfeito', 'órbitas', 'fundas', 'rolavam', 'lampejantes', 'lamparina', 'Sob', 'lençol', 'desenhava', 'estrutura', 'óssea', 'pontudo', 'amarelada', 'bamba', 'rugosa', 'revestia', 'carapuça', 'algodão', 'cobria', 'crânio', 'rapado', 'arfar', 'Suspeitara', 'tratar', 'alteando', 'Trinta', 'Ahn', 'acheguei', 'cálice', 'quar', 'quaren', 'expirava', 'XC', 'COLÓQUIO', 'CAIM', 'testamentária', 'pastilha', 'parecesse', 'raivosa', 'malogro', 'cautela', 'lorpa', 'cainho', 'tirado', 'Olhos', 'conflitos', 'revoluções', 'terremotos', 'embrião', 'paternidade', 'secreta', 'indefinível', 'assomos', 'conversávamos', 'futuras', 'pelintra', 'mãozinhas', 'gordas', 'beca', 'rasos', 'lousa', 'mamava', 'escrevia', 'valsava', 'interminável', 'limites', 'baby', 'colegial', 'esquecia', 'reprochava', 'colóquio', 'XCI', 'CARTA', 'EXTRAORDINÁRIA', 'extraordinária', 'acompanhada', 'Tenho', 'voulez', 'monseigneur', 'Fígaro', 'misère', 'Muitas', 'Saiba', 'caducas', 'envergo', 'famosa', 'cujas', 'abas', 'fruto', 'estudo', 'explica', 'descreve', 'Zenon', 'estoicismo', 'receita', 'singularmente', 'espantoso', 'retifica', 'suprime', 'assegura', 'enche', 'país', 'Chamo', 'Humanitismo', 'Humanitas', 'enfatuação', 'borbismo', 'denominação', 'vaidosa', 'molesta', 'Verá', 'monumento', 'apanhado', 'Ei', 'esquivas', 'pesquisas', 'descobertas', 'quedas', 'Saudades', 'Velho', 'JOAQUIM', 'BORBA', 'DOS', 'SANTOS', 'Li', 'boceta', 'contendo', 'gravadas', 'Lembrança', 'Voltei', 'reli', 'excluía', 'lucidez', 'serenidade', 'jactanciosa', 'excluir', 'Minas', 'abastança', 'devolvera', 'integralmente', 'regeneração', 'esperei', 'XCII', 'EXTRAORDINÁRIO', 'acabo', 'extraordinárias', 'procurou', 'meão', 'convidando', 'portador', 'Damasceno', 'revolução', '1831', 'Saíra', 'desacordo', 'Regente', 'serviram', 'conquanto', 'trouxesse', 'baralhadas', 'consegui', 'organizar', 'formular', 'preferências', 'despotismo', 'cantigas', 'dizem', 'alhures', 'penachos', 'nacional', 'Opinava', 'desenvolvimento', 'tráfico', 'africanos', 'expulsão', 'Teatro', 'Pedro', 'Joana', 'Kettly', 'Suíça', 'gostara', 'Deperini', 'Safo', 'Ana', 'Bolena', 'papa', 'Ernani', 'piano', 'involami', 'cantarolando', 'chegavam', 'mimosa', 'ansioso', 'corrido', 'embarcaria', 'Enjoara', 'exceto', 'irem', 'Inglaterra', 'encontrasse', 'godemes', 'Graças', 'patriotismo', 'descendia', 'Viesse', 'canoa', 'faltaria', 'Levei', 'parou', 'simpatizava', 'casara', 'Conheceu', 'direitas', 'dançara', 'célebre', 'Praia', 'Coisas', 'Falaria', 'XCIII', 'JANTAR', 'suplício', 'Eulália', 'familiarmente', 'Nhã', 'loló', 'Faltava', 'elegância', 'compensava', 'soberbos', 'arrancarem', 'prato', 'comia', 'cantou', 'esquivei', 'pérolas', 'Casmurro', 'estiver', 'maduro', 'queira', 'pomba', 'intimativa', 'resoluta', 'ameaças', 'XCIV', 'CAUSA', 'SECRETA', 'querida', 'amuou', 'sozinha', 'alegremente', 'aborreciam', 'antecipadas', 'carícias', 'paternais', 'sagrada', 'âmbula', 'divina', 'Supus', 'perfil', 'incógnito', 'projetando', 'restituíra', 'Enganava', 'parecera', 'reservas', 'preocupada', 'invento', 'prender', 'oprimi', 'mentia', 'parto', 'gravidez', 'Padecera', 'imaginariamente', 'calafrios', 'patíbulo', 'complicava', 'forçada', 'privação', 'repreendendo', 'direitos', 'XCV', 'FLORES', 'ANTANHO', 'estão', 'gestação', 'esboroou', 'edifício', 'quimeras', 'distingue', 'Laplace', 'tartaruga', 'acompanhou', 'médico', 'frustrada', 'encostei', 'verdejavam', 'laranjeiras', 'XCVI', 'ANÔNIMA', 'Encaramo', 'mudos', 'inconsoláveis', 'seguintes', 'taciturno', 'restabeleceu', 'denunciava', 'limitava', 'precavê', 'acrescentava', 'calúnia', 'infame', 'Calúnia', 'Infame', 'negativo', 'letra', 'intrépido', 'frágil', 'sarcasticamente', 'escutara', 'Instou', 'perdoaria', 'irritada', 'citou', 'galanteara', 'escrevera', 'Citava', 'estudando', 'turbado', 'empregar', 'tranqüilidade', 'notou', 'soalho', 'amargura', 'merece', 'ocioso', 'ponderar', 'cáustico', 'artificiosamente', 'nervosamente', 'aproximei', 'recuou', 'XCVII', 'ENTRE', 'BOCA', 'TESTA', 'Sinto', 'estremecer', 'sugeriu', 'quadro', 'amam', 'inclinada', 'sentisse', 'XCVIII', 'SUPRIMIDO', 'reconciliado', 'restituía', 'pimenta', 'perdesse', 'representava', 'Estela', 'arrancava', 'corro', 'camarotes', 'Trajava', 'ganhava', 'endividar', 'visitá', 'suavidade', 'etérea', 'polido', 'terrenas', 'condigna', 'Realmente', 'trajando', 'garridamente', 'cobrindo', 'redondamente', 'previu', 'vestidura', 'nudez', 'habitual', 'multiplicação', 'obras', 'tenderia', 'embotar', 'retardar', 'sexos', 'vestuário', 'negaceando', 'atrai', 'vontades', 'ativa', 'reprodu', 'Abençoado', 'Otelo', 'paquetes', 'transatlânticos', 'suprimir', 'declive', 'perigoso', 'pacato', 'donzela', 'dupla', 'dualidade', 'l', 'ange', 'et', 'bête', 'jansenista', 'admitia', 'simultaneidade', 'juntinhas', 'decididamente', 'suprimo', 'XCIX', 'PLATÉIA', 'constrangidos', 'pano', 'encontramo', 'corredores', 'afabilidade', 'assuntos', 'gerais', 'expansivo', 'Adivinhe', 'fujo', 'atores', 'Reclinado', 'refazia', 'concluía', 'Bastava', 'freqüência', 'aguçaria', 'Rigorosamente', 'dispensar', 'galgara', 'eleitor', 'Urgia', 'ufanar', 'Multidão', 'cobicei', 'vingava', 'burburinhar', 'Prometeu', 'Ésquilo', 'verdugos', 'cuidavas', 'encadear', 'rochedo', 'frivolidade', 'agitação', 'Frágeis', 'cadeias', 'rompia', 'Gulliver', 'Vulgar', 'considerar', 'ermo', 'voluptuoso', 'esquisito', 'insular', 'decretar', 'alheado', 'inacessível', 'recatado', 'afirmação', 'desdenhosa', 'espiritual', 'Vive', 'fecho', 'C', 'CASO', 'PROVÁVEL', 'desatentos', 'escusado', 'afirmo', 'possuo', 'relação', 'restrinjo', 'admissão', 'probabilidade', 'leitura', 'recomendo', 'Segundo', 'existe', 'fatos', 'periódica', 'usar', 'marés', 'Flamengo', 'igualmente', 'marulhosas', 'investe', 'alaga', 'variável', 'engrossar', 'terá', 'aplicação', 'nomeado', 'conseqüência', 'fato', 'ojeriza', 'dissidência', 'Resta', 'determinou', 'cessação', 'convindo', 'descrever', 'limito', 'sutileza', 'CI', 'REVOLUÇAO', 'DÁLMATA', 'viravolta', 'reuniões', 'conversas', 'derreou', 'moveu', 'desmentido', 'definível', 'atraí', 'desgostos', 'aparecimento', 'legação', 'Dalmácia', 'suponhamos', 'namorou', 'vero', 'transtornara', 'diplomática', 'chego', 'rebentasse', 'derrocou', 'purificou', 'embaixadas', 'sangrenta', 'dolorosa', 'formidável', 'transcreviam', 'horrores', 'mediam', 'fremia', 'abençoava', 'interiormente', 'tirara', 'pedrinha', 'CII', 'REPOUSO', 'alegrou', 'grosseira', 'contarei', 'CIII', 'DISTRAÇÃO', 'Perdoe', 'esbaforido', 'esperara', 'irritara', 'chorara', 'jurara', 'votar', 'sacrificara', 'Expliquei', 'equívoco', 'distração', 'Andava', 'suspirando', 'conchegava', 'bafejava', 'acalentava', 'manhas', 'fértil', 'aprazíveis', 'Flores', 'afago', 'cresciam', 'confidente', 'referia', 'suspiros', 'presenciara', 'atribuir', 'protesto', 'admoestação', 'dissipou', 'aleive', 'baixei', 'Recomendo', 'tiverem', 'pronta', 'recearem', 'preferem', 'oitava', 'Lusíadas', 'adotam', 'Norma', 'atenho', 'exige', 'explicado', 'desculpas', 'derramara', 'atribuí', 'chorasse', 'desapontada', 'parecessem', 'Fosse', 'perdoado', 'duras', 'ameaçava', 'louvava', 'fincados', 'mosca', 'formiga', 'parando', 'expliquei', 'teima', 'zangar', 'enfastiada', 'aborrece', 'correu', 'agarrei', 'cintura', 'meigas', 'humildes', 'graciosas', 'chegaram', 'controversa', 'trepou', 'nativa', 'mortificados', 'calculei', 'planeta', 'Saturno', 'mofino', 'concluis', 'bárbaro', 'enganas', 'grampo', 'insetos', 'farejou', 'CIV', 'ERA', 'ELE', 'Restituí', 'repregou', 'preparou', 'idônea', 'exclama', 'completo', 'rendas', 'empurrou', 'voltasse', 'obedeceu', 'honrando', 'Entre', 'favor', 'adivinhar', 'Apareça', 'atirou', 'buraco', 'fechadura', 'arrebatamento', 'circulou', 'cumprimentá', 'obrigada', 'digam', 'acariciando', 'Sente', 'Dê', 'atava', 'fitas', 'tagarelava', 'Pronta', 'aparecer', 'CV', 'EQUIVALÊNCIA', 'DAS', 'JANELAS', 'arrancar', 'Tempo', 'detivesse', 'genuíno', 'cordial', 'CVI', 'JOGO', 'PERIGOSO', 'atroava', 'lástimas', 'fechado', 'confirmaria', 'fogo', 'pólvora', 'cena', 'espancá', 'encerrá', 'expulsá', 'Estas', 'interrogações', 'percorriam', 'pontinhos', 'vírgulas', 'percorrem', 'campo', 'visual', 'enfermos', 'cansados', 'trágico', 'negro', 'enfiara', 'mantinha', 'Ponderei', 'arriscado', 'desconfiaria', 'saberei', 'sucesso', 'possíveis', 'espairecer', 'canalizar', 'explorar', 'incapaz', 'torrencial', 'exceção', 'adorável', 'sombria', 'espiarmos', 'nesga', 'CVII', 'BILHETE', 'fitar', 'passe', 'Muita', 'CVIII', 'SE', 'ENTENDE', 'retalhinho', 'garatujado', 'machucado', 'documento', 'análise', 'farei', 'Poderia', 'perspicácia', 'traçadas', 'dissimulada', 'constrange', 'medita', 'acreditai', 'duvidai', 'asserção', 'aceiteis', 'provas', 'experimentei', 'dó', 'combinação', 'complexa', 'podereis', 'CIX', 'FILÓSOFO', 'Sabido', 'sabido', 'resta', 'refeição', 'parcas', 'fatia', 'xícara', 'mínima', 'importante', 'obliterada', 'principal', 'frugalidade', 'praticá', 'acomodava', 'inclusive', 'indicar', 'tendência', 'ascetismo', 'tolice', 'gafanhotos', 'deserto', 'engordar', 'emagrecer', 'farisaísmo', 'sinagoga', 'dispenso', 'outrossim', 'diversa', 'Calo', 'característica', 'feições', 'vestuários', 'farda', 'negociante', 'deficit', 'alvura', 'asseio', 'roufenha', 'restituída', 'sonoridade', 'gesticulação', 'viveza', 'sujeitava', 'iniciaria', 'descrição', 'omito', 'verniz', 'Saibam', 'pares', 'Barbacena', 'permitam', '!)', 'peteca', 'palmada', 'arremessado', 'rija', 'eficaz', 'situações', 'complexas', 'empuxar', 'desequilibrava', 'embrulhar', 'mandá', 'instrutiva', 'descrevia', 'interiores', 'capitulações', 'vagarosas', 'dormi', 'gradualmente', 'esteira', 'catre', 'preocupado', 'atendê', 'malicioso', 'mergulhei', 'poço', 'mesquinha', 'atinaram', 'Gregos', 'subgregos', 'antigregos', 'debruçado', 'Gastaram', 'cordas', 'caçambas', 'afoitos', 'trouxeram', 'diretamente', 'CX', '31', 'Agarrei', 'datado', 'transposição', 'algarismos', 'eliminou', 'diabólica', 'CXI', 'MURO', 'muro', 'Eles', 'Entrando', 'papelinho', 'dobrado', 'beco', 'desagrado', 'descomunalmente', 'audaciosa', 'pensada', 'parceria', 'risota', 'galgá', 'agarrado', 'pedestre', 'comichões', 'rasgar', 'atirá', 'Diga', 'Aonde', 'arregalou', 'esquisita', 'Reli', 'mirei', 'remirei', 'entrevista', 'CXII', 'OPINIÃO', 'lances', 'dúbios', 'Poucas', 'aproveitou', 'conhecido', 'ilharga', 'retraído', 'retraimento', 'Pareceu', 'temerário', '!),', 'tribunal', 'membro', 'acusa', 'julga', 'limite', 'amasse', 'atos', 'insto', 'separado', 'arrastaria', 'abriria', 'inquérito', 'coligiria', 'antecedências', 'induções', 'relataria', 'chácaras', 'desocupadas', 'terrível', 'obstou', 'dispersão', 'desforço', 'divulgação', 'ressentido', 'simular', 'ignorância', 'custasse', 'naqueles', 'pensadores', 'caleja', 'sensibilidade', 'oblitera', 'despontassem', 'espinhos', 'apagasse', 'respectivos', 'retrospectiva', 'cobrisse', 'ocupasse', 'crescendo', 'buscaria', 'satisfazer', 'ambições', 'herdeiro', 'atividade', 'prestígio', 'declínio', 'responso', 'biográfica', 'CXIII', 'SOLDA', 'solda', 'domésticas', 'desenvolva', 'doméstica', 'metafísicos', 'biliosos', 'chegado', 'darem', 'evidente', 'extremado', 'salutares', 'superfina', 'CXIV', 'FIM', 'veria', 'tivermos', 'receberá', 'eleições', 'Ali', 'Separemo', 'Custa', 'CXV', 'ALMOÇO', 'marcada', 'mista', 'misturado', 'doses', 'irrite', 'titilar', 'almoçar', 'romanesco', 'biográfico', 'acudindo', 'lembranças', 'acepipes', 'M', 'Prudhon', 'Velhos', 'lembrais', 'cozinheiro', 'famosos', 'Véry', 'Véfour', 'Paris', 'palácios', 'Molé', 'Duque', 'Rochefoucauld', 'Entrou', 'polca', 'Tivoli', 'estrangeiros', 'Cassino', 'melhores', 'deliciosos', 'adivinhara', 'catástrofe', 'engenho', 'propícios', 'requinte', 'temperos', 'tenrura', 'rebuscado', 'Comia', 'enterrar', 'magnificamente', 'vazios', 'eflúvio', 'crepúsculo', 'CXVI', 'FILOSOFIA', 'FOLHAS', 'VELHAS', 'purgar', 'empacha', 'amostra', 'viuvez', 'fisgar', 'moscas', 'Domiciano', 'fisgá', 'Fisgava', 'estirado', 'devaneio', 'solto', 'item', 'primos', 'abalado', 'correio', 'selei', 'carteiro', 'Morriam', 'nasciam', 'gavetas', 'entornava', 'namoradas', 'recompunha', 'ignaro', 'guardas', 'conhecerás', 'gostarás', 'penumbra', 'bicos', 'léguas', 'barbas', 'assírias', 'gaita', 'anacreôntica', 'Guarda', 'apraz', 'empregarei', 'locução', 'guardares', 'marujos', 'entoadas', 'poética', 'exigir', 'CXVII', 'HUMANITISMO', 'compeliam', 'agitada', 'encaminhou', 'impetuoso', 'expôs', 'arruinar', 'Conta', 'estática', 'dispersiva', 'contará', 'contrativa', 'absorção', 'iniciando', 'personificada', 'aparecesse', 'exposição', 'desenvolveu', 'Explicou', 'ligava', 'Bramanismo', 'indiana', 'estreita', 'significação', 'teológica', 'descender', 'rins', 'cultivar', 'músculo', 'Hércules', 'antecipado', 'paganismo', 'amesquinhado', 'mitos', 'acontecerá', 'fáceis', 'sacerdócio', 'reprodução', 'prefira', 'galanteio', 'Porquanto', 'nascer', 'contigo', 'batata', 'Nota', 'veículo', 'cocheiro', 'passageiro', 'reduzido', 'adorar', 'superioridade', 'Contempla', 'moralista', 'grego', 'turco', 'muçulmano', 'troveje', 'acordo', 'campos', 'Iduméia', 'preconceitos', 'esquece', 'retóricas', 'rafadas', 'estuda', 'Sendo', 'fundamentalmente', 'oposto', 'sejam', 'algoz', 'executa', 'condenado', 'excitar', 'clamor', 'estripa', 'manifestação', 'obsta', 'estripado', 'entendeste', 'compreenderás', 'belicosos', 'adequados', 'estupefato', 'clareza', 'princípios', 'superiormente', 'suspender', 'digeria', 'triunfo', 'frango', 'trincava', 'objeções', 'frouxas', 'gastou', 'resumido', 'disséssemos', 'chupava', 'filosoficamente', 'submete', 'Nutriu', 'milho', 'plantado', 'africano', 'importado', 'Angola', 'Nasceu', 'cresceu', 'vendido', 'construído', 'madeira', 'cortada', 'velas', 'teceram', 'cordoalha', 'náutico', 'esforços', 'executados', 'demonstrou', 'ameaçada', 'espancada', 'treme', 'predisposição', 'base', 'transmitida', 'adoção', 'compenetre', 'obstar', 'milhares', 'volumes', 'manuscritos', 'citações', 'compunha', 'tratado', 'fundado', 'concebida', 'Reorganizada', 'eliminadas', 'insurreição', 'murro', 'facada', 'doenças', 'supostos', 'verdadeiros', 'equívocos', 'passariam', 'movimentos', 'externos', 'destinados', 'impediria', 'radicalmente', 'falso', 'correspondessem', 'destruído', '1', 'criadora', 'delícia', 'descende', '2', 'diminuiria', 'inventada', 'brisas', 'tâmaras', 'ruibarbo', 'tolo', 'Voltaire', 'CXVIII', 'TERCEIRA', 'FORÇA', 'incapacidade', 'atraía', 'namorava', 'aparecido', 'CXIX', 'PARÊNTESES', 'Quero', 'parêntesis', 'escrevi', 'bocejos', 'epígrafe', 'discursos', '*', 'Suporta', 'cólica', 'Matamos', 'enterra', 'diminuto', 'andassem', 'duvides', 'compreende', 'botocudo', 'fure', 'beiço', 'enfeitá', 'irrites', 'pagarem', 'CXX', 'COMPELLE', 'INTRARE', 'celibata', 'próprias', 'tênues', 'compradas', 'troco', 'Dispus', 'aliança', 'depositasse', 'internos', 'animou', 'etc', 'Compelle', 'apólogo', 'evangélico', 'prenúncio', 'erradamente', 'interpretado', 'padres', 'CXXI', 'MORRO', 'ABAIXO', 'maravilha', 'desejos', 'impulsos', 'levavam', 'matrimônio', 'terna', 'luminosa', 'angélica', 'falo', 'acrescentarei', 'deitara', 'capela', 'habitações', 'palacete', 'lépidos', 'Vínhamos', 'achamos', 'alvoroçado', 'fomos', 'vimos', 'jaqueta', 'metidos', 'sobrecasacas', 'esfrangalhadas', 'diversas', 'cócaras', 'apoiadas', 'sentados', 'encostados', 'fixos', 'debruçadas', 'pupilas', 'calasse', 'sutilmente', 'galos', 'contendores', 'esporão', 'bico', 'Ambos', 'cristas', 'desplumado', 'rubro', 'invadia', 'lutavam', 'vibrantes', 'raivosos', 'concentrara', 'fôssemos', 'desabitado', 'ajuntei', 'osculou', 'sopé', 'detivemo', 'rodeado', 'apostadores', 'comentar', 'tesoureiro', 'distribuía', 'vencedores', 'recebiam', 'duplamente', 'sobraçados', 'respectivo', 'crista', 'comida', 'ensangüentada', 'vencido', 'esfalfados', 'biografavam', 'relembravam', 'proezas', 'vexadíssima', 'CXXII', 'INTENÇÃO', 'MUITO', 'FINA', 'metera', 'afinidades', 'temer', 'sogro', 'estudava', 'polida', 'observava', 'imitava', 'adivinhava', 'mascarar', 'inferioridade', 'entristeceu', 'diverti', 'chanças', 'vãos', 'alegravam', 'abatimento', 'expressivo', 'positiva', 'afinidade', 'CXXIII', 'VERDADEIRO', 'COTRIM', 'harmonia', 'seriamente', 'Podiam', 'louvasse', 'prendas', 'calava', 'Mais', 'consultasse', 'apreciava', 'fartava', 'elogiar', 'justiça', 'respeita', 'aconselhar', 'Lavo', 'celibato', 'remora', 'voto', 'confidências', 'carnal', 'excessivo', 'souber', 'ferozmente', 'seguiram', 'Reconheço', 'Argüiam', 'avareza', 'cuide', 'exageração', 'orçamentos', 'saldo', 'acusá', 'alegado', 'mandar', 'calabouço', 'escorrer', 'perversos', 'fujões', 'contrabandeado', 'habituara', 'trato', 'duro', 'requeria', 'honestamente', 'índole', 'pios', 'irrefutável', 'confraria', 'irmandades', 'remido', 'coaduna', 'irmandade', 'óleo', 'perfeito', 'praticava', 'repreensível', 'louvável', 'concordo', 'desculpava', 'contagiosas', 'nisto', 'elogio', 'espertar', 'intuito', 'publicidade', 'sine', 'qua', 'non', 'CXXIV', 'VÁ', 'INTERMÉDIO', 'ponte', 'compusesse', 'padeceria', 'danoso', 'Saltar', 'epitáfio', 'refugia', 'pinturesca', 'repito', 'CXXV', 'EPITÁFIO', '________________________', 'AQUI', 'JAZ', 'EULÁLIA', 'DAMASCENA', 'BRITO', 'MORTA', 'AOS', 'DEZENOVE', 'ANOS', 'IDADE', 'ORAI', 'POR', 'ELA', 'CXXVI', 'DESCONSOLAÇÃO', 'narrasse', 'Ficam', 'febre', 'jazigo', 'Concluí', 'excessos', 'inadvertência', 'doeu', 'cegueira', 'epidemia', 'jovem', 'mortes', 'epidemias', 'úteis', 'desastrosas', 'indivíduos', 'horrendo', 'sobrevivência', 'Chegou', 'luto', 'secreto', 'encanto', 'garras', 'peste', 'Quinze', 'inconsolável', 'castigara', 'aumentada', 'infligiram', 'quisera', 'Doze', 'quartas', 'acompanharam', 'perdas', 'desculpar', 'desatenção', 'abanava', 'desampararam', 'interessam', 'viriam', 'falariam', 'inércia', 'panacéias', 'boticários', 'viessem', 'CXXVII', 'FORMALIDADE', 'partícula', 'dom', 'psíquica', 'agradeço', 'lembraria', 'gravura', 'representando', 'turcas', 'lembrei', 'Constantinopla', 'modernas', 'trajos', 'tapada', 'tenuíssimo', 'simulava', 'descobria', 'esperteza', 'faceirice', 'muçulmana', 'esconde', 'divulga', 'Aparentemente', 'duvido', 'negues', 'rígida', 'companheira', 'Amável', 'Formalidade', 'bordão', 'bálsamo', 'medianeira', 'enxugas', 'captas', 'Profeta', 'adormece', 'acomoda', 'corteja', 'controvérsia', 'interpretação', 'sossego', 'Muamede', 'CXXVIII', 'CÂMARA', 'notai', 'turca', 'discutia', 'comissão', 'orçamento', 'encarecer', 'recostado', 'colega', 'sobrecarta', 'botelhas', 'devendo', 'conter', 'suspensiva', 'dubitativa', 'condicional', 'continha', 'CXXIX', 'SEM', 'REMORSOS', 'possuísse', 'incluía', 'química', 'decompor', 'concludente', 'passeia', 'Tróia', 'adversário', 'lady', 'Macbeth', 'mancha', 'químicos', 'ovante', 'ouvem', 'Príamo', 'ganha', 'CXXX', 'PARA', 'INTERCALAR', 'NO', 'CAP', '1855', 'gorgorão', 'ostentava', 'luzes', 'frescura', 'formosura', 'outoniça', 'realçada', 'aludir', 'Subentendia', 'remoto', 'Pouco', 'ventriloquismo', 'perdoem', 'filólogos', 'bárbara', 'Magnífica', 'Convém', 'oração', 'CXXXI', 'CALÚNIA', 'ventríloquo', 'despejado', 'Recordações', 'hein', 'reintegrado', 'Salta', 'indiscretas', 'retificar', 'noção', 'amorosa', 'negavam', 'monossilábico', 'parceiras', 'jurariam', 'Santos', 'Evangelhos', 'entrega', 'romanas', 'polinésias', 'lapônias', 'cafres', 'civilizadas', 'culta', 'conjuga', 'Além', 'refiro', 'defesos', 'refinar', 'aleivosia', 'vencedor', 'legitimamente', 'ríspido', 'Perdem', 'desastradas', 'saberem', 'rainha', 'Navarra', 'empregou', 'algures', 'cachorrinho', 'adestrado', 'alfim', 'ouçamos', 'CXXXII', 'SÉRIO', 'Citando', 'arrufada', 'costuma', 'Gentes', 'cachorrinhos', 'secretas', 'CXXXIII', 'PRINCÍPIO', 'HELVETIUS', 'arrancou', 'emendo', 'Helvetius', 'confirmar', 'provocar', 'sopitado', 'masculina', 'segurança', 'desvanecimento', 'íntimo', 'imediato', 'reflexivo', 'silogismo', 'espontâneo', 'instintivo', 'Conclusão', 'recôndito', 'CXXXIV', 'CINQÜENTA', 'tocava', 'capeada', 'devemos', 'empregarmos', 'restante', 'terei', 'lesto', 'enfiou', 'dançar', 'embriagar', 'cristais', 'bonitos', 'ligeiro', 'remocei', 'retirei', 'teimosos', 'tolhidos', 'reumáticos', 'cochilando', 'morcego', 'escarapitado', 'tejadilho', 'rejuvenescência', 'CXXXV', 'OBLIVION', 'seguido', 'extinguiu', 'invalidez', 'Venham', 'entenderei', 'ESQUECIMENTO', 'versaletes', 'Justo', 'dêem', 'honras', 'personagem', 'desprezado', 'conviva', 'atual', 'dolorosamente', 'ostentou', 'Paraná', 'sente', 'busca', 'saudação', 'encetavam', 'Tempora', 'mutantur', 'Compreende', 'farrapos', 'lastima', 'apeadas', 'estribeiro', 'Espetáculo', 'divertir', 'CXXXVI', 'INUTlLIDADE', 'CXXXVII', 'BARRETINA', 'resume', 'elevado', 'tino', 'escorregando', 'ladeira', 'fatal', 'vencer', 'vapores', 'dominar', 'Ânimo', 'palerma', 'sucessão', 'choramigas', 'deita', 'rio', 'lastimar', 'incessante', 'aproveitá', 'menores', 'tiveram', 'condão', 'façamo', 'intervindo', 'debates', 'Cortejava', 'pasta', 'rapapés', 'chás', 'comissões', 'votos', 'apoderar', 'Comecei', 'discutindo', 'julgava', 'barretina', 'demonstrei', 'citei', 'Filopémen', 'ordenou', 'substituição', 'broquéis', 'tropas', 'lanças', 'demasiado', 'leves', 'desmentisse', 'barretinas', 'serem', 'deselegantes', 'higiênicas', 'paradas', 'excesso', 'produzido', 'Hipócrates', 'obrigar', 'cidadão', 'uniforme', 'conseqüentemente', 'anteparo', 'chamado', 'serviço', 'gratuito', 'freqüente', 'penoso', 'diminuísse', 'ônus', 'decretando', 'maneiro', 'Acrescia', 'abatia', 'cidadãos', 'altiva', 'chorão', 'galhos', 'palmeira', 'praças', 'Vária', 'rapto', 'eloqüente', 'conseguira', 'considerada', 'deplorável', 'achavam', 'parlamentar', 'entrando', 'oposicionistas', 'insinuar', 'moção', 'Repeli', 'energicamente', 'errônea', 'caluniosa', 'notoriedade', 'sustentava', 'transigiria', 'extensão', 'contentando', 'polegada', 'adotada', 'iniciado', 'restrição', 'salientes', 'comedimento', 'impugnou', 'convencendo', 'CXXXVIII', 'CRÍTICO', 'crítico', 'Algumas', 'aches', 'incompreensível', 'chamo', 'envelhece', 'experimento', 'correspondente', 'CXXXIX', 'COMO', 'FUI', 'MINISTRO', 'ESTADO', '.....................................................................................................................................................................................................................................................................................................................................................................................................................................................................................................................................................................................................................................................................................................................................................................................................................................................................................................................', 'CXL', 'EXPLICA', 'ANTERIOR', 'calando', 'Podem', 'ambiciosos', 'malogrados', 'inculcam', 'imaginem', 'terminava', 'filosóficas', 'amofina', 'toucados', 'queima', 'chegam', 'aflição', 'filosofias', 'equivalia', 'desacato', 'irritação', 'Trouxeram', 'bronze', 'acentuar', 'risinho', 'sarcasmo', 'ladrão', 'chalaça', 'pendia', 'gaiola', 'chilreavam', 'rústicas', 'conspiração', 'alumiado', 'CXLI', 'CÃES', ',,', 'pretendes', 'vazia', 'parapeito', 'envergonhado', 'Tantos', 'distrair', 'convidou', 'saímos', 'Engenho', 'Íamos', 'filosofando', 'fechavam', 'jornal', 'elevada', 'retemperar', 'calão', 'Funda', 'desmancha', 'igrejinha', 'fundar', 'escachá', 'Lutar', 'Podes', 'lutes', 'Vida', 'cães', 'observar', 'osso', 'carne', 'mordiam', 'êxtase', 'arrancá', 'arraigado', 'cessou', 'mordido', 'contivesse', 'alimento', 'disputam', 'manjares', 'apetecíveis', 'complica', 'inteligência', 'acúmulo', 'CXLII', 'PEDIDO', 'SECRETO', 'Quanta', 'discípulo', 'adequada', 'Andando', 'disputar', 'brandura', 'Disputá', 'lógico', 'disputá', 'Voluntariamente', 'comem', 'Precursor', 'Ezequiel', 'ruim', 'comível', 'exaltação', 'modificável', 'Entramos', 'discrição', 'lombada', 'estante', 'Peço', 'Beco', 'Escadinhas', 'alcança', 'metê', 'Misericórdia', 'correta', 'assinatura', 'rabisco', 'alfabética', 'autoria', 'Virei', 'revirei', 'deixado', 'Vais', 'avôs', 'espirituais', 'sobraçada', 'Diz', 'ignora', 'disputa', 'limita', 'dura', 'acaba', 'consciente', 'imodéstia', 'inferior', 'CXLIII', 'VOU', 'relia', 'mastigava', 'engolir', 'botou', 'comeu', 'toca', 'Morre', 'maçada', 'CXLIV', 'UTILIDADE', 'RELATIVA', 'conselheira', 'Letras', 'vencidas', 'urge', 'pagá', 'envolto', 'molambos', 'estendido', 'nauseabundo', 'transportar', 'Minto', 'amanheceu', 'específica', 'tivessem', 'interrompidos', 'quebrados', 'efervescência', 'utilidade', 'Utilidade', 'convenho', 'CXLV', 'SIMPLES', 'REPETIÇÃO', 'canteiro', 'enamorado', 'logrou', 'vendeu', 'repetição', 'CXLVI', 'PROGRAMA', 'Redigi', 'programa', 'publicado', 'aperfeiçoava', 'assentamos', 'referência', 'exigiu', 'autógrafa', 'reservada', 'aplicados', 'tirados', 'inédito', 'programas', 'prometia', 'destruir', 'abusos', 'defender', 'sãos', 'apelo', 'lavoura', 'citava', 'Guizot', 'Ledru', 'Rollin', 'ameaça', 'professamos', 'inevitavelmente', 'derrubar', 'saturada', 'guerras', 'contenda', 'cabras', 'soldados', 'sabiam', 'morriam', 'acontece', 'aplicar', 'substituir', 'califa', 'venham', 'recuarei', 'mundos', 'posterior', 'CXLVII', 'DESATINO', 'começaria', 'oposicionista', 'redigido', 'fraternidade', 'humanística', 'gloriosos', 'transtornado', 'afetando', 'dissuadir', 'Mostrou', 'colocar', 'trancar', 'viveria', 'ganhar', 'indispô', 'afeiçoados', 'meditara', 'linha', 'propor', 'pense', 'camorote', 'Mano', 'mendigar', 'adequado', 'afiancei', 'empregaria', 'cortês', 'enérgica', 'especiaria', 'paladar', 'leque', 'alternadamente', 'Desenganada', 'invejosas', 'siga', 'cumprimos', 'CXLVIII', 'PROBLEMA', 'INSOLÚVEL', 'Publiquei', 'Vinte', 'militasse', 'partidos', 'dividia', 'indireta', 'reprovava', 'capacidades', 'promover', 'Esfreguei', 'inoportuna', 'insólita', 'enigmática', 'acham', 'fazem', 'declarações', 'obrigados', 'intrusão', 'agressão', 'Nossas', 'lhanas', 'benévolas', 'dissentimento', 'fornecimentos', 'arsenal', 'pontualidade', 'enxovalhar', 'cometer', 'destempero', 'ingratidão', 'insolúvel', 'CXLIX', 'TEORIA', 'BENEFÍCIO', 'estudá', 'problemas', 'censura', 'conclusões', 'beneficiador', 'beneficiado', 'cessar', 'cessada', 'Supõe', 'apertado', 'demasia', 'cós', 'desabotoas', 'respiras', 'saboreias', 'praticaram', 'havendo', 'perdure', 'esvaeça', 'aérea', 'favores', 'sublimes', 'usando', 'continuada', 'repercute', 'aconselha', 'precaução', 'aconteça', 'persistir', 'verdadeiras', 'aberrações', 'repliquei', 'obsequiado', 'obsequiador', 'explicasses', 'exerce', 'dedutivamente', 'Erasmo', 'Elogio', 'complacência', 'burros', 'coçam', 'rejeitar', 'coçar', 'indício', 'esqueças', 'irradiação', 'admiráveis', 'CL', 'ROTAÇÃO', 'TRANSLAÇÃO', 'empresa', 'ciclo', 'inteiro', 'coroou', 'lepidez', 'Seis', 'nutre', 'efêmeras', 'alimenta', 'parasitas', 'nítida', 'prefiro', 'astronômica', 'duplo', 'rotação', 'translação', 'desiguais', 'Júpiter', 'compõe', 'Morria', 'ministerial', 'Correu', 'boato', 'Prazer', 'mortuária', 'féretro', 'soluçar', 'tirá', 'pá', 'cal', 'baque', 'estremecimento', 'desagradável', 'chumbo', 'CLI', 'EPITÁFIOS', 'grupos', 'fingindo', 'epitáfios', 'civilizada', 'pio', 'induz', 'sabem', 'mortos', 'vala', 'podridão', 'CLII', 'MOEDA', 'VESPASIANO', 'Acendi', 'charuto', 'cerimônia', 'traíra', 'trajeto', 'apeando', 'suspeitei', 'Meiga', 'Natura', 'taxa', 'Vespasiano', 'colhe', 'repreenderá', 'implacável', 'recebeste', 'pontualmente', 'CLIII', 'ALIENISTA', 'patético', 'Dormi', 'sonhei', 'nababo', 'credo', 'pensado', 'transferisse', 'arcebispo', 'Cantuária', 'coletor', 'Petrópolis', 'cálculos', 'eliminaria', 'jazer', 'Questões', 'insolúveis', 'solúveis', 'atenda', 'arcebispos', 'bula', 'bondade', 'comunicar', 'geralmente', 'vede', 'fundamento', 'crença', 'popular', 'filósofos', 'alheios', 'mínimas', 'alienista', 'aterrado', 'habilidade', 'despedindo', 'sorrindo', 'terão', 'enganou', 'Redondamente', 'distraia', 'reconheceu', 'advertência', 'Observou', 'grãozinho', 'sandice', 'rejeitasse', 'CLIV', 'NAVIOS', 'PIREU', 'maníaco', 'ateniense', 'navios', 'entrados', 'Pireu', 'pobretão', 'cuba', 'Diógenes', 'imaginária', 'dracmas', 'Hélade', 'Atenas', 'jurar', 'possuiu', 'mentalmente', 'patachos', 'jura', 'sacudindo', 'tapetes', 'escancarara', 'alçara', 'devassara', 'ricamente', 'alfaiada', 'CLV', 'CORDIAL', 'entrem', 'maníacos', 'paragens', 'CLVI', 'ORGULHO', 'SERVILIDADE', 'divergiu', 'observações', 'tomadas', 'regido', 'cocheiros', 'empertigados', 'solicitude', 'obedece', 'variações', 'freguesia', 'cabal', 'engraxar', 'CLVII', 'FASE', 'BRILHANTE', 'Sublime', 'demência', 'denunciando', 'denúncia', 'reconciliei', 'Reconciliação', 'oportuna', 'pesava', 'convidado', 'filiar', 'Ordem', 'Terceira', 'temporariamente', 'anexar', 'dogmática', 'litúrgica', 'cristianismo', 'mendigos', 'religiões', 'orçam', 'paraíso', 'êmulo', 'nirvana', 'Buda', 'paralíticos', 'Verás', 'final', 'reconstituição', 'aniquilamento', 'chamam', 'filiei', '***,', 'exerci', 'cargos', 'calo', 'recompensas', 'economia', 'mostrasse', 'subjetivo', 'prendessem', 'psicologia', 'quadros', 'aborrecida', 'doentes', 'reflexo', 'CLVIII', 'DOIS', 'ENCONTROS', 'donativo', 'acabarei', 'adivinhem', 'cortiço', 'distribuir', 'baixou', 'Ergueu', 'Compreendi', 'receberia', 'estendi', 'capitalista', 'Cortejou', 'expirar', 'CLIX', 'SEMIDEMÊNCIA', 'partira', 'Gerais', 'Voltou', 'demente', 'aperfeiçoar', 'queimara', 'manuscrito', 'recomeçá', 'Juras', 'Sabes', 'descoberto', 'louco', 'Recitava', 'antífonas', 'litanias', 'reproduzir', 'dança', 'sacra', 'inventara', 'lúgubre', 'levantava', 'fantástica', 'amuava', 'fulgurava', 'persistente', 'jurando', 'caluniado', 'supôs', 'CLX', 'NEGATIVAS', 'mediaram', 'narrados', 'Divino', 'darias', 'eras', 'inspiração', 'ficais', 'negativas', 'alcancei', 'celebridade', 'faltas', 'coube', 'semidemência', 'Somadas', 'imaginará', 'míngua', 'quite', 'transmiti'])"
            ]
          },
          "metadata": {
            "tags": []
          },
          "execution_count": 121
        }
      ]
    },
    {
      "cell_type": "code",
      "metadata": {
        "id": "9susWrOnRHhB",
        "colab_type": "code",
        "colab": {
          "base_uri": "https://localhost:8080/",
          "height": 55
        },
        "outputId": "57bbbd3a-0d76-4b6d-b8d5-7f908b859c6c"
      },
      "source": [
        "##retorna valores das palavras fd1.keys()\n",
        "fd1.values()"
      ],
      "execution_count": 120,
      "outputs": [
        {
          "output_type": "execute_result",
          "data": {
            "text/plain": [
              "dict_values([1, 7, 5, 2063, 32, 49, 3, 1, 2, 204, 2, 1, 2, 2, 8, 8, 1, 2, 1, 1, 1, 1, 335, 1, 2430, 2, 2, 283, 2, 2, 34, 3, 2133, 30, 1, 427, 2, 3, 680, 185, 11, 1, 255, 2, 8, 16, 1, 644, 8, 7, 160, 38, 4, 147, 6, 70, 2, 10, 80, 1, 273, 31, 47, 2, 1618, 2, 4, 5, 20, 17, 1, 335, 1, 87, 83, 148, 1823, 1, 54, 227, 55, 2, 5, 15, 1, 2, 2, 287, 13, 67, 15, 3, 22, 48, 1, 259, 11, 1, 1, 1, 3, 8, 45, 16, 32, 923, 5, 2, 2, 1, 34, 978, 3, 254, 77, 113, 1, 1, 1, 172, 9, 9, 63, 8, 26, 37, 17, 3, 6, 33, 14, 9, 10, 30, 911, 437, 34, 63, 17, 347, 16, 75, 712, 3, 3, 4, 631, 2, 18, 415, 2, 8, 6, 3, 8, 3, 60, 402, 8, 33, 3, 3, 8, 1, 52, 23, 2, 5, 8, 1, 228, 36, 37, 76, 116, 164, 19, 7, 7, 477, 213, 7, 12, 12, 19, 16, 3, 2, 20, 2, 2, 28, 29, 9, 40, 1, 31, 1, 1, 7, 6, 325, 8, 123, 7, 248, 36, 11, 4, 3, 50, 2, 19, 49, 47, 2, 1, 63, 3, 2, 11, 5, 11, 4, 5, 3, 1, 127, 7, 1, 52, 2, 483, 7, 10, 103, 156, 16, 1, 262, 32, 31, 49, 4, 97, 2, 559, 13, 3, 1, 7, 10, 1, 1, 22, 11, 1, 3, 6, 2, 23, 5, 11, 18, 1, 10, 52, 3, 4, 77, 38, 12, 1, 2, 3, 55, 1, 2, 2, 21, 88, 2, 1, 1, 8, 10, 1, 11, 1, 110, 67, 14, 4, 5, 1, 1, 1, 12, 2, 2, 2, 2, 1, 21, 32, 3, 6, 1, 1, 21, 1, 3, 55, 91, 63, 3, 4, 2, 2, 3, 9, 160, 2, 160, 1, 8, 2, 4, 3, 25, 9, 5, 40, 20, 52, 65, 1, 14, 4, 59, 1, 7, 7, 11, 2, 1, 2, 1, 6, 9, 13, 1, 44, 1, 2, 10, 2, 5, 10, 1, 52, 9, 41, 4, 1, 10, 17, 1, 54, 1, 3, 1, 67, 27, 2, 4, 4, 1, 2, 10, 23, 1, 19, 4, 23, 1, 1, 3, 7, 2, 2, 29, 53, 3, 8, 8, 11, 1, 291, 5, 15, 11, 1, 2, 1, 1, 4, 46, 3, 92, 11, 2, 1, 14, 24, 3, 1, 60, 10, 1, 1, 4, 2, 1, 52, 4, 3, 2, 53, 16, 29, 1, 1, 2, 3, 2, 4, 2, 2, 10, 36, 2, 1, 10, 2, 3, 2, 1, 15, 1, 1, 46, 28, 1, 4, 3, 5, 3, 2, 8, 2, 33, 4, 2, 2, 14, 2, 166, 2, 26, 126, 13, 1, 67, 2, 1, 1, 2, 147, 1, 2, 4, 1, 1, 1, 1, 16, 2, 6, 2, 39, 4, 20, 12, 6, 13, 36, 10, 38, 39, 3, 15, 297, 1, 3, 7, 96, 27, 16, 23, 2, 24, 7, 1, 3, 1, 1, 5, 3, 16, 2, 14, 1, 1, 1, 56, 3, 1, 1, 68, 3, 3, 15, 5, 1, 42, 2, 11, 137, 2, 22, 1, 34, 62, 12, 2, 1, 4, 7, 72, 6, 15, 27, 2, 1, 1, 3, 10, 2, 2, 1, 2, 1, 12, 6, 2, 30, 1, 6, 88, 2, 3, 1, 82, 55, 4, 5, 12, 19, 16, 4, 1, 4, 5, 9, 1, 1, 31, 3, 1, 43, 8, 1, 4, 1, 1, 1, 1, 52, 41, 1, 3, 2, 10, 26, 22, 15, 4, 1, 10, 5, 7, 6, 1, 29, 6, 2, 3, 14, 24, 35, 3, 2, 1, 36, 1, 2, 5, 2, 2, 15, 9, 3, 10, 7, 5, 2, 30, 1, 97, 2, 1, 22, 29, 92, 19, 5, 6, 1, 4, 129, 16, 28, 81, 2, 24, 1, 1, 34, 1, 3, 1, 60, 3, 4, 31, 64, 4, 6, 23, 10, 4, 3, 1, 1, 5, 114, 6, 1, 1, 2, 1, 3, 1, 46, 1, 14, 1, 1, 75, 1, 5, 12, 9, 4, 9, 3, 3, 1, 6, 1, 5, 1, 2, 3, 3, 1, 5, 33, 14, 26, 15, 8, 1, 11, 16, 46, 1, 130, 3, 1, 1, 1, 39, 1, 28, 1, 20, 2, 15, 2, 1, 1, 23, 1, 1, 5, 5, 5, 3, 3, 1, 20, 2, 1, 1, 109, 100, 2, 2, 1, 3, 1, 10, 21, 8, 1, 5, 5, 3, 1, 3, 86, 3, 1, 6, 3, 6, 3, 1, 2, 16, 79, 106, 6, 3, 4, 1, 2, 3, 12, 1, 1, 7, 58, 2, 1, 15, 6, 1, 1, 1, 28, 5, 1, 2, 10, 2, 78, 3, 12, 17, 31, 10, 2, 1, 2, 19, 1, 4, 27, 1, 1, 2, 1, 7, 1, 1, 16, 5, 3, 1, 25, 1, 10, 5, 6, 2, 2, 3, 29, 9, 105, 5, 5, 48, 5, 1, 5, 1, 5, 7, 2, 6, 4, 2, 23, 2, 1, 1, 1, 78, 1, 12, 1, 2, 1, 3, 1, 2, 1, 2, 2, 1, 39, 5, 10, 1, 22, 4, 2, 7, 1, 6, 2, 1, 1, 18, 1, 4, 1, 1, 23, 150, 1, 1, 3, 1, 19, 5, 1, 17, 7, 1, 1, 17, 1, 1, 15, 24, 1, 1, 1, 1, 69, 2, 5, 2, 22, 31, 1, 20, 1, 4, 2, 1, 1, 1, 7, 1, 9, 23, 35, 1, 1, 4, 3, 1, 2, 2, 4, 1, 2, 1, 1, 15, 1, 20, 3, 1, 1, 2, 9, 9, 3, 1, 1, 4, 2, 7, 1, 1, 11, 33, 1, 1, 5, 7, 40, 1, 1, 1, 12, 1, 1, 9, 1, 3, 1, 2, 2, 1, 2, 3, 1, 2, 4, 2, 15, 3, 134, 2, 6, 3, 2, 1, 10, 1, 7, 3, 8, 3, 6, 1, 1, 1, 1, 1, 7, 5, 1, 2, 2, 25, 2, 22, 3, 40, 1, 11, 20, 2, 5, 11, 1, 7, 64, 27, 13, 2, 1, 2, 1, 7, 20, 2, 58, 4, 64, 1, 1, 1, 2, 1, 1, 1, 11, 1, 1, 1, 2, 17, 13, 5, 37, 1, 1, 1, 27, 4, 1, 48, 1, 3, 4, 2, 55, 1, 4, 1, 3, 2, 1, 10, 1, 1, 16, 13, 20, 1, 9, 1, 29, 53, 6, 45, 1, 3, 1, 1, 11, 9, 7, 1, 3, 2, 2, 1, 2, 1, 6, 17, 1, 1, 1, 4, 1, 7, 1, 1, 22, 6, 1, 1, 1, 2, 1, 6, 5, 8, 2, 6, 3, 1, 1, 2, 8, 5, 1, 2, 4, 1, 39, 95, 14, 1, 3, 3, 40, 10, 5, 5, 1, 1, 25, 1, 21, 1, 2, 1, 1, 26, 5, 5, 1, 2, 1, 3, 1, 3, 1, 1, 2, 1, 1, 3, 2, 1, 29, 1, 5, 8, 2, 1, 2, 1, 9, 68, 3, 5, 3, 57, 2, 10, 3, 1, 20, 49, 11, 4, 1, 6, 1, 1, 1, 16, 6, 6, 3, 14, 3, 1, 2, 3, 10, 2, 1, 1, 1, 2, 4, 2, 2, 8, 28, 16, 25, 6, 4, 1, 6, 3, 1, 2, 4, 31, 5, 2, 16, 7, 1, 11, 1, 6, 9, 3, 20, 1, 1, 2, 46, 2, 2, 1, 2, 9, 14, 4, 6, 1, 1, 36, 7, 1, 2, 27, 1, 18, 12, 4, 1, 2, 2, 1, 2, 1, 3, 21, 8, 3, 2, 2, 3, 1, 10, 1, 1, 21, 1, 45, 9, 2, 2, 4, 193, 7, 2, 8, 8, 4, 21, 2, 4, 13, 7, 2, 24, 1, 1, 18, 1, 1, 1, 5, 1, 3, 20, 3, 46, 1, 42, 7, 21, 2, 5, 5, 48, 20, 3, 2, 1, 2, 2, 11, 7, 3, 2, 3, 32, 5, 13, 8, 1, 1, 8, 1, 1, 13, 2, 2, 2, 176, 17, 11, 1, 1, 43, 1, 1, 3, 18, 1, 1, 27, 7, 13, 1, 106, 1, 3, 7, 4, 1, 1, 18, 1, 4, 2, 8, 5, 10, 24, 11, 1, 1, 2, 16, 15, 13, 5, 22, 3, 12, 2, 1, 2, 6, 1, 4, 4, 18, 2, 10, 31, 2, 7, 1, 4, 30, 2, 10, 2, 3, 22, 7, 8, 14, 4, 1, 2, 9, 6, 13, 13, 10, 3, 1, 9, 19, 3, 4, 11, 18, 14, 5, 2, 1, 1, 1, 1, 1, 2, 22, 3, 2, 6, 11, 2, 4, 4, 2, 1, 1, 9, 1, 1, 34, 1, 4, 6, 2, 1, 1, 1, 1, 2, 1, 5, 7, 3, 17, 5, 14, 1, 1, 1, 9, 4, 1, 10, 6, 1, 1, 1, 2, 24, 6, 9, 11, 1, 30, 6, 3, 5, 1, 3, 6, 9, 8, 9, 34, 13, 22, 2, 4, 15, 2, 1, 1, 2, 1, 2, 3, 8, 2, 1, 4, 12, 1, 1, 1, 1, 1, 27, 3, 1, 1, 2, 1, 4, 16, 14, 20, 1, 6, 6, 1, 4, 9, 4, 32, 7, 1, 1, 11, 3, 3, 5, 5, 23, 7, 29, 4, 47, 15, 2, 1, 1, 13, 10, 27, 5, 1, 7, 5, 3, 14, 2, 2, 1, 3, 10, 2, 2, 3, 10, 1, 8, 4, 1, 1, 3, 2, 6, 1, 6, 4, 3, 2, 3, 11, 3, 6, 17, 5, 1, 7, 7, 2, 5, 6, 1, 14, 19, 11, 1, 2, 27, 4, 1, 3, 6, 1, 3, 2, 5, 1, 8, 8, 1, 1, 19, 3, 8, 4, 6, 2, 1, 1, 6, 1, 1, 2, 1, 8, 1, 1, 2, 8, 5, 2, 3, 1, 3, 1, 3, 3, 2, 1, 2, 1, 1, 1, 4, 1, 13, 5, 10, 1, 1, 1, 5, 13, 1, 5, 1, 13, 2, 1, 10, 1, 4, 2, 1, 1, 7, 2, 11, 6, 3, 2, 1, 1, 1, 3, 5, 1, 2, 10, 1, 6, 1, 2, 2, 2, 2, 2, 2, 25, 1, 1, 2, 2, 5, 8, 16, 1, 4, 15, 42, 2, 13, 4, 3, 1, 1, 3, 2, 2, 1, 1, 3, 1, 3, 1, 1, 3, 1, 2, 3, 1, 1, 1, 7, 19, 2, 1, 9, 2, 12, 8, 1, 9, 12, 1, 1, 2, 2, 5, 10, 1, 2, 10, 1, 2, 8, 4, 28, 12, 5, 1, 23, 6, 1, 11, 5, 1, 5, 1, 19, 1, 1, 2, 1, 21, 1, 8, 1, 29, 1, 1, 1, 3, 1, 2, 11, 10, 10, 6, 1, 2, 1, 1, 5, 1, 2, 26, 2, 1, 1, 1, 3, 3, 7, 1, 1, 2, 2, 28, 5, 4, 1, 1, 3, 3, 1, 7, 3, 5, 2, 15, 1, 1, 9, 1, 18, 5, 1, 3, 21, 1, 1, 10, 12, 7, 19, 1, 1, 3, 11, 1, 1, 1, 2, 2, 1, 1, 45, 1, 10, 9, 12, 2, 2, 7, 2, 2, 1, 7, 2, 24, 7, 8, 1, 2, 6, 1, 1, 2, 1, 5, 8, 10, 2, 2, 2, 2, 7, 1, 12, 1, 7, 1, 2, 6, 20, 10, 3, 2, 1, 6, 3, 2, 4, 2, 1, 2, 2, 1, 5, 1, 1, 2, 2, 4, 1, 4, 3, 32, 2, 14, 1, 3, 2, 25, 4, 2, 22, 1, 2, 10, 5, 1, 3, 2, 1, 1, 3, 8, 4, 1, 2, 9, 1, 1, 2, 11, 11, 9, 2, 3, 3, 2, 2, 11, 16, 4, 2, 12, 2, 2, 1, 1, 2, 14, 6, 8, 4, 1, 1, 2, 6, 1, 11, 1, 1, 2, 1, 3, 5, 1, 2, 2, 1, 2, 1, 1, 2, 1, 9, 3, 1, 9, 6, 5, 2, 1, 1, 2, 1, 17, 2, 3, 3, 9, 1, 2, 2, 1, 1, 1, 1, 1, 13, 3, 2, 16, 1, 1, 13, 1, 1, 1, 2, 1, 7, 1, 3, 6, 1, 1, 1, 2, 4, 1, 9, 5, 1, 1, 1, 2, 1, 3, 2, 1, 5, 2, 12, 4, 5, 1, 2, 5, 2, 3, 4, 17, 1, 2, 2, 1, 2, 1, 1, 2, 3, 1, 1, 1, 1, 1, 1, 3, 1, 2, 6, 2, 1, 1, 3, 1, 14, 3, 3, 2, 1, 1, 1, 1, 3, 2, 1, 2, 19, 1, 3, 1, 2, 1, 1, 1, 2, 3, 1, 4, 12, 1, 2, 33, 2, 2, 1, 1, 1, 1, 1, 2, 10, 6, 6, 3, 7, 2, 1, 3, 5, 24, 1, 1, 1, 2, 3, 3, 1, 1, 6, 1, 1, 2, 1, 1, 3, 1, 2, 2, 4, 1, 1, 4, 7, 3, 7, 1, 1, 5, 1, 1, 1, 1, 2, 1, 9, 1, 1, 1, 1, 2, 1, 9, 1, 12, 1, 1, 20, 3, 4, 10, 1, 4, 1, 2, 6, 2, 1, 1, 29, 1, 35, 25, 5, 16, 13, 5, 1, 14, 2, 1, 3, 3, 1, 6, 3, 4, 1, 1, 1, 9, 4, 1, 11, 2, 1, 3, 1, 1, 5, 1, 1, 3, 7, 2, 3, 1, 3, 1, 3, 1, 1, 1, 4, 2, 4, 1, 10, 3, 1, 1, 1, 1, 1, 1, 1, 1, 2, 1, 1, 4, 4, 3, 6, 1, 7, 1, 3, 1, 1, 1, 4, 1, 1, 3, 6, 1, 1, 1, 1, 2, 1, 1, 1, 9, 1, 5, 8, 4, 1, 2, 7, 1, 2, 1, 1, 2, 4, 1, 5, 1, 1, 10, 11, 2, 7, 7, 15, 1, 1, 1, 3, 5, 6, 1, 1, 8, 18, 7, 2, 1, 1, 2, 1, 4, 2, 5, 2, 1, 5, 4, 1, 2, 1, 1, 1, 7, 8, 29, 1, 1, 3, 1, 2, 6, 2, 1, 2, 4, 3, 1, 3, 1, 7, 1, 17, 2, 8, 1, 14, 2, 4, 7, 2, 3, 2, 2, 18, 2, 1, 1, 5, 3, 1, 2, 6, 1, 52, 3, 1, 2, 1, 1, 5, 87, 2, 1, 1, 2, 9, 1, 1, 4, 1, 1, 1, 2, 4, 5, 9, 1, 1, 10, 4, 3, 1, 1, 5, 7, 2, 1, 1, 4, 6, 4, 1, 11, 18, 2, 1, 1, 2, 1, 5, 2, 1, 6, 2, 2, 2, 1, 2, 5, 3, 1, 4, 1, 1, 21, 2, 1, 2, 2, 3, 1, 1, 3, 1, 2, 3, 10, 5, 2, 2, 1, 2, 2, 1, 1, 8, 8, 8, 5, 4, 1, 1, 1, 1, 1, 1, 1, 11, 4, 2, 2, 2, 2, 2, 1, 6, 3, 1, 3, 4, 2, 1, 1, 1, 45, 2, 4, 1, 5, 1, 1, 6, 1, 2, 1, 3, 28, 2, 4, 1, 1, 1, 4, 3, 1, 1, 1, 4, 1, 2, 1, 8, 5, 1, 1, 8, 11, 1, 1, 2, 3, 1, 6, 30, 1, 3, 9, 1, 5, 2, 2, 1, 1, 5, 2, 13, 1, 15, 5, 3, 2, 1, 1, 2, 2, 3, 6, 14, 2, 1, 1, 2, 39, 1, 1, 4, 5, 3, 1, 1, 3, 1, 6, 7, 1, 8, 1, 1, 13, 13, 10, 1, 1, 1, 1, 3, 2, 2, 2, 9, 1, 1, 2, 1, 1, 1, 1, 2, 1, 2, 1, 9, 1, 2, 2, 2, 10, 8, 13, 6, 14, 7, 2, 13, 2, 1, 1, 3, 6, 3, 1, 1, 6, 1, 2, 1, 1, 1, 1, 3, 1, 2, 1, 17, 1, 1, 9, 1, 1, 1, 1, 4, 2, 10, 2, 1, 1, 2, 1, 1, 2, 8, 1, 1, 1, 1, 1, 1, 2, 1, 1, 2, 1, 3, 1, 9, 6, 10, 2, 6, 1, 1, 2, 2, 1, 1, 13, 3, 3, 1, 6, 1, 1, 2, 3, 2, 1, 1, 2, 3, 1, 4, 7, 1, 5, 1, 1, 3, 1, 2, 2, 1, 2, 1, 2, 1, 5, 2, 1, 1, 1, 1, 1, 5, 1, 2, 1, 2, 4, 2, 2, 1, 10, 1, 8, 7, 7, 2, 12, 5, 1, 2, 1, 1, 3, 2, 2, 1, 1, 2, 5, 1, 3, 3, 2, 1, 1, 1, 1, 2, 13, 2, 3, 1, 1, 1, 2, 2, 1, 1, 1, 5, 1, 2, 1, 1, 3, 1, 1, 2, 2, 2, 1, 1, 6, 9, 3, 1, 3, 2, 11, 3, 12, 6, 2, 2, 2, 3, 17, 1, 4, 2, 1, 1, 3, 1, 8, 1, 1, 1, 3, 5, 1, 1, 1, 6, 6, 9, 2, 2, 1, 8, 1, 1, 2, 2, 1, 1, 1, 1, 2, 1, 1, 1, 1, 2, 6, 1, 1, 1, 3, 6, 3, 1, 1, 1, 1, 4, 1, 2, 1, 1, 2, 2, 1, 1, 12, 2, 1, 18, 1, 14, 1, 1, 11, 12, 4, 7, 2, 1, 2, 10, 48, 12, 2, 8, 2, 5, 1, 11, 5, 2, 6, 1, 1, 12, 2, 1, 6, 3, 1, 2, 5, 7, 3, 1, 3, 3, 1, 16, 1, 10, 1, 2, 3, 37, 3, 7, 1, 2, 17, 1, 5, 1, 1, 1, 1, 1, 1, 2, 6, 1, 1, 1, 1, 1, 2, 1, 2, 1, 1, 2, 1, 1, 3, 2, 1, 19, 1, 4, 2, 1, 1, 1, 3, 10, 6, 2, 3, 1, 1, 1, 1, 2, 2, 1, 1, 20, 12, 1, 1, 1, 1, 1, 2, 1, 1, 2, 1, 4, 1, 1, 4, 2, 1, 5, 1, 2, 2, 11, 2, 4, 2, 1, 2, 2, 1, 2, 2, 3, 3, 1, 1, 3, 1, 1, 1, 8, 11, 3, 2, 3, 10, 2, 1, 1, 1, 11, 2, 3, 8, 8, 10, 12, 1, 1, 1, 3, 3, 1, 1, 1, 1, 1, 3, 3, 2, 1, 1, 1, 3, 31, 4, 1, 6, 1, 7, 2, 3, 1, 15, 2, 1, 1, 8, 1, 1, 1, 1, 4, 2, 2, 5, 1, 1, 1, 2, 1, 3, 1, 7, 1, 5, 8, 1, 5, 5, 1, 5, 2, 1, 17, 1, 2, 3, 1, 1, 2, 3, 2, 1, 1, 12, 10, 2, 4, 1, 1, 4, 7, 1, 7, 1, 8, 2, 2, 9, 3, 21, 2, 1, 1, 1, 4, 28, 15, 1, 3, 1, 7, 7, 1, 1, 1, 2, 3, 6, 20, 1, 7, 5, 15, 7, 1, 7, 1, 1, 3, 1, 1, 2, 1, 3, 11, 5, 3, 1, 2, 6, 22, 2, 1, 24, 1, 3, 1, 1, 1, 1, 2, 1, 1, 2, 1, 1, 1, 1, 3, 4, 11, 1, 5, 1, 1, 1, 3, 11, 1, 2, 1, 3, 1, 2, 1, 3, 1, 1, 1, 2, 1, 3, 1, 4, 4, 1, 2, 21, 5, 1, 1, 2, 1, 1, 1, 2, 1, 1, 2, 4, 1, 1, 1, 12, 1, 6, 1, 4, 2, 1, 1, 1, 4, 1, 2, 4, 1, 1, 2, 2, 1, 6, 1, 1, 1, 2, 10, 1, 3, 1, 1, 8, 7, 1, 1, 2, 2, 2, 3, 5, 1, 2, 2, 2, 8, 1, 1, 1, 2, 4, 3, 66, 69, 4, 14, 2, 9, 4, 1, 2, 3, 1, 3, 7, 2, 1, 1, 1, 3, 5, 1, 2, 1, 2, 2, 1, 2, 1, 30, 4, 1, 1, 1, 1, 1, 1, 1, 5, 1, 1, 1, 3, 1, 1, 2, 1, 6, 1, 4, 1, 3, 1, 1, 1, 1, 1, 1, 2, 1, 1, 1, 2, 4, 3, 3, 2, 1, 1, 3, 1, 3, 2, 1, 1, 1, 1, 2, 4, 2, 2, 2, 11, 1, 2, 2, 4, 2, 3, 3, 6, 1, 3, 7, 1, 8, 1, 1, 5, 1, 12, 2, 1, 2, 2, 1, 1, 4, 4, 1, 3, 1, 2, 3, 2, 1, 4, 59, 6, 5, 1, 7, 22, 3, 1, 5, 2, 1, 2, 1, 1, 1, 1, 1, 1, 1, 2, 1, 1, 1, 1, 2, 15, 3, 1, 1, 1, 1, 9, 1, 2, 2, 2, 17, 5, 2, 3, 2, 1, 1, 1, 3, 3, 2, 1, 1, 1, 2, 1, 1, 4, 1, 1, 5, 2, 1, 8, 3, 1, 6, 30, 2, 1, 3, 2, 1, 1, 1, 2, 1, 17, 4, 1, 4, 1, 1, 1, 1, 2, 3, 2, 1, 1, 2, 16, 2, 9, 1, 2, 3, 1, 1, 1, 2, 1, 6, 2, 5, 1, 1, 1, 9, 1, 1, 1, 11, 1, 1, 2, 1, 2, 1, 1, 1, 1, 1, 1, 1, 2, 1, 1, 1, 2, 1, 1, 2, 1, 1, 3, 1, 1, 5, 3, 1, 10, 1, 1, 1, 3, 7, 3, 2, 1, 1, 15, 7, 1, 2, 3, 1, 10, 1, 2, 1, 2, 1, 1, 1, 1, 1, 1, 7, 1, 1, 1, 1, 1, 2, 2, 2, 2, 1, 1, 1, 2, 1, 1, 2, 6, 4, 3, 1, 2, 2, 1, 1, 1, 7, 2, 6, 8, 14, 1, 1, 1, 1, 1, 3, 1, 1, 5, 3, 8, 1, 5, 1, 3, 2, 1, 5, 1, 3, 3, 7, 1, 1, 2, 1, 8, 2, 1, 2, 1, 2, 1, 3, 2, 6, 6, 1, 3, 8, 2, 2, 1, 2, 2, 8, 1, 1, 3, 1, 1, 3, 4, 1, 1, 3, 4, 2, 3, 4, 2, 1, 1, 11, 2, 1, 1, 2, 2, 1, 9, 4, 3, 11, 2, 2, 5, 3, 1, 1, 3, 2, 1, 3, 2, 3, 7, 1, 7, 2, 3, 1, 1, 6, 4, 15, 1, 1, 3, 3, 10, 2, 2, 3, 2, 1, 2, 1, 2, 1, 7, 1, 2, 1, 1, 2, 1, 1, 2, 1, 5, 1, 2, 3, 1, 5, 1, 1, 1, 4, 2, 2, 2, 5, 2, 2, 5, 2, 4, 3, 1, 5, 1, 3, 1, 1, 2, 10, 1, 1, 4, 1, 1, 2, 1, 1, 2, 1, 1, 3, 1, 10, 2, 1, 2, 1, 2, 1, 1, 1, 1, 1, 3, 2, 3, 2, 2, 1, 3, 4, 3, 2, 1, 1, 1, 1, 4, 18, 9, 2, 1, 1, 1, 2, 2, 1, 6, 10, 1, 2, 5, 1, 1, 1, 2, 1, 3, 2, 3, 1, 1, 1, 3, 1, 1, 1, 7, 1, 10, 1, 2, 2, 1, 1, 10, 11, 2, 4, 15, 5, 5, 2, 1, 2, 4, 6, 1, 1, 1, 1, 2, 2, 5, 2, 1, 1, 4, 2, 1, 1, 1, 1, 5, 4, 1, 4, 1, 8, 1, 4, 6, 11, 2, 1, 4, 1, 5, 5, 1, 6, 2, 1, 1, 8, 6, 10, 2, 4, 3, 1, 1, 6, 2, 2, 5, 3, 1, 8, 7, 4, 3, 1, 2, 5, 2, 3, 2, 1, 2, 2, 1, 1, 1, 3, 2, 7, 1, 2, 1, 1, 1, 1, 1, 1, 1, 5, 1, 1, 8, 1, 1, 1, 2, 1, 5, 1, 5, 7, 1, 2, 5, 4, 1, 11, 1, 5, 2, 1, 1, 3, 1, 1, 5, 2, 2, 1, 1, 1, 1, 2, 1, 1, 1, 4, 1, 3, 3, 3, 2, 1, 4, 1, 5, 1, 2, 4, 2, 2, 1, 1, 1, 1, 1, 2, 1, 1, 2, 1, 2, 5, 3, 2, 3, 4, 2, 1, 8, 1, 5, 2, 1, 1, 4, 1, 2, 1, 1, 1, 1, 1, 3, 1, 2, 1, 2, 2, 1, 2, 5, 2, 4, 2, 4, 3, 6, 3, 1, 1, 2, 7, 1, 2, 1, 3, 1, 8, 7, 3, 9, 1, 1, 6, 1, 1, 1, 1, 2, 5, 3, 3, 1, 2, 1, 6, 2, 1, 1, 7, 2, 4, 1, 1, 1, 1, 5, 1, 1, 1, 7, 2, 1, 7, 1, 2, 1, 1, 1, 2, 2, 1, 3, 1, 12, 7, 1, 1, 5, 1, 2, 1, 4, 1, 4, 2, 4, 2, 4, 1, 1, 2, 2, 1, 1, 2, 8, 3, 1, 1, 7, 3, 2, 3, 3, 4, 4, 1, 4, 1, 1, 1, 1, 3, 3, 2, 3, 1, 2, 2, 1, 1, 5, 1, 1, 3, 4, 1, 1, 1, 1, 3, 1, 2, 1, 2, 4, 4, 5, 1, 2, 1, 6, 3, 4, 2, 2, 1, 5, 1, 2, 2, 1, 5, 2, 4, 16, 5, 1, 4, 1, 1, 2, 3, 10, 1, 1, 2, 3, 1, 2, 7, 2, 3, 1, 1, 1, 1, 5, 3, 1, 7, 3, 1, 1, 1, 1, 1, 1, 3, 2, 2, 3, 1, 5, 1, 5, 2, 1, 2, 1, 2, 5, 1, 13, 1, 1, 1, 1, 2, 2, 2, 3, 5, 1, 1, 2, 2, 2, 1, 1, 3, 2, 1, 4, 1, 9, 1, 2, 3, 2, 1, 1, 4, 2, 4, 1, 1, 1, 2, 3, 1, 1, 2, 2, 2, 1, 1, 1, 2, 1, 2, 1, 1, 5, 2, 1, 1, 7, 5, 5, 8, 1, 1, 1, 2, 9, 11, 1, 1, 1, 1, 1, 3, 9, 1, 2, 3, 1, 13, 1, 1, 1, 1, 2, 2, 1, 1, 1, 4, 1, 1, 3, 3, 1, 1, 2, 1, 1, 1, 1, 1, 1, 2, 1, 3, 1, 8, 2, 1, 4, 2, 1, 5, 1, 1, 3, 1, 1, 3, 2, 1, 1, 1, 4, 2, 4, 1, 3, 1, 14, 1, 1, 1, 8, 1, 5, 1, 1, 1, 1, 1, 1, 7, 2, 2, 1, 6, 3, 2, 1, 3, 1, 2, 8, 3, 1, 1, 2, 17, 1, 1, 8, 1, 1, 1, 2, 6, 1, 4, 4, 1, 1, 1, 2, 2, 1, 1, 5, 1, 1, 1, 1, 2, 3, 1, 1, 1, 1, 1, 1, 2, 1, 2, 1, 3, 3, 1, 1, 3, 3, 4, 1, 4, 2, 1, 1, 1, 6, 1, 1, 1, 1, 11, 1, 2, 2, 1, 4, 1, 3, 1, 1, 8, 5, 1, 5, 1, 1, 1, 1, 3, 1, 3, 1, 1, 4, 4, 2, 1, 1, 1, 1, 7, 1, 3, 1, 4, 1, 8, 1, 1, 1, 2, 6, 7, 2, 1, 1, 1, 9, 4, 2, 1, 1, 2, 1, 2, 3, 1, 2, 2, 7, 1, 1, 1, 2, 1, 1, 1, 1, 1, 2, 3, 1, 1, 3, 1, 4, 1, 3, 1, 2, 2, 1, 2, 1, 2, 11, 2, 2, 2, 2, 1, 8, 1, 1, 3, 2, 9, 3, 1, 1, 1, 1, 1, 1, 1, 1, 1, 9, 1, 1, 1, 1, 2, 1, 1, 7, 8, 1, 1, 1, 2, 3, 3, 1, 1, 2, 1, 1, 2, 1, 1, 1, 1, 1, 1, 2, 1, 3, 1, 1, 1, 10, 3, 3, 1, 1, 1, 2, 5, 1, 1, 5, 4, 1, 1, 1, 1, 1, 1, 1, 1, 1, 3, 2, 2, 1, 1, 1, 1, 1, 1, 1, 2, 2, 1, 1, 5, 2, 7, 1, 1, 2, 1, 2, 2, 2, 1, 1, 11, 3, 1, 1, 2, 1, 1, 1, 1, 1, 1, 1, 4, 2, 1, 3, 1, 1, 1, 2, 4, 2, 3, 2, 2, 2, 3, 3, 2, 1, 15, 4, 3, 1, 1, 1, 8, 1, 3, 2, 5, 6, 2, 4, 1, 1, 10, 1, 1, 1, 1, 1, 1, 1, 1, 1, 1, 1, 3, 1, 1, 2, 2, 1, 1, 1, 1, 1, 1, 1, 2, 1, 1, 2, 2, 4, 2, 3, 1, 1, 2, 3, 2, 2, 1, 3, 1, 1, 1, 1, 4, 3, 1, 1, 1, 1, 1, 1, 1, 1, 1, 1, 6, 1, 1, 4, 1, 3, 2, 3, 2, 1, 1, 1, 1, 2, 1, 1, 1, 2, 1, 2, 2, 1, 1, 1, 1, 1, 3, 1, 1, 10, 1, 1, 5, 2, 4, 1, 1, 1, 1, 1, 1, 1, 1, 1, 2, 4, 1, 1, 1, 4, 2, 1, 1, 1, 1, 2, 1, 1, 1, 6, 2, 2, 4, 1, 2, 4, 2, 1, 1, 1, 1, 1, 2, 5, 2, 3, 4, 1, 3, 3, 1, 6, 1, 1, 1, 1, 1, 1, 1, 1, 1, 2, 2, 4, 1, 1, 1, 1, 1, 2, 9, 3, 2, 3, 3, 3, 2, 3, 5, 2, 2, 5, 2, 1, 1, 1, 1, 3, 1, 30, 1, 1, 2, 1, 3, 1, 3, 1, 2, 7, 1, 1, 4, 4, 1, 1, 1, 1, 1, 1, 1, 3, 1, 1, 11, 2, 1, 3, 3, 1, 1, 1, 5, 1, 6, 1, 1, 1, 3, 2, 1, 1, 2, 1, 3, 2, 4, 1, 1, 1, 2, 3, 3, 1, 1, 1, 1, 3, 1, 10, 1, 1, 5, 2, 1, 3, 2, 3, 7, 1, 1, 1, 6, 4, 3, 2, 1, 4, 4, 1, 7, 1, 1, 1, 4, 1, 8, 2, 2, 1, 1, 1, 5, 1, 10, 1, 4, 1, 6, 1, 1, 1, 3, 1, 3, 4, 2, 1, 1, 1, 1, 2, 1, 5, 1, 1, 2, 1, 2, 3, 2, 1, 3, 1, 2, 4, 3, 7, 2, 17, 3, 3, 1, 10, 4, 2, 1, 3, 1, 1, 5, 1, 14, 1, 2, 1, 1, 1, 1, 1, 1, 1, 2, 4, 2, 1, 6, 1, 1, 2, 4, 8, 1, 3, 1, 2, 1, 1, 1, 2, 4, 1, 3, 2, 4, 1, 1, 5, 3, 1, 1, 2, 1, 2, 4, 1, 1, 9, 1, 1, 3, 6, 1, 2, 1, 2, 2, 8, 1, 1, 4, 6, 4, 8, 4, 1, 1, 3, 2, 2, 1, 1, 4, 1, 2, 9, 1, 5, 3, 1, 2, 1, 1, 1, 1, 1, 5, 1, 1, 1, 1, 1, 3, 5, 2, 7, 1, 4, 1, 1, 4, 1, 1, 2, 6, 2, 2, 1, 6, 1, 1, 3, 4, 3, 1, 3, 2, 1, 1, 1, 1, 3, 1, 2, 3, 5, 1, 2, 1, 1, 2, 13, 3, 1, 1, 1, 1, 4, 1, 2, 1, 13, 2, 1, 2, 1, 3, 1, 2, 2, 5, 2, 4, 3, 3, 9, 1, 1, 1, 4, 4, 2, 1, 4, 2, 1, 1, 2, 6, 1, 2, 1, 4, 1, 1, 4, 1, 1, 1, 2, 4, 3, 2, 2, 3, 1, 3, 1, 2, 5, 1, 4, 1, 1, 1, 2, 5, 1, 1, 9, 3, 2, 1, 1, 2, 3, 2, 1, 3, 1, 1, 1, 3, 1, 4, 4, 3, 1, 1, 2, 1, 2, 7, 1, 3, 2, 1, 1, 1, 3, 1, 2, 1, 1, 3, 1, 1, 1, 1, 3, 2, 1, 14, 1, 3, 1, 5, 2, 3, 7, 2, 2, 2, 1, 2, 4, 3, 2, 1, 1, 1, 2, 1, 4, 7, 1, 2, 3, 1, 2, 2, 1, 1, 1, 1, 1, 1, 1, 1, 7, 1, 1, 2, 1, 3, 1, 1, 2, 1, 1, 1, 4, 5, 2, 1, 3, 2, 1, 8, 3, 1, 3, 1, 1, 3, 4, 1, 1, 1, 3, 1, 2, 2, 1, 1, 1, 2, 2, 1, 3, 1, 1, 2, 2, 1, 2, 2, 5, 3, 2, 1, 1, 3, 1, 4, 1, 2, 7, 4, 1, 2, 3, 1, 3, 1, 1, 1, 3, 1, 1, 2, 6, 1, 1, 2, 1, 1, 2, 1, 1, 1, 1, 1, 1, 1, 2, 11, 1, 1, 1, 1, 4, 1, 4, 1, 1, 1, 1, 2, 2, 2, 1, 1, 4, 1, 1, 1, 1, 1, 1, 2, 1, 1, 1, 3, 1, 3, 3, 2, 1, 3, 5, 3, 1, 1, 3, 1, 4, 1, 1, 1, 1, 1, 8, 1, 1, 1, 1, 1, 2, 1, 6, 1, 1, 1, 1, 1, 1, 1, 1, 4, 11, 1, 3, 2, 1, 1, 1, 4, 2, 4, 1, 1, 2, 1, 1, 1, 1, 1, 3, 3, 1, 1, 1, 3, 1, 6, 1, 2, 1, 1, 1, 1, 1, 1, 1, 3, 5, 1, 1, 1, 7, 2, 6, 3, 2, 1, 1, 1, 2, 2, 1, 1, 1, 1, 1, 1, 6, 1, 1, 1, 2, 2, 1, 1, 1, 1, 1, 1, 2, 1, 1, 2, 1, 1, 3, 3, 1, 1, 1, 1, 4, 1, 1, 1, 2, 3, 1, 1, 1, 1, 1, 2, 1, 1, 1, 3, 2, 1, 2, 2, 1, 1, 1, 5, 1, 3, 1, 7, 1, 2, 1, 1, 1, 1, 5, 1, 1, 1, 3, 1, 1, 1, 1, 1, 1, 3, 1, 1, 2, 1, 1, 1, 1, 1, 1, 1, 3, 1, 1, 1, 1, 3, 9, 4, 1, 1, 1, 2, 1, 2, 1, 2, 1, 1, 2, 4, 1, 1, 1, 1, 2, 1, 1, 1, 1, 1, 7, 2, 1, 1, 1, 2, 1, 3, 4, 4, 4, 3, 11, 1, 1, 2, 3, 1, 1, 1, 1, 1, 1, 4, 1, 2, 1, 1, 1, 1, 2, 2, 1, 3, 2, 3, 2, 1, 2, 1, 1, 1, 3, 1, 2, 1, 1, 4, 1, 1, 1, 1, 1, 1, 1, 1, 1, 1, 1, 8, 4, 1, 1, 4, 1, 1, 2, 1, 2, 1, 1, 1, 3, 1, 1, 1, 1, 1, 3, 6, 1, 1, 2, 1, 1, 1, 2, 1, 1, 3, 1, 2, 1, 3, 1, 3, 2, 1, 1, 3, 2, 1, 3, 1, 1, 1, 1, 1, 3, 5, 1, 1, 1, 3, 2, 2, 5, 2, 1, 2, 1, 1, 1, 1, 1, 1, 1, 1, 2, 10, 2, 1, 3, 1, 2, 8, 12, 1, 2, 6, 1, 1, 1, 1, 1, 1, 1, 3, 1, 1, 1, 1, 1, 2, 1, 1, 1, 5, 1, 1, 1, 1, 7, 1, 1, 4, 1, 1, 2, 2, 2, 2, 3, 3, 1, 1, 1, 1, 4, 1, 1, 2, 1, 3, 1, 1, 1, 1, 1, 1, 1, 1, 3, 4, 3, 1, 2, 1, 1, 1, 1, 1, 2, 3, 2, 2, 1, 1, 4, 2, 1, 1, 1, 3, 2, 2, 1, 2, 1, 1, 1, 1, 1, 2, 1, 1, 15, 2, 3, 1, 1, 1, 2, 1, 1, 3, 1, 2, 1, 2, 4, 1, 1, 1, 1, 1, 1, 1, 2, 1, 2, 3, 2, 7, 1, 1, 1, 1, 3, 2, 1, 1, 5, 1, 1, 2, 1, 1, 1, 2, 1, 1, 1, 1, 2, 2, 3, 1, 1, 1, 1, 1, 6, 1, 1, 1, 1, 2, 1, 1, 1, 1, 5, 1, 1, 1, 1, 1, 1, 3, 1, 1, 4, 1, 2, 1, 1, 1, 1, 1, 1, 1, 4, 1, 1, 3, 1, 1, 1, 3, 4, 3, 1, 2, 1, 1, 4, 1, 1, 1, 1, 3, 4, 1, 1, 2, 5, 4, 2, 1, 1, 1, 1, 1, 2, 2, 1, 2, 3, 1, 2, 3, 1, 1, 1, 1, 1, 3, 1, 2, 1, 2, 2, 2, 1, 1, 7, 1, 1, 2, 1, 1, 3, 4, 2, 1, 1, 1, 7, 1, 1, 1, 1, 2, 2, 1, 1, 1, 3, 1, 1, 1, 1, 6, 1, 1, 1, 2, 1, 1, 1, 1, 1, 1, 1, 2, 1, 2, 51, 1, 3, 1, 1, 3, 2, 1, 2, 3, 1, 1, 9, 1, 2, 2, 4, 1, 2, 1, 1, 1, 1, 1, 7, 1, 1, 1, 1, 1, 6, 6, 3, 1, 4, 1, 2, 2, 1, 2, 6, 2, 2, 1, 2, 4, 1, 1, 1, 1, 1, 1, 2, 3, 1, 3, 1, 1, 1, 1, 1, 2, 2, 1, 7, 2, 2, 2, 1, 1, 1, 1, 1, 1, 1, 2, 1, 1, 10, 1, 1, 1, 1, 1, 1, 2, 1, 5, 1, 2, 1, 2, 3, 1, 1, 5, 1, 1, 2, 1, 2, 1, 1, 1, 1, 1, 1, 2, 1, 3, 3, 4, 1, 1, 1, 2, 2, 1, 1, 2, 1, 3, 2, 2, 2, 2, 2, 2, 1, 1, 1, 1, 1, 1, 2, 8, 2, 1, 1, 3, 1, 1, 1, 8, 2, 2, 1, 1, 1, 1, 1, 1, 2, 1, 5, 8, 1, 1, 2, 1, 2, 1, 1, 1, 1, 1, 1, 6, 1, 1, 2, 1, 1, 1, 4, 3, 1, 1, 1, 1, 3, 1, 1, 1, 1, 6, 2, 3, 3, 1, 1, 1, 1, 1, 3, 1, 1, 4, 1, 1, 1, 2, 1, 1, 1, 2, 1, 1, 1, 1, 2, 1, 1, 1, 2, 5, 1, 1, 1, 1, 2, 1, 1, 1, 1, 2, 1, 1, 2, 1, 1, 1, 1, 1, 1, 2, 2, 1, 3, 2, 1, 1, 4, 8, 14, 1, 2, 1, 1, 2, 1, 1, 1, 1, 3, 1, 1, 1, 1, 6, 2, 1, 1, 1, 1, 1, 1, 6, 1, 1, 1, 1, 1, 6, 2, 1, 1, 1, 1, 1, 2, 1, 3, 1, 1, 1, 1, 1, 1, 1, 1, 1, 2, 7, 1, 4, 9, 2, 2, 1, 1, 11, 2, 3, 1, 2, 1, 1, 1, 1, 1, 1, 2, 1, 1, 3, 2, 1, 1, 1, 1, 6, 1, 1, 1, 1, 5, 2, 1, 8, 1, 6, 3, 2, 3, 1, 1, 1, 1, 1, 4, 1, 2, 1, 1, 1, 1, 4, 1, 3, 1, 1, 1, 1, 1, 2, 2, 3, 1, 1, 2, 1, 3, 2, 2, 3, 3, 1, 2, 2, 1, 1, 2, 1, 1, 1, 1, 4, 2, 1, 1, 1, 1, 2, 1, 3, 2, 7, 4, 1, 2, 1, 2, 6, 1, 2, 2, 1, 1, 1, 1, 3, 1, 1, 1, 3, 1, 1, 1, 1, 1, 1, 2, 1, 3, 1, 1, 1, 2, 3, 1, 1, 2, 2, 1, 6, 1, 1, 4, 1, 3, 5, 1, 3, 1, 1, 1, 1, 3, 1, 1, 2, 1, 4, 5, 1, 2, 1, 1, 3, 4, 1, 1, 1, 3, 4, 4, 2, 3, 1, 2, 1, 2, 2, 3, 5, 3, 1, 1, 1, 1, 1, 1, 1, 2, 2, 5, 1, 1, 2, 2, 1, 1, 1, 9, 1, 1, 1, 3, 1, 1, 1, 2, 1, 1, 2, 1, 1, 1, 1, 1, 1, 2, 1, 2, 2, 2, 3, 1, 1, 1, 1, 1, 3, 1, 1, 2, 1, 2, 1, 1, 1, 1, 1, 1, 1, 1, 3, 1, 5, 1, 1, 1, 2, 1, 1, 1, 1, 3, 1, 1, 1, 2, 1, 1, 1, 1, 1, 1, 2, 1, 1, 1, 1, 1, 1, 2, 1, 1, 1, 3, 3, 1, 4, 1, 1, 1, 1, 1, 1, 1, 2, 1, 1, 3, 2, 1, 1, 1, 1, 1, 1, 1, 1, 2, 1, 1, 2, 1, 1, 1, 1, 1, 1, 1, 1, 1, 1, 1, 1, 2, 2, 1, 2, 2, 1, 1, 2, 3, 1, 2, 1, 1, 1, 3, 1, 1, 4, 2, 1, 1, 1, 2, 1, 1, 1, 2, 1, 1, 1, 1, 1, 1, 1, 1, 7, 3, 1, 2, 1, 1, 1, 1, 3, 1, 1, 3, 3, 1, 1, 3, 3, 4, 2, 1, 1, 1, 1, 1, 1, 1, 1, 3, 1, 1, 1, 1, 3, 2, 1, 4, 2, 1, 1, 2, 2, 2, 1, 6, 1, 1, 1, 1, 1, 2, 1, 1, 1, 1, 1, 1, 1, 1, 1, 1, 1, 1, 1, 1, 2, 1, 1, 1, 1, 1, 1, 1, 1, 2, 3, 2, 2, 2, 1, 1, 1, 2, 1, 1, 3, 3, 2, 1, 1, 1, 2, 1, 3, 1, 1, 2, 4, 1, 1, 1, 1, 1, 1, 1, 2, 1, 1, 1, 1, 1, 1, 1, 5, 1, 2, 2, 1, 1, 1, 1, 1, 3, 1, 1, 1, 1, 2, 1, 1, 1, 1, 4, 1, 1, 2, 1, 1, 1, 1, 1, 2, 1, 1, 1, 1, 5, 4, 1, 1, 2, 1, 3, 1, 1, 6, 5, 1, 1, 2, 2, 1, 1, 2, 1, 1, 1, 1, 2, 1, 1, 1, 1, 1, 1, 2, 1, 1, 1, 1, 1, 3, 1, 1, 2, 1, 1, 1, 1, 1, 1, 1, 1, 4, 3, 1, 1, 1, 1, 9, 1, 3, 1, 1, 2, 1, 1, 2, 1, 1, 1, 1, 1, 1, 4, 4, 1, 1, 1, 1, 1, 1, 1, 2, 1, 2, 1, 6, 6, 2, 1, 2, 2, 5, 1, 1, 9, 2, 2, 1, 1, 1, 3, 2, 1, 1, 1, 1, 1, 1, 1, 1, 1, 1, 1, 1, 1, 4, 1, 2, 2, 2, 1, 1, 1, 2, 1, 2, 2, 1, 1, 1, 1, 1, 5, 1, 1, 1, 1, 1, 1, 1, 1, 1, 1, 1, 1, 1, 1, 1, 2, 1, 1, 3, 1, 1, 1, 1, 1, 1, 1, 1, 1, 2, 2, 1, 1, 2, 1, 2, 1, 1, 2, 1, 1, 5, 1, 1, 1, 1, 1, 1, 1, 5, 1, 4, 3, 1, 1, 1, 4, 1, 1, 1, 1, 1, 1, 1, 2, 1, 2, 1, 1, 4, 1, 2, 1, 1, 1, 1, 2, 1, 1, 1, 1, 1, 2, 3, 2, 2, 5, 2, 1, 1, 5, 1, 1, 1, 1, 1, 1, 3, 1, 1, 1, 1, 1, 2, 1, 3, 1, 2, 1, 2, 1, 2, 1, 2, 1, 1, 3, 1, 1, 1, 2, 1, 1, 1, 1, 1, 1, 1, 1, 2, 1, 1, 1, 1, 1, 2, 1, 2, 1, 1, 8, 1, 2, 2, 1, 1, 2, 2, 2, 1, 3, 1, 3, 1, 4, 1, 1, 1, 1, 1, 1, 1, 2, 1, 1, 1, 1, 1, 1, 1, 1, 2, 1, 2, 1, 3, 1, 1, 1, 6, 1, 1, 1, 2, 1, 1, 1, 1, 1, 1, 1, 1, 1, 4, 1, 1, 1, 1, 1, 1, 5, 1, 2, 1, 1, 5, 2, 1, 6, 1, 1, 1, 3, 1, 1, 1, 2, 3, 3, 1, 2, 3, 1, 1, 1, 1, 1, 1, 1, 1, 1, 1, 2, 2, 1, 1, 1, 1, 1, 1, 1, 1, 7, 5, 1, 5, 2, 1, 1, 2, 1, 4, 1, 1, 1, 1, 1, 1, 3, 10, 1, 1, 3, 3, 3, 2, 1, 1, 4, 1, 1, 1, 1, 1, 1, 3, 1, 1, 1, 1, 1, 1, 2, 1, 1, 3, 1, 1, 1, 1, 2, 2, 1, 2, 1, 1, 1, 2, 2, 1, 4, 2, 2, 1, 1, 1, 1, 1, 1, 3, 1, 1, 1, 1, 1, 2, 1, 1, 1, 1, 3, 1, 2, 1, 1, 1, 2, 1, 2, 1, 1, 2, 3, 2, 3, 6, 1, 2, 1, 1, 1, 1, 1, 1, 1, 1, 1, 3, 6, 2, 2, 1, 2, 1, 2, 1, 2, 1, 5, 1, 2, 2, 1, 1, 1, 1, 1, 1, 4, 1, 1, 2, 2, 1, 1, 2, 1, 1, 1, 1, 1, 1, 5, 13, 1, 4, 1, 1, 1, 3, 1, 2, 4, 1, 1, 1, 1, 2, 1, 1, 1, 1, 1, 1, 1, 2, 1, 1, 2, 2, 2, 1, 1, 1, 1, 1, 1, 1, 1, 2, 4, 1, 1, 1, 1, 1, 1, 1, 1, 1, 1, 1, 1, 1, 1, 1, 1, 2, 1, 1, 1, 1, 1, 1, 2, 1, 1, 1, 1, 1, 1, 1, 1, 1, 1, 1, 1, 8, 6, 1, 4, 1, 2, 4, 1, 5, 7, 1, 1, 1, 6, 1, 2, 8, 2, 1, 9, 6, 1, 1, 1, 1, 1, 1, 2, 2, 1, 1, 8, 2, 2, 2, 1, 1, 1, 1, 1, 1, 2, 2, 1, 3, 1, 1, 1, 2, 2, 1, 4, 1, 1, 1, 2, 2, 1, 1, 1, 1, 4, 1, 4, 1, 3, 1, 3, 1, 2, 2, 1, 1, 2, 2, 1, 1, 2, 2, 2, 1, 1, 2, 3, 1, 1, 1, 1, 1, 1, 2, 1, 1, 1, 1, 1, 1, 2, 2, 1, 1, 1, 1, 1, 1, 2, 1, 1, 3, 2, 4, 2, 1, 4, 1, 2, 1, 1, 1, 3, 1, 2, 1, 1, 1, 2, 1, 1, 1, 1, 1, 1, 2, 1, 2, 1, 1, 1, 1, 2, 1, 1, 5, 1, 2, 1, 1, 1, 1, 1, 1, 1, 1, 1, 59, 1, 3, 1, 1, 1, 2, 3, 1, 1, 1, 1, 1, 2, 1, 2, 2, 2, 1, 2, 1, 1, 1, 1, 1, 2, 1, 1, 2, 1, 1, 2, 2, 2, 1, 1, 3, 1, 3, 1, 2, 1, 2, 1, 1, 1, 1, 1, 1, 1, 1, 2, 1, 1, 1, 1, 3, 1, 6, 1, 1, 1, 1, 1, 6, 2, 1, 2, 2, 3, 1, 1, 1, 1, 2, 2, 1, 1, 2, 1, 2, 1, 1, 1, 1, 1, 1, 1, 1, 1, 1, 1, 1, 1, 2, 1, 1, 1, 1, 1, 1, 1, 1, 1, 1, 2, 2, 1, 3, 1, 1, 1, 2, 1, 1, 1, 1, 1, 1, 1, 1, 1, 1, 1, 1, 1, 1, 2, 1, 1, 3, 1, 1, 1, 2, 1, 1, 1, 1, 2, 1, 1, 1, 3, 3, 2, 9, 1, 7, 1, 4, 1, 1, 1, 1, 1, 2, 2, 1, 1, 2, 3, 1, 1, 1, 2, 1, 1, 3, 1, 1, 1, 1, 1, 1, 2, 1, 3, 2, 1, 1, 2, 1, 1, 1, 3, 1, 1, 1, 2, 1, 1, 1, 1, 2, 1, 1, 1, 1, 1, 1, 1, 3, 3, 1, 5, 1, 1, 1, 1, 1, 1, 1, 1, 1, 1, 1, 3, 1, 1, 1, 1, 1, 1, 1, 2, 2, 1, 1, 1, 2, 2, 1, 1, 2, 2, 1, 4, 1, 1, 1, 2, 1, 1, 2, 1, 1, 4, 1, 1, 1, 1, 1, 1, 2, 1, 1, 1, 1, 1, 1, 1, 1, 3, 1, 2, 1, 1, 1, 1, 1, 2, 1, 1, 1, 1, 1, 1, 1, 1, 1, 1, 1, 2, 3, 1, 1, 1, 1, 2, 2, 1, 1, 1, 1, 1, 2, 1, 2, 1, 1, 1, 1, 1, 1, 1, 1, 1, 1, 1, 1, 1, 1, 3, 2, 1, 1, 1, 1, 1, 1, 1, 1, 2, 1, 1, 1, 1, 1, 1, 1, 1, 1, 1, 2, 1, 1, 2, 1, 1, 3, 4, 1, 2, 1, 1, 1, 1, 1, 5, 3, 1, 7, 1, 1, 1, 1, 1, 1, 7, 9, 3, 1, 1, 1, 1, 4, 1, 1, 1, 1, 1, 2, 1, 5, 1, 1, 2, 3, 1, 1, 1, 2, 1, 1, 1, 1, 1, 1, 2, 2, 1, 2, 1, 1, 1, 1, 1, 1, 1, 3, 1, 3, 1, 1, 1, 1, 1, 1, 1, 1, 1, 1, 1, 1, 1, 2, 1, 1, 1, 2, 3, 3, 1, 1, 1, 1, 1, 2, 1, 1, 3, 1, 1, 1, 1, 2, 3, 1, 2, 1, 1, 1, 1, 6, 1, 1, 1, 1, 2, 1, 1, 1, 2, 5, 1, 2, 1, 1, 1, 1, 1, 2, 5, 5, 2, 2, 1, 1, 1, 1, 1, 2, 1, 3, 1, 1, 3, 1, 1, 1, 1, 2, 1, 3, 1, 1, 1, 3, 1, 1, 1, 1, 1, 2, 2, 1, 1, 1, 5, 1, 1, 1, 3, 5, 3, 4, 1, 1, 1, 2, 1, 1, 3, 2, 3, 1, 1, 7, 3, 1, 1, 1, 1, 1, 2, 2, 1, 1, 3, 1, 1, 1, 1, 1, 1, 1, 1, 1, 1, 3, 1, 1, 1, 1, 2, 1, 2, 2, 1, 1, 1, 1, 2, 1, 3, 1, 3, 1, 2, 1, 1, 2, 2, 1, 2, 2, 1, 1, 2, 1, 1, 1, 1, 1, 4, 1, 1, 5, 1, 1, 1, 1, 4, 2, 1, 2, 4, 1, 2, 1, 1, 1, 3, 1, 1, 7, 2, 3, 4, 1, 1, 1, 1, 1, 1, 1, 1, 1, 3, 1, 1, 3, 3, 1, 1, 1, 4, 1, 2, 1, 1, 1, 1, 1, 1, 1, 2, 1, 1, 1, 1, 3, 1, 1, 1, 1, 4, 4, 1, 1, 1, 1, 1, 1, 2, 2, 2, 1, 3, 1, 2, 1, 1, 3, 1, 1, 1, 3, 1, 1, 1, 1, 1, 2, 2, 1, 1, 1, 1, 3, 1, 1, 1, 1, 1, 1, 1, 1, 1, 1, 3, 1, 1, 1, 1, 4, 2, 1, 1, 2, 4, 1, 1, 1, 1, 1, 1, 2, 1, 1, 1, 2, 2, 1, 1, 1, 3, 1, 1, 1, 2, 1, 1, 1, 1, 1, 1, 1, 1, 1, 1, 1, 3, 1, 1, 1, 1, 2, 1, 1, 1, 1, 1, 1, 1, 1, 1, 1, 1, 3, 1, 1, 1, 1, 1, 1, 1, 1, 1, 1, 1, 4, 2, 1, 1, 1, 3, 1, 3, 1, 1, 1, 1, 1, 1, 2, 1, 1, 1, 1, 1, 1, 1, 3, 1, 1, 1, 1, 1, 1, 1, 1, 1, 1, 2, 1, 1, 1, 11, 1, 1, 1, 1, 1, 1, 1, 4, 1, 3, 1, 1, 1, 1, 4, 1, 1, 1, 3, 2, 1, 2, 1, 8, 4, 1, 1, 1, 1, 1, 1, 1, 1, 1, 1, 3, 1, 2, 1, 1, 1, 1, 1, 1, 2, 2, 1, 1, 1, 1, 1, 1, 2, 2, 1, 1, 1, 2, 1, 1, 1, 1, 1, 1, 1, 1, 1, 3, 2, 1, 1, 1, 1, 1, 1, 1, 1, 1, 2, 1, 1, 1, 2, 1, 1, 1, 1, 1, 1, 1, 1, 1, 2, 1, 3, 1, 3, 1, 1, 1, 1, 1, 1, 1, 1, 1, 1, 1, 1, 2, 1, 1, 1, 1, 4, 2, 1, 1, 1, 2, 1, 2, 1, 1, 1, 1, 2, 1, 2, 1, 1, 1, 1, 1, 1, 2, 1, 1, 1, 3, 1, 1, 1, 1, 2, 2, 1, 1, 1, 1, 1, 1, 1, 2, 1, 1, 1, 1, 2, 1, 1, 1, 1, 2, 1, 1, 1, 1, 1, 1, 1, 1, 1, 1, 2, 1, 1, 1, 1, 1, 1, 1, 1, 1, 1, 1, 1, 1, 1, 2, 1, 1, 4, 1, 1, 1, 1, 1, 3, 1, 1, 1, 1, 1, 1, 1, 2, 2, 1, 4, 1, 1, 1, 1, 1, 1, 1, 6, 2, 1, 2, 1, 1, 1, 3, 1, 1, 2, 1, 1, 1, 1, 1, 1, 1, 2, 1, 2, 1, 1, 1, 2, 1, 3, 2, 1, 1, 1, 1, 1, 1, 2, 1, 1, 2, 2, 1, 1, 3, 4, 1, 1, 1, 1, 2, 1, 1, 1, 1, 1, 1, 1, 21, 27, 1, 1, 1, 1, 1, 1, 1, 1, 1, 1, 1, 1, 2, 1, 2, 1, 1, 2, 1, 1, 1, 2, 1, 1, 3, 4, 2, 2, 2, 1, 1, 2, 1, 1, 1, 1, 1, 1, 1, 2, 1, 1, 1, 1, 1, 18, 5, 1, 1, 1, 1, 1, 3, 2, 1, 1, 1, 2, 1, 2, 2, 2, 1, 1, 3, 1, 2, 1, 1, 2, 1, 2, 1, 1, 1, 1, 1, 1, 1, 1, 1, 3, 1, 1, 1, 2, 2, 1, 1, 1, 1, 2, 1, 1, 1, 1, 1, 1, 1, 1, 1, 1, 1, 1, 1, 1, 1, 1, 1, 2, 2, 1, 1, 1, 1, 1, 1, 1, 18, 18, 1, 2, 1, 1, 1, 4, 1, 1, 1, 1, 1, 2, 1, 3, 1, 1, 1, 1, 1, 1, 1, 2, 2, 1, 3, 1, 1, 1, 2, 1, 1, 1, 2, 2, 1, 1, 1, 1, 1, 1, 1, 1, 1, 1, 1, 1, 1, 1, 1, 1, 1, 2, 1, 6, 1, 1, 1, 1, 1, 2, 2, 1, 1, 1, 1, 1, 1, 1, 1, 1, 1, 1, 1, 1, 1, 1, 1, 1, 1, 1, 1, 1, 1, 1, 2, 4, 1, 1, 1, 2, 5, 1, 1, 1, 1, 1, 1, 1, 1, 1, 1, 1, 1, 1, 1, 2, 3, 1, 1, 2, 1, 1, 1, 1, 1, 1, 1, 1, 1, 1, 1, 1, 1, 2, 1, 2, 1, 1, 1, 1, 1, 2, 1, 1, 1, 1, 1, 1, 1, 1, 1, 1, 1, 1, 1, 1, 1, 1, 3, 1, 1, 1, 1, 1, 1, 2, 1, 2, 1, 1, 1, 1, 1, 1, 1, 1, 1, 1, 1, 1, 1, 1, 1, 1, 1, 2, 1, 1, 1, 1, 2, 2, 1, 2, 1, 1, 1, 1, 1, 1, 1, 1, 1, 2, 1, 1, 1, 1, 3, 1, 2, 1, 1, 1, 1, 3, 1, 2, 1, 1, 1, 1, 1, 3, 1, 1, 1, 1, 1, 1, 1, 1, 1, 1, 1, 1, 2, 1, 1, 1, 1, 1, 2, 1, 1, 1, 1, 1, 1, 1, 1, 1, 1, 3, 2, 2, 1, 1, 1, 1, 2, 2, 1, 3, 1, 1, 1, 2, 1, 1, 1, 2, 1, 2, 1, 1, 6, 1, 1, 1, 1, 1, 2, 2, 2, 1, 10, 1, 1, 1, 2, 1, 1, 3, 1, 2, 2, 1, 1, 1, 1, 2, 1, 1, 1, 1, 1, 1, 2, 2, 3, 2, 1, 1, 1, 1, 1, 1, 1, 1, 1, 1, 2, 2, 1, 1, 1, 1, 1, 2, 1, 1, 1, 1, 1, 1, 2, 1, 1, 1, 1, 1, 1, 1, 1, 1, 1, 2, 1, 2, 1, 1, 1, 1, 1, 1, 1, 1, 1, 2, 1, 2, 1, 1, 1, 5, 1, 1, 1, 1, 1, 1, 1, 1, 1, 1, 1, 1, 1, 1, 1, 1, 2, 1, 1, 1, 1, 1, 1, 1, 2, 1, 1, 1, 1, 6, 4, 1, 1, 2, 1, 1, 1, 2, 1, 1, 1, 1, 1, 2, 1, 1, 1, 1, 1, 2, 2, 1, 1, 2, 1, 2, 1, 1, 1, 1, 1, 1, 1, 1, 1, 1, 2, 2, 1, 1, 1, 1, 3, 2, 2, 1, 1, 1, 1, 1, 1, 1, 1, 2, 1, 1, 1, 1, 1, 1, 1, 1, 1, 1, 3, 1, 4, 1, 1, 1, 2, 1, 1, 1, 1, 1, 2, 1, 2, 1, 1, 1, 1, 1, 1, 1, 1, 1, 1, 1, 1, 1, 2, 1, 1, 2, 1, 2, 2, 1, 1, 1, 1, 1, 1, 1, 1, 1, 1, 2, 1, 1, 1, 1, 1, 1, 1, 1, 1, 1, 1, 1, 1, 1, 1, 2, 2, 1, 1, 1, 1, 1, 1, 1, 1, 1, 1, 1, 2, 1, 2, 3, 1, 1, 1, 1, 1, 1, 2, 1, 1, 1, 2, 2, 2, 1, 4, 2, 1, 1, 1, 1, 1, 1, 1, 2, 2, 1, 1, 1, 1, 1, 1, 1, 1, 1, 1, 1, 1, 1, 2, 1, 1, 1, 1, 1, 1, 1, 1, 1, 1, 1, 1, 1, 1, 1, 1, 2, 1, 3, 1, 1, 1, 1, 1, 1, 1, 1, 1, 1, 1, 1, 1, 1, 1, 1, 1, 2, 1, 1, 1, 1, 3, 3, 1, 1, 1, 1, 1, 1, 1, 1, 1, 2, 1, 1, 2, 1, 1, 1, 1, 2, 1, 1, 1, 7, 2, 1, 1, 1, 2, 1, 1, 1, 1, 1, 1, 1, 1, 1, 1, 1, 1, 2, 1, 1, 2, 1, 1, 1, 1, 1, 1, 1, 1, 1, 1, 1, 1, 1, 1, 1, 1, 2, 1, 1, 1, 1, 1, 3, 1, 1, 1, 1, 1, 1, 1, 1, 2, 1, 1, 1, 1, 1, 2, 1, 1, 1, 1, 1, 1, 1, 1, 1, 1, 1, 1, 1, 1, 1, 2, 2, 1, 1, 1, 1, 3, 1, 1, 1, 1, 1, 1, 1, 1, 2, 1, 1, 1, 1, 1, 2, 1, 2, 1, 1, 1, 1, 2, 1, 1, 1, 1, 1, 1, 1, 1, 1, 1, 1, 1, 1, 1, 1, 1, 1, 1, 1, 1, 2, 2, 2, 1, 1, 1, 1, 1, 1, 1, 1, 1, 1, 1, 1, 3, 1, 1, 1, 2, 1, 1, 1, 1, 1, 1, 1, 1, 1, 1, 1, 1, 1, 1, 1, 1, 2, 1, 1, 1, 1, 1, 1, 1, 2, 1, 1, 1, 1, 1, 1, 1, 1, 1, 1, 1, 1, 1, 1, 1, 1, 1, 1, 1, 1, 1, 1, 1, 2, 1, 1, 1, 1, 1, 1, 1, 1, 1, 1, 1, 1, 1, 1, 1, 1, 1, 1, 1, 1, 1, 1, 1, 1, 1, 1, 2, 2, 1, 1, 2, 2, 1, 1, 1, 1, 1, 1, 1, 1, 2, 1, 1, 1, 1, 1, 1, 1, 1, 1, 1, 1, 1, 1, 1, 3, 1, 1, 1, 1, 2, 2, 2, 1, 1, 4, 1, 1, 1, 1, 2, 1, 1, 1, 1, 1, 1, 1, 1, 1, 2, 1, 1, 1, 1, 2, 1, 1, 1, 1, 2, 1, 1, 1, 2, 1, 1, 1, 1, 3, 1, 1, 1, 2, 4, 1, 1, 1, 1, 1, 1, 1, 1, 1, 1, 1, 1, 2, 1, 1, 1, 1, 1, 1, 1, 1, 1, 1, 1, 1, 2, 1, 1, 1, 1, 1, 1, 1, 1, 1, 1, 2, 1, 1, 1, 1, 1, 1, 1, 1, 1, 1, 1, 1, 1, 1, 1, 2, 1, 1, 2, 1, 1, 1, 1, 2, 1, 1, 1, 1, 1, 1, 1, 1, 2, 1, 1, 1, 2, 4, 1, 1, 1, 1, 2, 1, 1, 1, 1, 2, 1, 1, 1, 1, 1, 18, 1, 1, 1, 1, 1, 1, 1, 1, 1, 1, 1, 1, 1, 1, 1, 1, 1, 1, 1, 1, 1, 1, 1, 1, 1, 1, 2, 8, 1, 1, 1, 1, 1, 1, 1, 1, 1, 1, 1, 2, 1, 1, 1, 1, 2, 1, 2, 2, 1, 2, 1, 1, 1, 1, 1, 1, 1, 1, 1, 1, 1, 1, 1, 1, 1, 1, 1, 1, 1, 1, 1, 1, 4, 3, 1, 4, 2, 1, 1, 1, 1, 1, 1, 1, 1, 1, 1, 1, 1, 1, 1, 1, 3, 1, 2, 1, 1, 1, 1, 1, 1, 2, 2, 1, 3, 1, 1, 1, 1, 1, 1, 1, 1, 1, 1, 1, 1, 1, 2, 1, 1, 1, 1, 1, 1, 1, 1, 1, 1, 1, 2, 1, 1, 1, 1, 1, 1, 1, 1, 1, 1, 1, 1, 2, 1, 1, 1, 1, 2, 1, 1, 1, 1, 1, 1, 1, 1, 1, 1, 1, 1, 1, 1, 3, 1, 1, 1, 2, 1, 1, 2, 1, 1, 1, 1, 1, 1, 2, 1, 1, 1, 1, 1, 1, 1, 1, 1, 1, 1, 1, 1, 2, 1, 1, 1, 1, 1, 1, 1, 3, 1, 1, 1, 1, 1, 1, 1, 1, 1, 1, 1, 1, 1, 2, 1, 1, 1, 1, 1, 2, 1, 1, 1, 1, 1, 1, 1, 1, 2, 1, 1, 1, 1, 1, 1, 1, 1, 1, 1, 1, 1, 1, 1, 1, 2, 1, 1, 1, 1, 1, 1, 1, 1, 2, 1, 3, 1, 1, 1, 1, 2, 1, 1, 1, 2, 1, 1, 1, 1, 1, 1, 1, 1, 1, 1, 1, 1, 1, 1, 1, 1, 1, 1, 1, 1, 1, 1, 3, 1, 2, 1, 1, 1, 1, 1, 1, 1, 1, 1, 1, 1, 2, 1, 1, 2, 1, 1, 1, 1, 2, 1, 1, 1, 1, 1, 1, 1, 2, 1, 1, 2, 2, 2, 1, 1, 1, 2, 1, 1, 2, 1, 1, 1, 1, 1, 1, 1, 1, 1, 1, 1, 3, 1, 1, 1, 1, 1, 1, 1, 2, 1, 1, 2, 2, 2, 1, 1, 1, 2, 1, 1, 1, 1, 1, 1, 1, 1, 1, 3, 2, 1, 1, 1, 1, 1, 2, 2, 1, 1, 1, 1, 2, 1, 1, 1, 1, 1, 1, 1, 1, 1, 1, 1, 1, 1, 2, 1, 1, 1, 1, 1, 1, 1, 1, 1, 1, 1, 1, 1, 1, 1, 1, 1, 1, 1, 1, 2, 1, 1, 1, 1, 2, 2, 1, 1, 1, 1, 1, 1, 1, 1, 1, 1, 1, 1, 1, 1, 1, 1, 1, 1, 1, 3, 1, 2, 1, 1, 1, 1, 1, 2, 1, 1, 1, 1, 1, 1, 1, 1, 1, 1, 1, 1, 1, 1, 2, 1, 1, 1, 2, 1, 1, 1, 1, 1, 1, 1, 1, 1, 1, 1, 1, 1, 3, 1, 1, 1, 1, 2, 1, 1, 1, 1, 1, 1, 1, 1, 4, 1, 1, 1, 1, 1, 1, 1, 1, 1, 1, 1, 1, 1, 1, 1, 1, 1, 1, 1, 1, 1, 1, 1, 1, 1, 3, 2, 1, 1, 1, 1, 1, 1, 1, 1, 2, 1, 1, 1, 1, 1, 1, 1, 1, 1, 2, 1, 1, 1, 1, 1, 1, 1, 1, 5, 2, 1, 1, 1, 1, 1, 1, 1, 1, 1, 1, 1, 2, 1, 1, 1, 1, 2, 1, 1, 2, 2, 1, 1, 1, 1, 1, 1, 1, 1, 1, 1, 1, 1, 1, 3, 1, 1, 1, 1, 1, 1, 1, 1, 1, 1, 1, 1, 1, 1, 1, 1, 1, 1, 2, 1, 1, 1, 1, 1, 1, 1, 1, 1, 1, 1, 1, 1, 1, 1, 1, 1, 1, 1, 1, 1, 1, 1, 1, 1, 1, 1, 1, 1, 1, 1, 1, 1, 1, 1, 1, 1, 1, 1, 1, 2, 1, 1, 1, 1, 1, 2, 2, 1, 1, 2, 1, 1, 1, 1, 1, 1, 1, 1, 1, 1, 1, 1, 1, 1, 1, 1, 1, 1, 1, 1, 1, 1, 1, 1, 1, 1, 1, 1, 9, 1, 1, 1, 1, 1, 1, 2, 2, 1, 1, 1, 2, 10, 2, 5, 1, 1, 1, 1, 1, 1, 1, 1, 1, 1, 1, 1, 1, 1, 1, 1, 1, 1, 2, 2, 2, 1, 1, 1, 1, 1, 2, 1, 1, 1, 1, 1, 1, 1, 1, 1, 1, 1, 3, 1, 2, 2, 2, 1, 3, 1, 1, 1, 1, 1, 1, 1, 1, 2, 1, 2, 1, 1, 1, 1, 1, 1, 1, 1, 1, 1, 1, 1, 1, 1, 1, 1, 1, 1, 1, 1, 1, 1, 1, 1, 1, 1, 1, 1, 1, 1, 1, 1, 1, 1, 2, 1, 1, 1, 1, 1, 1, 1, 1, 1, 1, 1, 1, 1, 1, 1, 1, 1, 1, 1, 3, 1, 1, 1, 1, 1, 1, 1, 1, 1, 1, 1, 1, 1, 1, 1, 1, 1, 1, 1, 1, 1, 1, 3, 1, 1, 2, 1, 1, 1, 2, 1, 1, 1, 1, 1, 1, 3, 1, 1, 1, 1, 1, 1, 1, 1, 1, 1, 3, 1, 1, 1, 1, 1, 1, 1, 1, 2, 1, 1, 1, 1, 1, 1, 1, 1, 1, 1, 1, 1, 1, 1, 1, 1, 1, 1, 1, 1, 1, 1, 1, 1, 1, 1, 1, 1, 2, 1, 1, 1, 1, 1, 1, 1, 1, 1, 1, 1, 1, 1, 1, 1, 1, 1, 1, 2, 2, 1, 1, 1, 1, 1, 2, 2, 1, 1, 1, 1, 1, 1, 1, 1, 3, 2, 1, 1, 1, 1, 2, 1, 1, 1, 1, 1, 2, 1, 1, 1, 1, 1, 1, 1, 1, 1, 1, 1, 2, 1, 1, 2, 1, 1, 1, 1, 2, 1, 1, 2, 1, 1, 1, 1, 2, 1, 1, 1, 1, 1, 1, 1, 1, 1, 1, 1, 1, 1, 1, 1, 1, 2, 1, 1, 2, 2, 1, 1, 1, 1, 1, 1, 1, 1, 1, 1, 1, 1, 1, 2, 1, 1, 1, 1, 1, 1, 1, 1, 2, 1, 1, 1, 1, 1, 1, 1, 1, 1, 1, 1, 1, 1, 1, 1, 1, 1, 3, 2, 1, 1, 1, 1, 1, 1, 1, 1, 1, 1, 1, 1, 3, 1, 1, 1, 6, 1, 5, 1, 1, 1, 1, 1, 1, 1, 1, 1, 1, 1, 1, 1, 2, 1, 1, 1, 1, 1, 1, 8, 1, 1, 1, 1, 1, 1, 1, 1, 1, 1, 1, 1, 1, 1, 1, 1, 1, 2, 3, 3, 1, 1, 1, 1, 1, 1, 1, 1, 1, 1, 1, 1, 1, 1, 1, 2, 1, 1, 1, 1, 1, 1, 1, 1, 1, 1, 1, 1, 1, 1, 1, 1, 1, 1, 1, 1, 1, 1, 1, 1, 1, 1, 1, 1, 1, 1, 1, 1, 1, 1, 1, 1, 1, 1, 3, 2, 1, 1, 2, 1, 1, 1, 1, 1, 2, 1, 1, 1, 1, 1, 1, 1, 1, 1, 1, 1, 1, 1, 1, 1, 1, 1, 1, 1, 1, 1, 1, 1, 1, 1, 1, 1, 1, 1, 1, 1, 1, 1, 1, 2, 1, 1, 1, 1, 1, 1, 1, 1, 1, 1, 1, 1, 1, 1, 1, 1, 1, 1, 2, 1, 1, 1, 1, 1, 1, 1, 1, 1, 1, 1, 1, 1, 1, 1, 1, 1, 1, 1, 1, 1, 1, 1, 1, 1, 2, 1, 1, 1, 1, 1, 1, 2, 1, 1, 1])"
            ]
          },
          "metadata": {
            "tags": []
          },
          "execution_count": 120
        }
      ]
    },
    {
      "cell_type": "code",
      "metadata": {
        "id": "oQYdR_N7SGY8",
        "colab_type": "code",
        "colab": {}
      },
      "source": [
        ""
      ],
      "execution_count": 0,
      "outputs": []
    },
    {
      "cell_type": "code",
      "metadata": {
        "id": "OJDC92rtB6Rk",
        "colab_type": "code",
        "colab": {
          "base_uri": "https://localhost:8080/",
          "height": 1000
        },
        "outputId": "46e41520-df47-492a-8364-a7d3a32942d6"
      },
      "source": [
        "help(\"nltk.\")"
      ],
      "execution_count": 123,
      "outputs": [
        {
          "output_type": "stream",
          "text": [
            "Help on package nltk in nltk:\n",
            "\n",
            "NAME\n",
            "    nltk\n",
            "\n",
            "DESCRIPTION\n",
            "    The Natural Language Toolkit (NLTK) is an open source Python library\n",
            "    for Natural Language Processing.  A free online book is available.\n",
            "    (If you use the library for academic research, please cite the book.)\n",
            "    \n",
            "    Steven Bird, Ewan Klein, and Edward Loper (2009).\n",
            "    Natural Language Processing with Python.  O'Reilly Media Inc.\n",
            "    http://nltk.org/book\n",
            "    \n",
            "    @version: 3.2.5\n",
            "\n",
            "PACKAGE CONTENTS\n",
            "    app (package)\n",
            "    book\n",
            "    ccg (package)\n",
            "    chat (package)\n",
            "    chunk (package)\n",
            "    classify (package)\n",
            "    cluster (package)\n",
            "    collections\n",
            "    collocations\n",
            "    compat\n",
            "    corpus (package)\n",
            "    data\n",
            "    decorators\n",
            "    downloader\n",
            "    draw (package)\n",
            "    featstruct\n",
            "    grammar\n",
            "    help\n",
            "    inference (package)\n",
            "    internals\n",
            "    jsontags\n",
            "    lazyimport\n",
            "    metrics (package)\n",
            "    misc (package)\n",
            "    parse (package)\n",
            "    probability\n",
            "    sem (package)\n",
            "    sentiment (package)\n",
            "    stem (package)\n",
            "    tag (package)\n",
            "    tbl (package)\n",
            "    test (package)\n",
            "    text\n",
            "    tgrep\n",
            "    tokenize (package)\n",
            "    toolbox\n",
            "    translate (package)\n",
            "    tree\n",
            "    treeprettyprinter\n",
            "    treetransforms\n",
            "    twitter (package)\n",
            "    util\n",
            "    wsd\n",
            "\n",
            "SUBMODULES\n",
            "    agreement\n",
            "    aline\n",
            "    api\n",
            "    association\n",
            "    bleu_score\n",
            "    bllip\n",
            "    boxer\n",
            "    brill\n",
            "    brill_trainer\n",
            "    casual\n",
            "    chart\n",
            "    confusionmatrix\n",
            "    corenlp\n",
            "    crf\n",
            "    decisiontree\n",
            "    dependencygraph\n",
            "    discourse\n",
            "    distance\n",
            "    drt\n",
            "    earleychart\n",
            "    evaluate\n",
            "    featurechart\n",
            "    glue\n",
            "    hmm\n",
            "    hunpos\n",
            "    ibm1\n",
            "    ibm2\n",
            "    ibm3\n",
            "    ibm4\n",
            "    ibm5\n",
            "    ibm_model\n",
            "    isri\n",
            "    lancaster\n",
            "    lfg\n",
            "    linearlogic\n",
            "    logic\n",
            "    mace\n",
            "    malt\n",
            "    mapping\n",
            "    maxent\n",
            "    megam\n",
            "    mwe\n",
            "    naivebayes\n",
            "    nltk.corpus\n",
            "    nonprojectivedependencyparser\n",
            "    paice\n",
            "    pchart\n",
            "    perceptron\n",
            "    porter\n",
            "    positivenaivebayes\n",
            "    projectivedependencyparser\n",
            "    prover9\n",
            "    punkt\n",
            "    recursivedescent\n",
            "    regexp\n",
            "    relextract\n",
            "    repp\n",
            "    resolution\n",
            "    ribes_score\n",
            "    rslp\n",
            "    rte_classify\n",
            "    scikitlearn\n",
            "    scores\n",
            "    segmentation\n",
            "    senna\n",
            "    sequential\n",
            "    sexpr\n",
            "    shiftreduce\n",
            "    simple\n",
            "    snowball\n",
            "    spearman\n",
            "    stack_decoder\n",
            "    stanford\n",
            "    stanford_segmenter\n",
            "    tableau\n",
            "    tadm\n",
            "    textcat\n",
            "    texttiling\n",
            "    tnt\n",
            "    toktok\n",
            "    transitionparser\n",
            "    treebank\n",
            "    viterbi\n",
            "    weka\n",
            "    wordnet\n",
            "\n",
            "FUNCTIONS\n",
            "    demo()\n",
            "        # override any accidentally imported demo\n",
            "\n",
            "DATA\n",
            "    RUS_PICKLE = 'taggers/averaged_perceptron_tagger_ru/averaged_perceptro...\n",
            "    SLASH = *slash*\n",
            "    TYPE = *type*\n",
            "    __author_email__ = 'stevenbird1@gmail.com'\n",
            "    __classifiers__ = ['Development Status :: 5 - Production/Stable', 'Int...\n",
            "    __copyright__ = 'Copyright (C) 2001-2017 NLTK Project.\\n\\nDistribut......\n",
            "    __keywords__ = ['NLP', 'CL', 'natural language processing', 'computati...\n",
            "    __license__ = 'Apache License, Version 2.0'\n",
            "    __longdescr__ = 'The Natural Language Toolkit (NLTK) is a Python ... p...\n",
            "    __maintainer__ = 'Steven Bird, Edward Loper, Ewan Klein'\n",
            "    __maintainer_email__ = 'stevenbird1@gmail.com'\n",
            "    __url__ = 'http://nltk.org/'\n",
            "    absolute_import = _Feature((2, 5, 0, 'alpha', 1), (3, 0, 0, 'alpha', 0...\n",
            "    app = <LazyModule 'nltk.nltk.app'>\n",
            "    chat = <LazyModule 'nltk.nltk.chat'>\n",
            "    class_types = (<class 'type'>,)\n",
            "    corpus = <LazyModule 'nltk.corpus'>\n",
            "    improved_close_quote_regex = re.compile('([»”’])')\n",
            "    improved_open_quote_regex = re.compile('([«“‘])')\n",
            "    improved_punct_regex = re.compile('([^\\\\.])(\\\\.)([\\\\]\\\\)}>\"\\\\\\'»”’ ]*)...\n",
            "    infile = <_io.TextIOWrapper name='/usr/local/lib/python3....packages/n...\n",
            "    json_tags = {'!nltk.tag.BrillTagger': <class 'nltk.tag.brill.BrillTagg...\n",
            "    print_function = _Feature((2, 6, 0, 'alpha', 2), (3, 0, 0, 'alpha', 0)...\n",
            "    string_types = (<class 'str'>,)\n",
            "    toolbox = <LazyModule 'nltk.nltk.toolbox'>\n",
            "    version_file = '/usr/local/lib/python3.6/dist-packages/nltk/VERSION'\n",
            "    version_info = sys.version_info(major=3, minor=6, micro=8, releaseleve...\n",
            "\n",
            "VERSION\n",
            "    3.2.5\n",
            "\n",
            "AUTHOR\n",
            "    Steven Bird, Edward Loper, Ewan Klein\n",
            "\n",
            "FILE\n",
            "    /usr/local/lib/python3.6/dist-packages/nltk/__init__.py\n",
            "\n",
            "\n"
          ],
          "name": "stdout"
        }
      ]
    },
    {
      "cell_type": "code",
      "metadata": {
        "id": "kB6OfYG7zx16",
        "colab_type": "code",
        "colab": {
          "base_uri": "https://localhost:8080/",
          "height": 1000
        },
        "outputId": "4f0de425-8d8d-4667-a4ee-1da0f47bae04"
      },
      "source": [
        "help(\"nltk.corpus.machado\")"
      ],
      "execution_count": 18,
      "outputs": [
        {
          "output_type": "stream",
          "text": [
            "Help on PortugueseCategorizedPlaintextCorpusReader in nltk.corpus object:\n",
            "\n",
            "nltk.corpus.machado = class PortugueseCategorizedPlaintextCorpusReader(CategorizedPlaintextCorpusReader)\n",
            " |  A reader for plaintext corpora whose documents are divided into\n",
            " |  categories based on their file identifiers.\n",
            " |  \n",
            " |  Method resolution order:\n",
            " |      PortugueseCategorizedPlaintextCorpusReader\n",
            " |      CategorizedPlaintextCorpusReader\n",
            " |      nltk.corpus.reader.api.CategorizedCorpusReader\n",
            " |      PlaintextCorpusReader\n",
            " |      nltk.corpus.reader.api.CorpusReader\n",
            " |      builtins.object\n",
            " |  \n",
            " |  Methods defined here:\n",
            " |  \n",
            " |  __init__(self, *args, **kwargs)\n",
            " |      Initialize the corpus reader.  Categorization arguments\n",
            " |      (``cat_pattern``, ``cat_map``, and ``cat_file``) are passed to\n",
            " |      the ``CategorizedCorpusReader`` constructor.  The remaining arguments\n",
            " |      are passed to the ``PlaintextCorpusReader`` constructor.\n",
            " |  \n",
            " |  ----------------------------------------------------------------------\n",
            " |  Methods inherited from CategorizedPlaintextCorpusReader:\n",
            " |  \n",
            " |  paras(self, fileids=None, categories=None)\n",
            " |      :return: the given file(s) as a list of\n",
            " |          paragraphs, each encoded as a list of sentences, which are\n",
            " |          in turn encoded as lists of word strings.\n",
            " |      :rtype: list(list(list(str)))\n",
            " |  \n",
            " |  raw(self, fileids=None, categories=None)\n",
            " |      :return: the given file(s) as a single string.\n",
            " |      :rtype: str\n",
            " |  \n",
            " |  sents(self, fileids=None, categories=None)\n",
            " |      :return: the given file(s) as a list of\n",
            " |          sentences or utterances, each encoded as a list of word\n",
            " |          strings.\n",
            " |      :rtype: list(list(str))\n",
            " |  \n",
            " |  words(self, fileids=None, categories=None)\n",
            " |      :return: the given file(s) as a list of words\n",
            " |          and punctuation symbols.\n",
            " |      :rtype: list(str)\n",
            " |  \n",
            " |  ----------------------------------------------------------------------\n",
            " |  Methods inherited from nltk.corpus.reader.api.CategorizedCorpusReader:\n",
            " |  \n",
            " |  categories(self, fileids=None)\n",
            " |      Return a list of the categories that are defined for this corpus,\n",
            " |      or for the file(s) if it is given.\n",
            " |  \n",
            " |  fileids(self, categories=None)\n",
            " |      Return a list of file identifiers for the files that make up\n",
            " |      this corpus, or that make up the given category(s) if specified.\n",
            " |  \n",
            " |  ----------------------------------------------------------------------\n",
            " |  Data descriptors inherited from nltk.corpus.reader.api.CategorizedCorpusReader:\n",
            " |  \n",
            " |  __dict__\n",
            " |      dictionary for instance variables (if defined)\n",
            " |  \n",
            " |  __weakref__\n",
            " |      list of weak references to the object (if defined)\n",
            " |  \n",
            " |  ----------------------------------------------------------------------\n",
            " |  Data and other attributes inherited from PlaintextCorpusReader:\n",
            " |  \n",
            " |  CorpusView = <class 'nltk.corpus.reader.util.StreamBackedCorpusView'>\n",
            " |      A 'view' of a corpus file, which acts like a sequence of tokens:\n",
            " |      it can be accessed by index, iterated over, etc.  However, the\n",
            " |      tokens are only constructed as-needed -- the entire corpus is\n",
            " |      never stored in memory at once.\n",
            " |      \n",
            " |      The constructor to ``StreamBackedCorpusView`` takes two arguments:\n",
            " |      a corpus fileid (specified as a string or as a ``PathPointer``);\n",
            " |      and a block reader.  A \"block reader\" is a function that reads\n",
            " |      zero or more tokens from a stream, and returns them as a list.  A\n",
            " |      very simple example of a block reader is:\n",
            " |      \n",
            " |          >>> def simple_block_reader(stream):\n",
            " |          ...     return stream.readline().split()\n",
            " |      \n",
            " |      This simple block reader reads a single line at a time, and\n",
            " |      returns a single token (consisting of a string) for each\n",
            " |      whitespace-separated substring on the line.\n",
            " |      \n",
            " |      When deciding how to define the block reader for a given\n",
            " |      corpus, careful consideration should be given to the size of\n",
            " |      blocks handled by the block reader.  Smaller block sizes will\n",
            " |      increase the memory requirements of the corpus view's internal\n",
            " |      data structures (by 2 integers per block).  On the other hand,\n",
            " |      larger block sizes may decrease performance for random access to\n",
            " |      the corpus.  (But note that larger block sizes will *not*\n",
            " |      decrease performance for iteration.)\n",
            " |      \n",
            " |      Internally, ``CorpusView`` maintains a partial mapping from token\n",
            " |      index to file position, with one entry per block.  When a token\n",
            " |      with a given index *i* is requested, the ``CorpusView`` constructs\n",
            " |      it as follows:\n",
            " |      \n",
            " |        1. First, it searches the toknum/filepos mapping for the token\n",
            " |           index closest to (but less than or equal to) *i*.\n",
            " |      \n",
            " |        2. Then, starting at the file position corresponding to that\n",
            " |           index, it reads one block at a time using the block reader\n",
            " |           until it reaches the requested token.\n",
            " |      \n",
            " |      The toknum/filepos mapping is created lazily: it is initially\n",
            " |      empty, but every time a new block is read, the block's\n",
            " |      initial token is added to the mapping.  (Thus, the toknum/filepos\n",
            " |      map has one entry per block.)\n",
            " |      \n",
            " |      In order to increase efficiency for random access patterns that\n",
            " |      have high degrees of locality, the corpus view may cache one or\n",
            " |      more blocks.\n",
            " |      \n",
            " |      :note: Each ``CorpusView`` object internally maintains an open file\n",
            " |          object for its underlying corpus file.  This file should be\n",
            " |          automatically closed when the ``CorpusView`` is garbage collected,\n",
            " |          but if you wish to close it manually, use the ``close()``\n",
            " |          method.  If you access a ``CorpusView``'s items after it has been\n",
            " |          closed, the file object will be automatically re-opened.\n",
            " |      \n",
            " |      :warning: If the contents of the file are modified during the\n",
            " |          lifetime of the ``CorpusView``, then the ``CorpusView``'s behavior\n",
            " |          is undefined.\n",
            " |      \n",
            " |      :warning: If a unicode encoding is specified when constructing a\n",
            " |          ``CorpusView``, then the block reader may only call\n",
            " |          ``stream.seek()`` with offsets that have been returned by\n",
            " |          ``stream.tell()``; in particular, calling ``stream.seek()`` with\n",
            " |          relative offsets, or with offsets based on string lengths, may\n",
            " |          lead to incorrect behavior.\n",
            " |      \n",
            " |      :ivar _block_reader: The function used to read\n",
            " |          a single block from the underlying file stream.\n",
            " |      :ivar _toknum: A list containing the token index of each block\n",
            " |          that has been processed.  In particular, ``_toknum[i]`` is the\n",
            " |          token index of the first token in block ``i``.  Together\n",
            " |          with ``_filepos``, this forms a partial mapping between token\n",
            " |          indices and file positions.\n",
            " |      :ivar _filepos: A list containing the file position of each block\n",
            " |          that has been processed.  In particular, ``_toknum[i]`` is the\n",
            " |          file position of the first character in block ``i``.  Together\n",
            " |          with ``_toknum``, this forms a partial mapping between token\n",
            " |          indices and file positions.\n",
            " |      :ivar _stream: The stream used to access the underlying corpus file.\n",
            " |      :ivar _len: The total number of tokens in the corpus, if known;\n",
            " |          or None, if the number of tokens is not yet known.\n",
            " |      :ivar _eofpos: The character position of the last character in the\n",
            " |          file.  This is calculated when the corpus view is initialized,\n",
            " |          and is used to decide when the end of file has been reached.\n",
            " |      :ivar _cache: A cache of the most recently read block.  It\n",
            " |         is encoded as a tuple (start_toknum, end_toknum, tokens), where\n",
            " |         start_toknum is the token index of the first token in the block;\n",
            " |         end_toknum is the token index of the first token not in the\n",
            " |         block; and tokens is a list of the tokens in the block.\n",
            " |  \n",
            " |  ----------------------------------------------------------------------\n",
            " |  Methods inherited from nltk.corpus.reader.api.CorpusReader:\n",
            " |  \n",
            " |  __repr__(self)\n",
            " |      Return repr(self).\n",
            " |  \n",
            " |  __unicode__ = __str__(self, /)\n",
            " |  \n",
            " |  abspath(self, fileid)\n",
            " |      Return the absolute path for the given file.\n",
            " |      \n",
            " |      :type fileid: str\n",
            " |      :param fileid: The file identifier for the file whose path\n",
            " |          should be returned.\n",
            " |      :rtype: PathPointer\n",
            " |  \n",
            " |  abspaths(self, fileids=None, include_encoding=False, include_fileid=False)\n",
            " |      Return a list of the absolute paths for all fileids in this corpus;\n",
            " |      or for the given list of fileids, if specified.\n",
            " |      \n",
            " |      :type fileids: None or str or list\n",
            " |      :param fileids: Specifies the set of fileids for which paths should\n",
            " |          be returned.  Can be None, for all fileids; a list of\n",
            " |          file identifiers, for a specified set of fileids; or a single\n",
            " |          file identifier, for a single file.  Note that the return\n",
            " |          value is always a list of paths, even if ``fileids`` is a\n",
            " |          single file identifier.\n",
            " |      \n",
            " |      :param include_encoding: If true, then return a list of\n",
            " |          ``(path_pointer, encoding)`` tuples.\n",
            " |      \n",
            " |      :rtype: list(PathPointer)\n",
            " |  \n",
            " |  citation(self)\n",
            " |      Return the contents of the corpus citation.bib file, if it exists.\n",
            " |  \n",
            " |  encoding(self, file)\n",
            " |      Return the unicode encoding for the given corpus file, if known.\n",
            " |      If the encoding is unknown, or if the given file should be\n",
            " |      processed using byte strings (str), then return None.\n",
            " |  \n",
            " |  ensure_loaded(self)\n",
            " |      Load this corpus (if it has not already been loaded).  This is\n",
            " |      used by LazyCorpusLoader as a simple method that can be used to\n",
            " |      make sure a corpus is loaded -- e.g., in case a user wants to\n",
            " |      do help(some_corpus).\n",
            " |  \n",
            " |  license(self)\n",
            " |      Return the contents of the corpus LICENSE file, if it exists.\n",
            " |  \n",
            " |  open(self, file)\n",
            " |      Return an open stream that can be used to read the given file.\n",
            " |      If the file's encoding is not None, then the stream will\n",
            " |      automatically decode the file's contents into unicode.\n",
            " |      \n",
            " |      :param file: The file identifier of the file to read.\n",
            " |  \n",
            " |  readme(self)\n",
            " |      Return the contents of the corpus README file, if it exists.\n",
            " |  \n",
            " |  unicode_repr = __repr__(self)\n",
            " |  \n",
            " |  ----------------------------------------------------------------------\n",
            " |  Data descriptors inherited from nltk.corpus.reader.api.CorpusReader:\n",
            " |  \n",
            " |  root\n",
            " |      The directory where this corpus is stored.\n",
            " |      \n",
            " |      :type: PathPointer\n",
            "\n"
          ],
          "name": "stdout"
        }
      ]
    },
    {
      "cell_type": "code",
      "metadata": {
        "id": "zR5jZ7VTz_rq",
        "colab_type": "code",
        "colab": {
          "base_uri": "https://localhost:8080/",
          "height": 1000
        },
        "outputId": "8e2a465a-82ad-4033-82cd-40598779b103"
      },
      "source": [
        "help(\"nltk.corpus.machado.CorpusView\")"
      ],
      "execution_count": 19,
      "outputs": [
        {
          "output_type": "stream",
          "text": [
            "Help on class StreamBackedCorpusView in nltk.corpus.machado:\n",
            "\n",
            "nltk.corpus.machado.CorpusView = class StreamBackedCorpusView(nltk.collections.AbstractLazySequence)\n",
            " |  A 'view' of a corpus file, which acts like a sequence of tokens:\n",
            " |  it can be accessed by index, iterated over, etc.  However, the\n",
            " |  tokens are only constructed as-needed -- the entire corpus is\n",
            " |  never stored in memory at once.\n",
            " |  \n",
            " |  The constructor to ``StreamBackedCorpusView`` takes two arguments:\n",
            " |  a corpus fileid (specified as a string or as a ``PathPointer``);\n",
            " |  and a block reader.  A \"block reader\" is a function that reads\n",
            " |  zero or more tokens from a stream, and returns them as a list.  A\n",
            " |  very simple example of a block reader is:\n",
            " |  \n",
            " |      >>> def simple_block_reader(stream):\n",
            " |      ...     return stream.readline().split()\n",
            " |  \n",
            " |  This simple block reader reads a single line at a time, and\n",
            " |  returns a single token (consisting of a string) for each\n",
            " |  whitespace-separated substring on the line.\n",
            " |  \n",
            " |  When deciding how to define the block reader for a given\n",
            " |  corpus, careful consideration should be given to the size of\n",
            " |  blocks handled by the block reader.  Smaller block sizes will\n",
            " |  increase the memory requirements of the corpus view's internal\n",
            " |  data structures (by 2 integers per block).  On the other hand,\n",
            " |  larger block sizes may decrease performance for random access to\n",
            " |  the corpus.  (But note that larger block sizes will *not*\n",
            " |  decrease performance for iteration.)\n",
            " |  \n",
            " |  Internally, ``CorpusView`` maintains a partial mapping from token\n",
            " |  index to file position, with one entry per block.  When a token\n",
            " |  with a given index *i* is requested, the ``CorpusView`` constructs\n",
            " |  it as follows:\n",
            " |  \n",
            " |    1. First, it searches the toknum/filepos mapping for the token\n",
            " |       index closest to (but less than or equal to) *i*.\n",
            " |  \n",
            " |    2. Then, starting at the file position corresponding to that\n",
            " |       index, it reads one block at a time using the block reader\n",
            " |       until it reaches the requested token.\n",
            " |  \n",
            " |  The toknum/filepos mapping is created lazily: it is initially\n",
            " |  empty, but every time a new block is read, the block's\n",
            " |  initial token is added to the mapping.  (Thus, the toknum/filepos\n",
            " |  map has one entry per block.)\n",
            " |  \n",
            " |  In order to increase efficiency for random access patterns that\n",
            " |  have high degrees of locality, the corpus view may cache one or\n",
            " |  more blocks.\n",
            " |  \n",
            " |  :note: Each ``CorpusView`` object internally maintains an open file\n",
            " |      object for its underlying corpus file.  This file should be\n",
            " |      automatically closed when the ``CorpusView`` is garbage collected,\n",
            " |      but if you wish to close it manually, use the ``close()``\n",
            " |      method.  If you access a ``CorpusView``'s items after it has been\n",
            " |      closed, the file object will be automatically re-opened.\n",
            " |  \n",
            " |  :warning: If the contents of the file are modified during the\n",
            " |      lifetime of the ``CorpusView``, then the ``CorpusView``'s behavior\n",
            " |      is undefined.\n",
            " |  \n",
            " |  :warning: If a unicode encoding is specified when constructing a\n",
            " |      ``CorpusView``, then the block reader may only call\n",
            " |      ``stream.seek()`` with offsets that have been returned by\n",
            " |      ``stream.tell()``; in particular, calling ``stream.seek()`` with\n",
            " |      relative offsets, or with offsets based on string lengths, may\n",
            " |      lead to incorrect behavior.\n",
            " |  \n",
            " |  :ivar _block_reader: The function used to read\n",
            " |      a single block from the underlying file stream.\n",
            " |  :ivar _toknum: A list containing the token index of each block\n",
            " |      that has been processed.  In particular, ``_toknum[i]`` is the\n",
            " |      token index of the first token in block ``i``.  Together\n",
            " |      with ``_filepos``, this forms a partial mapping between token\n",
            " |      indices and file positions.\n",
            " |  :ivar _filepos: A list containing the file position of each block\n",
            " |      that has been processed.  In particular, ``_toknum[i]`` is the\n",
            " |      file position of the first character in block ``i``.  Together\n",
            " |      with ``_toknum``, this forms a partial mapping between token\n",
            " |      indices and file positions.\n",
            " |  :ivar _stream: The stream used to access the underlying corpus file.\n",
            " |  :ivar _len: The total number of tokens in the corpus, if known;\n",
            " |      or None, if the number of tokens is not yet known.\n",
            " |  :ivar _eofpos: The character position of the last character in the\n",
            " |      file.  This is calculated when the corpus view is initialized,\n",
            " |      and is used to decide when the end of file has been reached.\n",
            " |  :ivar _cache: A cache of the most recently read block.  It\n",
            " |     is encoded as a tuple (start_toknum, end_toknum, tokens), where\n",
            " |     start_toknum is the token index of the first token in the block;\n",
            " |     end_toknum is the token index of the first token not in the\n",
            " |     block; and tokens is a list of the tokens in the block.\n",
            " |  \n",
            " |  Method resolution order:\n",
            " |      StreamBackedCorpusView\n",
            " |      nltk.collections.AbstractLazySequence\n",
            " |      builtins.object\n",
            " |  \n",
            " |  Methods defined here:\n",
            " |  \n",
            " |  __add__(self, other)\n",
            " |      Return a list concatenating self with other.\n",
            " |  \n",
            " |  __getitem__(self, i)\n",
            " |      Return the *i* th token in the corpus file underlying this\n",
            " |      corpus view.  Negative indices and spans are both supported.\n",
            " |  \n",
            " |  __init__(self, fileid, block_reader=None, startpos=0, encoding='utf8')\n",
            " |      Create a new corpus view, based on the file ``fileid``, and\n",
            " |      read with ``block_reader``.  See the class documentation\n",
            " |      for more information.\n",
            " |      \n",
            " |      :param fileid: The path to the file that is read by this\n",
            " |          corpus view.  ``fileid`` can either be a string or a\n",
            " |          ``PathPointer``.\n",
            " |      \n",
            " |      :param startpos: The file position at which the view will\n",
            " |          start reading.  This can be used to skip over preface\n",
            " |          sections.\n",
            " |      \n",
            " |      :param encoding: The unicode encoding that should be used to\n",
            " |          read the file's contents.  If no encoding is specified,\n",
            " |          then the file's contents will be read as a non-unicode\n",
            " |          string (i.e., a str).\n",
            " |  \n",
            " |  __len__(self)\n",
            " |      Return the number of tokens in the corpus file underlying this\n",
            " |      corpus view.\n",
            " |  \n",
            " |  __mul__(self, count)\n",
            " |      Return a list concatenating self with itself ``count`` times.\n",
            " |  \n",
            " |  __radd__(self, other)\n",
            " |      Return a list concatenating other with self.\n",
            " |  \n",
            " |  __rmul__(self, count)\n",
            " |      Return a list concatenating self with itself ``count`` times.\n",
            " |  \n",
            " |  close(self)\n",
            " |      Close the file stream associated with this corpus view.  This\n",
            " |      can be useful if you are worried about running out of file\n",
            " |      handles (although the stream should automatically be closed\n",
            " |      upon garbage collection of the corpus view).  If the corpus\n",
            " |      view is accessed after it is closed, it will be automatically\n",
            " |      re-opened.\n",
            " |  \n",
            " |  iterate_from(self, start_tok)\n",
            " |      Return an iterator that generates the tokens in the corpus\n",
            " |      file underlying this corpus view, starting at the token number\n",
            " |      ``start``.  If ``start>=len(self)``, then this iterator will\n",
            " |      generate no tokens.\n",
            " |  \n",
            " |  read_block(self, stream)\n",
            " |      Read a block from the input stream.\n",
            " |      \n",
            " |      :return: a block of tokens from the input stream\n",
            " |      :rtype: list(any)\n",
            " |      :param stream: an input stream\n",
            " |      :type stream: stream\n",
            " |  \n",
            " |  ----------------------------------------------------------------------\n",
            " |  Data descriptors defined here:\n",
            " |  \n",
            " |  fileid\n",
            " |      The fileid of the file that is accessed by this view.\n",
            " |      \n",
            " |      :type: str or PathPointer\n",
            " |  \n",
            " |  ----------------------------------------------------------------------\n",
            " |  Methods inherited from nltk.collections.AbstractLazySequence:\n",
            " |  \n",
            " |  __contains__(self, value)\n",
            " |      Return true if this list contains ``value``.\n",
            " |  \n",
            " |  __eq__(self, other)\n",
            " |      Return self==value.\n",
            " |  \n",
            " |  __ge__(self, other, NotImplemented=NotImplemented)\n",
            " |      Return a >= b.  Computed by @total_ordering from (not a < b).\n",
            " |  \n",
            " |  __gt__(self, other, NotImplemented=NotImplemented)\n",
            " |      Return a > b.  Computed by @total_ordering from (not a < b) and (a != b).\n",
            " |  \n",
            " |  __hash__(self)\n",
            " |      :raise ValueError: Corpus view objects are unhashable.\n",
            " |  \n",
            " |  __iter__(self)\n",
            " |      Return an iterator that generates the tokens in the corpus\n",
            " |      file underlying this corpus view.\n",
            " |  \n",
            " |  __le__(self, other, NotImplemented=NotImplemented)\n",
            " |      Return a <= b.  Computed by @total_ordering from (a < b) or (a == b).\n",
            " |  \n",
            " |  __lt__(self, other)\n",
            " |      Return self<value.\n",
            " |  \n",
            " |  __ne__(self, other)\n",
            " |      Return self!=value.\n",
            " |  \n",
            " |  __repr__(self)\n",
            " |      Return a string representation for this corpus view that is\n",
            " |      similar to a list's representation; but if it would be more\n",
            " |      than 60 characters long, it is truncated.\n",
            " |  \n",
            " |  __unicode__ = __str__(self, /)\n",
            " |  \n",
            " |  count(self, value)\n",
            " |      Return the number of times this list contains ``value``.\n",
            " |  \n",
            " |  index(self, value, start=None, stop=None)\n",
            " |      Return the index of the first occurrence of ``value`` in this\n",
            " |      list that is greater than or equal to ``start`` and less than\n",
            " |      ``stop``.  Negative start and stop values are treated like negative\n",
            " |      slice bounds -- i.e., they count from the end of the list.\n",
            " |  \n",
            " |  unicode_repr = __repr__(self)\n",
            " |  \n",
            " |  ----------------------------------------------------------------------\n",
            " |  Data descriptors inherited from nltk.collections.AbstractLazySequence:\n",
            " |  \n",
            " |  __dict__\n",
            " |      dictionary for instance variables (if defined)\n",
            " |  \n",
            " |  __weakref__\n",
            " |      list of weak references to the object (if defined)\n",
            "\n"
          ],
          "name": "stdout"
        }
      ]
    },
    {
      "cell_type": "code",
      "metadata": {
        "id": "ThdibjGL1ufY",
        "colab_type": "code",
        "colab": {
          "base_uri": "https://localhost:8080/",
          "height": 35
        },
        "outputId": "2c61f2e0-7792-498c-e664-f355e4ec3d60"
      },
      "source": [
        "nltk.corpus.machado.CorpusView"
      ],
      "execution_count": 22,
      "outputs": [
        {
          "output_type": "execute_result",
          "data": {
            "text/plain": [
              "nltk.corpus.reader.util.StreamBackedCorpusView"
            ]
          },
          "metadata": {
            "tags": []
          },
          "execution_count": 22
        }
      ]
    },
    {
      "cell_type": "code",
      "metadata": {
        "id": "kBULSPfk14bR",
        "colab_type": "code",
        "colab": {
          "base_uri": "https://localhost:8080/",
          "height": 495
        },
        "outputId": "b0d2d0b1-02c2-40aa-f1c1-e0f63ae9ed0c"
      },
      "source": [
        "ptext1.concordance('olhos')"
      ],
      "execution_count": 23,
      "outputs": [
        {
          "output_type": "stream",
          "text": [
            "Displaying 25 of 138 matches:\n",
            "De pé , à cabeceira da cama , com os olhos estúpidos , a boca entreaberta , a t\n",
            "orelhas . Pela minha parte fechei os olhos e deixei - me ir à ventura . Já agor\n",
            "xões de cérebro enfermo . Como ia de olhos fechados , não via o caminho ; lembr\n",
            "gelos eternos . Com efeito , abri os olhos e vi que o meu animal galopava numa \n",
            "me apareceu então , fitando - me uns olhos rutilantes como o sol . Tudo nessa f\n",
            " mim mesmo . Então , encarei - a com olhos súplices , e pedi mais alguns anos .\n",
            "o alto de uma montanha . Inclinei os olhos a uma das vertentes , e contemplei ,\n",
            "ilhão , e , não obstante , porque os olhos do delírio são outros , eu via tudo \n",
            "cifração da eternidade . E fixei os olhos , e continuei a ver as idades , que \n",
            " esperto , concordava meu pai ; e os olhos babavam - se - lhe de orgulho , e el\n",
            "te , e , repetido o mote , cravar os olhos na testa de uma senhora , depois tos\n",
            "avrear de estômagos satisfeitos ; os olhos moles e úmidos , ou vivos e cálidos \n",
            "m estacado de orquestra , e todos os olhos se voltavam para o glosador . Quem f\n",
            " . Eu via isso , porque arrastava os olhos da compota para ele e dele para a co\n",
            " eu segui - os . O Vilaça levava nos olhos umas chispas de vinho e de volúpia .\n",
            "es ... D . Eusébia levou o lenço aos olhos . O glosador vasculhava na memória a\n",
            " estupefação imobilizou a todos ; os olhos espraiavam - se a uma e outra banda \n",
            "a aula , dava um pulo , circulava os olhos chamejantes , dizia - nos os últimos\n",
            ", deixava - se estar quieto , com os olhos espetados no ar . Uma flor , o Quinc\n",
            "u forcejava por trazer a bigode . Os olhos , vivos e resolutos , eram a minha f\n",
            " pensativa , ou levantou para mim os olhos cobiçosos . De todas porém a que me \n",
            "pouco ou nada comi , porque só tinha olhos para a dona da casa . Que gentil que\n",
            "erramava - se - lhe a felicidade dos olhos , e eu sentia - me feliz com vê - la\n",
            " meu amor ! Eu agradeci - lho com os olhos úmidos . No dia seguinte levei - lhe\n",
            "proposta . Marcela ouviu - me com os olhos no ar , sem responder logo ; como in\n"
          ],
          "name": "stdout"
        }
      ]
    },
    {
      "cell_type": "code",
      "metadata": {
        "id": "KEIQ3P4KVRYx",
        "colab_type": "code",
        "colab": {}
      },
      "source": [
        "target_word = 'olhos'"
      ],
      "execution_count": 0,
      "outputs": []
    },
    {
      "cell_type": "code",
      "metadata": {
        "id": "ErwrniiIVVTR",
        "colab_type": "code",
        "colab": {
          "base_uri": "https://localhost:8080/",
          "height": 1000
        },
        "outputId": "e85f736e-a0b5-4731-b51f-181875d9e5e8"
      },
      "source": [
        "##Usar NGRAMS para ver palavras que acompanha a palavra alvo\n",
        "fd = FreqDist(ng\n",
        "#               for ng in ngrams(text1, 5)\n",
        "              for ng in ngrams(text1, 3)\n",
        "              if target_word in ng)\n",
        "for hit in fd:\n",
        "  print(' '.join(hit))"
      ],
      "execution_count": 146,
      "outputs": [
        {
          "output_type": "stream",
          "text": [
            "com os olhos\n",
            "os olhos estúpidos\n",
            "olhos estúpidos ,\n",
            "fechei os olhos\n",
            "os olhos e\n",
            "olhos e deixei\n",
            "ia de olhos\n",
            "de olhos fechados\n",
            "olhos fechados ,\n",
            "abri os olhos\n",
            "olhos e vi\n",
            "me uns olhos\n",
            "uns olhos rutilantes\n",
            "olhos rutilantes como\n",
            "a com olhos\n",
            "com olhos súplices\n",
            "olhos súplices ,\n",
            "Inclinei os olhos\n",
            "os olhos a\n",
            "olhos a uma\n",
            "porque os olhos\n",
            "os olhos do\n",
            "olhos do delírio\n",
            "fixei os olhos\n",
            "os olhos ,\n",
            "olhos , e\n",
            "e os olhos\n",
            "os olhos babavam\n",
            "olhos babavam -\n",
            "cravar os olhos\n",
            "os olhos na\n",
            "olhos na testa\n",
            "; os olhos\n",
            "os olhos moles\n",
            "olhos moles e\n",
            "todos os olhos\n",
            "os olhos se\n",
            "olhos se voltavam\n",
            "arrastava os olhos\n",
            "os olhos da\n",
            "olhos da compota\n",
            "levava nos olhos\n",
            "nos olhos umas\n",
            "olhos umas chispas\n",
            "lenço aos olhos\n",
            "aos olhos .\n",
            "olhos . O\n",
            "os olhos espraiavam\n",
            "olhos espraiavam -\n",
            "circulava os olhos\n",
            "os olhos chamejantes\n",
            "olhos chamejantes ,\n",
            "os olhos espetados\n",
            "olhos espetados no\n",
            ". Os olhos\n",
            "Os olhos ,\n",
            "olhos , vivos\n",
            "mim os olhos\n",
            "os olhos cobiçosos\n",
            "olhos cobiçosos .\n",
            "só tinha olhos\n",
            "tinha olhos para\n",
            "olhos para a\n",
            "felicidade dos olhos\n",
            "dos olhos ,\n",
            "os olhos úmidos\n",
            "olhos úmidos .\n",
            "os olhos no\n",
            "olhos no ar\n",
            "retirou os olhos\n",
            "os olhos ;\n",
            "olhos ; tinha\n",
            "passeava os olhos\n",
            "os olhos de\n",
            "olhos de mim\n",
            "tirava os olhos\n",
            "olhos de cima\n",
            "tinha os olhos\n",
            "os olhos fitos\n",
            "olhos fitos no\n",
            "olhos a saltarem\n",
            "os olhos naquele\n",
            "olhos naquele ponto\n",
            "Os olhos do\n",
            "olhos do capitão\n",
            "eu os olhos\n",
            "olhos , ao\n",
            "fé dos olhos\n",
            "dos olhos pretos\n",
            "olhos pretos e\n",
            "diante dos olhos\n",
            "dos olhos as\n",
            "olhos as circunstâncias\n",
            "lançou os olhos\n",
            "os olhos ao\n",
            "olhos ao papel\n",
            "fecha os olhos\n",
            "os olhos às\n",
            "olhos às sardas\n",
            "e uns olhos\n",
            "uns olhos ...\n",
            "olhos ... filha\n",
            "nos meus olhos\n",
            "meus olhos ,\n",
            "os olhos fúlgidos\n",
            "olhos fúlgidos ,\n",
            "ouro e olhos\n",
            "e olhos de\n",
            "olhos de diamante\n",
            "que tinha olhos\n",
            "tinha olhos ,\n",
            "olhos , braços\n",
            "recreio dos olhos\n",
            "dos olhos .\n",
            "olhos . Não\n",
            "perscrutava os olhos\n",
            "olhos de Eugênia\n",
            "de uns olhos\n",
            "uns olhos pretos\n",
            ". Uns olhos\n",
            "Uns olhos tão\n",
            "olhos tão lúcidos\n",
            "olhos de 1814\n",
            "os olhos para\n",
            "Eram os olhos\n",
            "olhos a melhor\n",
            "Os olhos chisparam\n",
            "olhos chisparam e\n",
            "tempo os olhos\n",
            "os olhos me\n",
            "olhos me contavam\n",
            "; eram olhos\n",
            "eram olhos da\n",
            "olhos da primeira\n",
            "olhos , que\n",
            "deitou os olhos\n",
            "olhos , mas\n",
            "e nos olhos\n",
            "nos olhos uma\n",
            "olhos uma concentração\n",
            "olhos no chão\n",
            "finca os olhos\n",
            "olhos na ponta\n",
            "olhos para baixo\n",
            "que os olhos\n",
            "olhos se fixam\n",
            "os olhos em\n",
            "olhos em nós\n",
            "olhos . Vi\n",
            "Relanceei os olhos\n",
            "olhos em volta\n",
            "os olhos .\n",
            "olhos . Ter\n",
            "tiram os olhos\n",
            "olhos , na\n",
            "os olhos nela\n",
            "olhos nela ,\n",
            "Os olhos tinham\n",
            "olhos tinham um\n",
            "arredei os olhos\n",
            "olhos ; se\n",
            "os olhos cintilantes\n",
            "olhos cintilantes de\n",
            "me aos olhos\n",
            "aos olhos o\n",
            "olhos o passado\n",
            "molestes os olhos\n",
            "os olhos dos\n",
            "olhos dos outros\n",
            "fechar os olhos\n",
            "olhos e dormir\n",
            "e belos olhos\n",
            "belos olhos ,\n",
            "derramando os olhos\n",
            "olhos de um\n",
            "fascinando os olhos\n",
            "olhos de todos\n",
            "os olhos dela\n",
            "olhos dela ...\n",
            "os olhos vermelhos\n",
            "olhos vermelhos de\n",
            "lhe dos olhos\n",
            "olhos . \n",
            "enxugou os olhos\n",
            "olhos e estendeu\n",
            " Bons olhos\n",
            "Bons olhos o\n",
            "olhos o vejam\n",
            "olhos , porém\n",
            "traziam aos olhos\n",
            "aos olhos constantemente\n",
            "olhos constantemente a\n",
            "levantou os olhos\n",
            "olhos para mim\n",
            "lágrimas nos olhos\n",
            "nos olhos ,\n",
            "eu tivesse olhos\n",
            "tivesse olhos ,\n",
            "olhos , dar\n",
            "não deixa olhos\n",
            "deixa olhos para\n",
            "olhos para chorar\n",
            "lhe os olhos\n",
            "olhos , de\n",
            "olhos ao candeeiro\n",
            "piscava os olhos\n",
            "olhos , convencida\n",
            ", os olhos\n",
            "olhos na costura\n",
            "os olhos baixos\n",
            "olhos baixos ,\n",
            "nunca vi olhos\n",
            "vi olhos mais\n",
            "olhos mais pasmados\n",
            "os nossos olhos\n",
            "nossos olhos se\n",
            "olhos se encontraram\n",
            "... Os olhos\n",
            "Os olhos dela\n",
            "olhos dela estavam\n",
            "apareceu aos olhos\n",
            "aos olhos do\n",
            "olhos do próximo\n",
            "olhos no lampião\n",
            "me os olhos\n",
            "olhos , depois\n",
            "rolavam os olhos\n",
            "os olhos lampejantes\n",
            "olhos lampejantes ,\n",
            "os olhos rasos\n",
            "olhos rasos de\n",
            "a meus olhos\n",
            "meus olhos todos\n",
            "olhos todos os\n",
            "desviou os olhos\n",
            "olhos e sorriu\n",
            "estudando os olhos\n",
            "olhos do marido\n",
            "corro os olhos\n",
            "os olhos pelos\n",
            "olhos pelos camarotes\n",
            "mais os olhos\n",
            "baixei os olhos\n",
            "olhos ao chão\n",
            "de outros olhos\n",
            "outros olhos .\n",
            "olhos . Em\n",
            "nos próprios olhos\n",
            "próprios olhos lhe\n",
            "olhos lhe parecessem\n",
            "cair dos olhos\n",
            "dos olhos de\n",
            "olhos de Virgília\n",
            "visual dos olhos\n",
            "dos olhos enfermos\n",
            "olhos enfermos ou\n",
            "arregalou os olhos\n",
            "os olhos :\n",
            "olhos : \n",
            "olhos , com\n",
            "olhos . Fisgava\n",
            "olhos e treme\n",
            "olhos da moça\n",
            "os olhos fixos\n",
            "olhos fixos no\n",
            "atado os olhos\n",
            "olhos . Era\n",
            "assim , olhos\n",
            ", olhos fitos\n",
            "olhos fitos nos\n",
            "fitos nos olhos\n",
            "olhos , bico\n",
            "somente os olhos\n",
            ", dos olhos\n",
            "dos olhos bonitos\n",
            "olhos bonitos ,\n",
            "que aos olhos\n",
            "aos olhos de\n",
            "furor nos olhos\n",
            "nos olhos ...\n",
            "olhos ... Quincas\n",
            "meus olhos .\n",
            "olhos . Esfreguei\n",
            "valor aos olhos\n",
            "ter nos olhos\n",
            "nos olhos algum\n",
            "olhos algum indício\n",
            "sacudir dos olhos\n",
            "dos olhos a\n",
            "olhos a cerimônia\n",
            "baixou os olhos\n",
            "olhos ; mas\n",
            ", uns olhos\n",
            "uns olhos em\n",
            "olhos em que\n"
          ],
          "name": "stdout"
        }
      ]
    },
    {
      "cell_type": "code",
      "metadata": {
        "id": "MN8pGubmXVqs",
        "colab_type": "code",
        "colab": {
          "base_uri": "https://localhost:8080/",
          "height": 35
        },
        "outputId": "11be83b5-1e4b-4159-bea1-6f699e6c277a"
      },
      "source": [
        "nltk.corpus.mac_morpho.words()"
      ],
      "execution_count": 148,
      "outputs": [
        {
          "output_type": "execute_result",
          "data": {
            "text/plain": [
              "['Jersei', 'atinge', 'média', 'de', 'Cr$', '1,4', ...]"
            ]
          },
          "metadata": {
            "tags": []
          },
          "execution_count": 148
        }
      ]
    },
    {
      "cell_type": "code",
      "metadata": {
        "id": "w_wAuMhgXgm3",
        "colab_type": "code",
        "colab": {
          "base_uri": "https://localhost:8080/",
          "height": 35
        },
        "outputId": "14b5c3d8-581b-4477-b5ed-284fe427151b"
      },
      "source": [
        "##Mais de 1 milhao de palavras\n",
        "len(nltk.corpus.mac_morpho.words())"
      ],
      "execution_count": 150,
      "outputs": [
        {
          "output_type": "execute_result",
          "data": {
            "text/plain": [
              "1170095"
            ]
          },
          "metadata": {
            "tags": []
          },
          "execution_count": 150
        }
      ]
    },
    {
      "cell_type": "code",
      "metadata": {
        "id": "_IVTE8aMXcbV",
        "colab_type": "code",
        "colab": {
          "base_uri": "https://localhost:8080/",
          "height": 55
        },
        "outputId": "4ad05037-fa72-4abd-8d9f-5228d69a977f"
      },
      "source": [
        "##Setencas\n",
        "nltk.corpus.mac_morpho.sents()"
      ],
      "execution_count": 149,
      "outputs": [
        {
          "output_type": "execute_result",
          "data": {
            "text/plain": [
              "[['Jersei', 'atinge', 'média', 'de', 'Cr$', '1,4', 'milhão', 'em', 'a', 'venda', 'de', 'a', 'Pinhal', 'em', 'São', 'Paulo'], ['Programe', 'sua', 'viagem', 'a', 'a', 'Exposição', 'Nacional', 'do', 'Zebu', ',', 'que', 'começa', 'dia', '25'], ...]"
            ]
          },
          "metadata": {
            "tags": []
          },
          "execution_count": 149
        }
      ]
    },
    {
      "cell_type": "code",
      "metadata": {
        "id": "QuzMYT51YFwX",
        "colab_type": "code",
        "colab": {
          "base_uri": "https://localhost:8080/",
          "height": 35
        },
        "outputId": "8fea429f-492c-4790-ec6e-378ae93000ec"
      },
      "source": [
        "nltk.corpus.mac_morpho.tagged_words()##lista com tupla (palavra,classe:N=substantivo, V=verbo)"
      ],
      "execution_count": 154,
      "outputs": [
        {
          "output_type": "execute_result",
          "data": {
            "text/plain": [
              "[('Jersei', 'N'), ('atinge', 'V'), ('média', 'N'), ...]"
            ]
          },
          "metadata": {
            "tags": []
          },
          "execution_count": 154
        }
      ]
    },
    {
      "cell_type": "code",
      "metadata": {
        "id": "hnqmpbXJYyvq",
        "colab_type": "code",
        "colab": {}
      },
      "source": [
        ""
      ],
      "execution_count": 0,
      "outputs": []
    },
    {
      "cell_type": "code",
      "metadata": {
        "id": "YC1thzrJYMzl",
        "colab_type": "code",
        "colab": {
          "base_uri": "https://localhost:8080/",
          "height": 35
        },
        "outputId": "a1622a6c-d53e-49c2-e55d-23d9a201b593"
      },
      "source": [
        "type(nltk.corpus.mac_morpho.tagged_words())"
      ],
      "execution_count": 152,
      "outputs": [
        {
          "output_type": "execute_result",
          "data": {
            "text/plain": [
              "<class 'nltk.corpus.reader.util.ConcatenatedCorpusView'>"
            ]
          },
          "metadata": {
            "tags": []
          },
          "execution_count": 152
        }
      ]
    },
    {
      "cell_type": "code",
      "metadata": {
        "id": "lfCqtZNrY0Rp",
        "colab_type": "code",
        "colab": {
          "base_uri": "https://localhost:8080/",
          "height": 55
        },
        "outputId": "28716118-6d64-4ff0-d7ce-3d2df02f5a90"
      },
      "source": [
        "##Morfologia da setenca\n",
        "nltk.corpus.mac_morpho.tagged_sents()"
      ],
      "execution_count": 155,
      "outputs": [
        {
          "output_type": "execute_result",
          "data": {
            "text/plain": [
              "[[('Jersei', 'N'), ('atinge', 'V'), ('média', 'N'), ('de', 'PREP'), ('Cr$', 'CUR'), ('1,4', 'NUM'), ('milhão', 'N'), ('em', 'PREP|+'), ('a', 'ART'), ('venda', 'N'), ('de', 'PREP|+'), ('a', 'ART'), ('Pinhal', 'NPROP'), ('em', 'PREP'), ('São', 'NPROP'), ('Paulo', 'NPROP')], [('Programe', 'V'), ('sua', 'PROADJ'), ('viagem', 'N'), ('a', 'PREP|+'), ('a', 'ART'), ('Exposição', 'NPROP'), ('Nacional', 'NPROP'), ('do', 'NPROP'), ('Zebu', 'NPROP'), (',', ','), ('que', 'PRO-KS-REL'), ('começa', 'V'), ('dia', 'N'), ('25', 'N|AP')], ...]"
            ]
          },
          "metadata": {
            "tags": []
          },
          "execution_count": 155
        }
      ]
    },
    {
      "cell_type": "code",
      "metadata": {
        "id": "7YLjOQww2cg0",
        "colab_type": "code",
        "colab": {
          "base_uri": "https://localhost:8080/",
          "height": 35
        },
        "outputId": "757ee617-925f-41ad-bc68-e70d77a6dcdc"
      },
      "source": [
        "print(nltk.__version__)"
      ],
      "execution_count": 125,
      "outputs": [
        {
          "output_type": "stream",
          "text": [
            "3.2.5\n"
          ],
          "name": "stdout"
        }
      ]
    },
    {
      "cell_type": "code",
      "metadata": {
        "id": "EH6yaLZ3R-3T",
        "colab_type": "code",
        "colab": {}
      },
      "source": [
        ""
      ],
      "execution_count": 0,
      "outputs": []
    }
  ]
}