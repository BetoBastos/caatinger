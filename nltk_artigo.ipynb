{
  "nbformat": 4,
  "nbformat_minor": 0,
  "metadata": {
    "colab": {
      "name": "nltk_artigo.ipynb",
      "version": "0.3.2",
      "provenance": [],
      "include_colab_link": true
    },
    "kernelspec": {
      "name": "python3",
      "display_name": "Python 3"
    }
  },
  "cells": [
    {
      "cell_type": "markdown",
      "metadata": {
        "id": "view-in-github",
        "colab_type": "text"
      },
      "source": [
        "<a href=\"https://colab.research.google.com/github/BetoBastos/caatinger/blob/master/nltk_artigo.ipynb\" target=\"_parent\"><img src=\"https://colab.research.google.com/assets/colab-badge.svg\" alt=\"Open In Colab\"/></a>"
      ]
    },
    {
      "cell_type": "code",
      "metadata": {
        "id": "b6K92fGpd-YI",
        "colab_type": "code",
        "colab": {}
      },
      "source": [
        "import nltk\n",
        "from nltk.corpus import machado, mac_morpho, floresta, genesis\n",
        "from nltk.text import Text\n",
        "from nltk.probability import FreqDist\n",
        "from nltk import ngrams\n",
        "from nltk.util import bigrams\n",
        "from nltk.misc import babelize_shell"
      ],
      "execution_count": 0,
      "outputs": []
    },
    {
      "cell_type": "code",
      "metadata": {
        "id": "qbLx3QMfif5Y",
        "colab_type": "code",
        "colab": {}
      },
      "source": [
        "# help(\"nltk.tokenize\")"
      ],
      "execution_count": 0,
      "outputs": []
    },
    {
      "cell_type": "code",
      "metadata": {
        "id": "cMBBo1JsePuU",
        "colab_type": "code",
        "colab": {}
      },
      "source": [
        "import requests\n",
        "from bs4 import BeautifulSoup\n",
        "from urllib import request"
      ],
      "execution_count": 0,
      "outputs": []
    },
    {
      "cell_type": "code",
      "metadata": {
        "id": "18TdBsefectU",
        "colab_type": "code",
        "colab": {}
      },
      "source": [
        "url=\"https://www.sk.com.br/sk-revie.html\""
      ],
      "execution_count": 0,
      "outputs": []
    },
    {
      "cell_type": "code",
      "metadata": {
        "id": "np9QlYSLepbW",
        "colab_type": "code",
        "colab": {}
      },
      "source": [
        "r=requests.get(url)\n",
        "page_cont=r.content"
      ],
      "execution_count": 0,
      "outputs": []
    },
    {
      "cell_type": "code",
      "metadata": {
        "id": "NzCbjWlzetAl",
        "colab_type": "code",
        "colab": {
          "base_uri": "https://localhost:8080/",
          "height": 55
        },
        "outputId": "dcc9c7da-9496-4089-a6a4-3c6e49acda5b"
      },
      "source": [
        "page_cont"
      ],
      "execution_count": 8,
      "outputs": [
        {
          "output_type": "execute_result",
          "data": {
            "text/plain": [
              "b'<!doctype html>\\n<html>\\n<head>\\n\\t<meta charset=\"utf-8\">\\n\\t<link rel=\"stylesheet\" href=\"bootstrap.min.css\">\\n\\t<link rel=\"stylesheet\" href=\"style.css\">\\n\\t<meta name=\"viewport\" content=\"width=device-width, initial-scale=1\">\\n\\t<title>Language Teaching Approaches Review</title>\\n\\t<script>(function(i,s,o,g,r,a,m){i[\\'GoogleAnalyticsObject\\']=r;i[r]=i[r]||function(){(i[r].q=i[r].q||[]).push(arguments)},i[r].l=1*new Date();a=s.createElement(o),m=s.getElementsByTagName(o)[0];a.async=1;a.src=g;m.parentNode.insertBefore(a,m)})(window,document,\\'script\\',\\'//www.google-analytics.com/analytics.js\\',\\'ga\\');ga(\\'create\\', \\'UA-50607604-1\\', \\'sk.com.br\\');ga(\\'send\\', \\'pageview\\');</script>\\n</head>\\n<body>\\n\\n<p id=\"pagina-inicial\"><a href=\"sk.html\">P\\xc3\\xa1gina inicial</a></p>\\n\\n<hr id=\"pagina-inicial-hr\">\\n\\n<h1>Language Teaching Approaches Review</h1>\\n\\n<div align=\"right\"><dt><i><a href=\"sk-inst.html\">Ricardo Sch\\xc3\\xbctz</a></i></dt>\\n</div><br>\\n\\n<p>In learning languages, a distinction is usually made between mother tongues, second languages, and foreign languages. A mother tongue is the first language or languages one learns (or acquires) as a child. When immigrants come to a new country and learn the language of that country, they are learning a second language. On the other hand, when English-speaking students in the United States learn French or Spanish in school, or when Brazilians study English in Brazil, they are learning a foreign language. The acronyms ESL and EFL stand for the learning of English as a Second and as a Foreign Language.</p>\\n\\n<p>Many theories about the learning and teaching of languages have been proposed. These theories, normally influenced by developments in the fields of linguistics and psychology, have inspired many approaches to the teaching of second and foreign languages. The study of these theories and how they influence language teaching methodology today is called applied linguistics.</p>\\n\\n<p><img src=\"translating_s.jpg\" ALT=\"\\xc3\\x93culos\" class=\"active\" border=\"1\" hspace=\"10\" vspace=\"12\" align=\"left\">The <strong>grammar-translation</strong> method (18th, 19th and early 20th century), for example, is an early method based on the assumptions that language is primarily graphic, that the main purpose of second language study is to build knowledge of the structure of the language either as a tool for literary research and translation or for the development of the learner\\'s logical powers, and that the process of second language learning must be deductive, requires effort, and must be carried out with constant reference to the learner\\'s native language.</p>\\n\\n\\n<p><img src=\"str_beha.png\" alt=\"Structuralism &amp; Behaviorism\" hspace=\"18\" vspace=\"10\" align=\"left\">The <strong>audiolingual</strong> approach, which was very popular from the 1940s through the 1960s, is based in structural linguistics (structuralism) and behavioristic psychology (Skinner\\'s behaviorism), and places heavy emphasis on spoken rather than written language, and on the grammar of particular languages, stressing habit formation as a mode of learning. Rote memorization, role playing and structure drilling are the predominant activities. Audiolingual approaches do not depend so much on the instructor\\'s creative ability and do not require excellent proficiency in the language, being always railed to sets of lessons and books. Therefore, they are easy to be implemented, cheap to be maintained and are still in use by many packaged language courses (especially in Brazil).</p>\\n\\n<p>By the middle of the 20th century cognitive psychologists like <a href=\"sk-vygot.html\">Vygotsky</a> and <a href=\"sk-piage.html\">Piaget</a> bring up theories that help to explain the limited effectiveness of the traditional prescriptive and mechanistic approaches to language teaching. These theories serve as a basis for the new <strong>natural-communicative approaches</strong>.</p>\\n\\n<p>Beginning in the 1950s, <a href=\"sk-chom.html\">Noam Chomsky</a> and his followers challenged previous assumptions about language structure and language learning, taking the position that language is creative (not memorized), and rule governed (not based on habit), and that universal phenomena of the human mind underlie all language. This \"Chomskian revolution\" initially gave rise to eclecticism in teaching, but it has more recently led to two main branches of teaching approaches: <u>the humanistic approaches based on the charismatic teaching of one person, and content-based communicative approaches, which try to incorporate what has been learned in recent years about the need for active learner participation, about appropriate language input, and about communication as a human activity.</u> Most recently, there has been also a significant shift toward greater attention to reading and writing as a complement of listening and speaking, based on a new awareness of significant differences between spoken and written languages, and on the notion that dealing with language involves an interaction between the text on the one hand, and the culturally-based world knowledge and experientially-based learning of the receiver on the other.</p>\\n\\n<p>There have been developments such as a great emphasis on individualized instruction, more humanistic approaches to language learning, a greater focus on the learner, and greater emphasis on development of communicative, as opposed to merely linguistic, competence.</p>\\n\\n<p>In addition to Chomsky\\'s generativism, the advances in cognitive science and educational psychology made by Jean Piaget and Lev Semenovich Vygotsky in the first half of the century strongly influenced language teaching theory in the 1960s and 70s. These new trends favoring more humanistic views and putting a greater focus on the learner and on social interaction gave way to the <strong>Natural</strong> (USA) and <strong>Communicative </strong>(England)\\napproaches. Psychologist Charles Curran\\'s Community Language Learning and <a href=\"sk-krash.html\">Krashen</a>\\'s and Terrell\\'s Natural Approach (in the 1980s) are good examples of this latest trend in language teaching that Hammerly calls <strong>Communicative Aquisitionist Naturalistic</strong> <em>megatheory</em> of language instruction.</p>\\n\\n<p><a href=\"sk-piage.html\">Piaget</a> e <a href=\"sk-vygot.html\">Vygotsky</a>, pais da psicologia cognitiva contempor\\xc3\\xa2nea, enfatizam que conhecimento \\xc3\\xa9 constru\\xc3\\xaddo em ambientes naturais de intera\\xc3\\xa7\\xc3\\xa3o social, estruturados culturalmente. Cada aprendiz constr\\xc3\\xb3i seu pr\\xc3\\xb3prio aprendizado baseado em experi\\xc3\\xaancias de fundo psicol\\xc3\\xb3gico resultantes de sua participa\\xc3\\xa7\\xc3\\xa3o ativa no ambiente.</p>\\n\\n<p>A partir de pensadores como Piaget e Vygotsky, observa-se um decl\\xc3\\xadnio de credibilidade nos m\\xc3\\xa9todos de ensino vigentes, abrindo-se espa\\xc3\\xa7o a teorias menos prescritivas e mecanicistas e mais naturalistas e cognitivistas.</p>\\n\\n<p><a href=\"sk-chom.html\">Noam Chomsky</a> revoluciona a lingu\\xc3\\xadstica nos anos 50 afirmando que l\\xc3\\xadngua \\xc3\\xa9 uma habilidade criativa e n\\xc3\\xa3o memorizada, e que n\\xc3\\xa3o s\\xc3\\xa3o as regras da gram\\xc3\\xa1tica que determinam o que \\xc3\\xa9 <u>certo</u> e <u>errado</u>, mas sim o desempenho de um nativo instru\\xc3\\xaddo que determina o que \\xc3\\xa9 <u>aceit\\xc3\\xa1vel</u> ou <u>inaceit\\xc3\\xa1vel</u>. Mais recentemente as id\\xc3\\xa9ias de Chomsky passaram a inspirar a metodologia de ensino de l\\xc3\\xadnguas na dire\\xc3\\xa7\\xc3\\xa3o de uma abordagem human\\xc3\\xadstica baseada em comunica\\xc3\\xa7\\xc3\\xa3o e intermedia\\xc3\\xa7\\xc3\\xa3o de um orientador carism\\xc3\\xa1tico e participa\\xc3\\xa7\\xc3\\xa3o ativa do aluno.</p>\\n\\n<p><a href=\"sk-krash.html\">Stephen Krashen</a> finalmente nos anos 80 cria o <em>Natural Approach</em>, trazendo ao ensino de l\\xc3\\xadnguas estrangeiras as contribui\\xc3\\xa7\\xc3\\xb5es de Piaget e Vygotsky \\xc3\\xa0 psicologia educacional. Em seu livro <em>(Principles and Practice in Second Language Acquisition)</em> Krashen estabelece uma distin\\xc3\\xa7\\xc3\\xa3o entre estudo e assimila\\xc3\\xa7\\xc3\\xa3o de idiomas e conclui que o ensino de l\\xc3\\xadnguas eficiente n\\xc3\\xa3o \\xc3\\xa9 aquele que depende de receitas did\\xc3\\xa1ticas em pacote ou que busca apoio de equipamentos caros, mas sim aquele que explora a habilidade do instrutor em criar situa\\xc3\\xa7\\xc3\\xb5es de comunica\\xc3\\xa7\\xc3\\xa3o aut\\xc3\\xaantica, n\\xc3\\xa3o necessariamente dentro de uma sala de aula, que enfatiza o interc\\xc3\\xa2mbio entre pessoas de diferentes culturas, e que dissocia as atividades de ensino e aprendizado do plano t\\xc3\\xa9cnico-did\\xc3\\xa1tico, colocando-as num plano pessoal-psicol\\xc3\\xb3gico.</p>\\n\\n<p><center><font size=\"3\">Agradecemos a M\\xc3\\xa1rcia Terra pela colabora\\xc3\\xa7\\xc3\\xa3o na interpreta\\xc3\\xa7\\xc3\\xa3o do pensamento de Vygotsky.</font></center></p>\\n\\n<CENTER><DT>\\n<HR SIZE=1 WIDTH=\"500\"><I><B><FONT SIZE=-1><A HREF=\"quizzes/q-apren.htm\">VOC&Ecirc;\\nEST&Aacute; PREPARADO PARA O APRENDIZADO DE L&Iacute;NGUAS? Fa&ccedil;a\\num teste aqui.</A></FONT></B> \\n<HR SIZE=1 WIDTH=\"500\"></I><B><FONT COLOR=\"#0000FF\"><FONT SIZE=-1><A HREF=\"sk-apren.html\">O\\nAPRENDIZADO DE L&Iacute;NGUAS AO LONGO DE UM S&Eacute;CULO</A> </FONT></FONT></B><FONT COLOR=\"#0000FF\"><FONT SIZE=-1>(Port.)</FONT></FONT></DT></CENTER>\\n\\n<CENTER><DT><B>&nbsp;<FONT SIZE=-1><A HREF=\"sk-mthen.html\">S&amp;K\\'s PSYCHOLINGUISTIC&nbsp;APPROACH</A></FONT></B><FONT SIZE=-1>&nbsp;<FONT COLOR=\"#0000FF\">(Eng.)</FONT></FONT></DT></CENTER>\\n\\n<CENTER><DT>\\n<HR SIZE=1 WIDTH=\"40%\"></DT></CENTER>\\n\\n\\n</body>\\n</html>\\n'"
            ]
          },
          "metadata": {
            "tags": []
          },
          "execution_count": 8
        }
      ]
    },
    {
      "cell_type": "code",
      "metadata": {
        "id": "xehaQF-deziV",
        "colab_type": "code",
        "colab": {}
      },
      "source": [
        "page_cont_par=BeautifulSoup(r.content,\"html.parser\")"
      ],
      "execution_count": 0,
      "outputs": []
    },
    {
      "cell_type": "code",
      "metadata": {
        "id": "4G6bdagJfR89",
        "colab_type": "code",
        "colab": {
          "base_uri": "https://localhost:8080/",
          "height": 55
        },
        "outputId": "a53251a6-8119-4b16-83dd-95ff652cf298"
      },
      "source": [
        "page_cont_par.text"
      ],
      "execution_count": 10,
      "outputs": [
        {
          "output_type": "execute_result",
          "data": {
            "text/plain": [
              "'\\n\\n\\n\\n\\n\\n\\nLanguage Teaching Approaches Review\\n(function(i,s,o,g,r,a,m){i[\\'GoogleAnalyticsObject\\']=r;i[r]=i[r]||function(){(i[r].q=i[r].q||[]).push(arguments)},i[r].l=1*new Date();a=s.createElement(o),m=s.getElementsByTagName(o)[0];a.async=1;a.src=g;m.parentNode.insertBefore(a,m)})(window,document,\\'script\\',\\'//www.google-analytics.com/analytics.js\\',\\'ga\\');ga(\\'create\\', \\'UA-50607604-1\\', \\'sk.com.br\\');ga(\\'send\\', \\'pageview\\');\\n\\n\\nPágina inicial\\n\\nLanguage Teaching Approaches Review\\nRicardo Schütz\\n\\nIn learning languages, a distinction is usually made between mother tongues, second languages, and foreign languages. A mother tongue is the first language or languages one learns (or acquires) as a child. When immigrants come to a new country and learn the language of that country, they are learning a second language. On the other hand, when English-speaking students in the United States learn French or Spanish in school, or when Brazilians study English in Brazil, they are learning a foreign language. The acronyms ESL and EFL stand for the learning of English as a Second and as a Foreign Language.\\nMany theories about the learning and teaching of languages have been proposed. These theories, normally influenced by developments in the fields of linguistics and psychology, have inspired many approaches to the teaching of second and foreign languages. The study of these theories and how they influence language teaching methodology today is called applied linguistics.\\nThe grammar-translation method (18th, 19th and early 20th century), for example, is an early method based on the assumptions that language is primarily graphic, that the main purpose of second language study is to build knowledge of the structure of the language either as a tool for literary research and translation or for the development of the learner\\'s logical powers, and that the process of second language learning must be deductive, requires effort, and must be carried out with constant reference to the learner\\'s native language.\\nThe audiolingual approach, which was very popular from the 1940s through the 1960s, is based in structural linguistics (structuralism) and behavioristic psychology (Skinner\\'s behaviorism), and places heavy emphasis on spoken rather than written language, and on the grammar of particular languages, stressing habit formation as a mode of learning. Rote memorization, role playing and structure drilling are the predominant activities. Audiolingual approaches do not depend so much on the instructor\\'s creative ability and do not require excellent proficiency in the language, being always railed to sets of lessons and books. Therefore, they are easy to be implemented, cheap to be maintained and are still in use by many packaged language courses (especially in Brazil).\\nBy the middle of the 20th century cognitive psychologists like Vygotsky and Piaget bring up theories that help to explain the limited effectiveness of the traditional prescriptive and mechanistic approaches to language teaching. These theories serve as a basis for the new natural-communicative approaches.\\nBeginning in the 1950s, Noam Chomsky and his followers challenged previous assumptions about language structure and language learning, taking the position that language is creative (not memorized), and rule governed (not based on habit), and that universal phenomena of the human mind underlie all language. This \"Chomskian revolution\" initially gave rise to eclecticism in teaching, but it has more recently led to two main branches of teaching approaches: the humanistic approaches based on the charismatic teaching of one person, and content-based communicative approaches, which try to incorporate what has been learned in recent years about the need for active learner participation, about appropriate language input, and about communication as a human activity. Most recently, there has been also a significant shift toward greater attention to reading and writing as a complement of listening and speaking, based on a new awareness of significant differences between spoken and written languages, and on the notion that dealing with language involves an interaction between the text on the one hand, and the culturally-based world knowledge and experientially-based learning of the receiver on the other.\\nThere have been developments such as a great emphasis on individualized instruction, more humanistic approaches to language learning, a greater focus on the learner, and greater emphasis on development of communicative, as opposed to merely linguistic, competence.\\nIn addition to Chomsky\\'s generativism, the advances in cognitive science and educational psychology made by Jean Piaget and Lev Semenovich Vygotsky in the first half of the century strongly influenced language teaching theory in the 1960s and 70s. These new trends favoring more humanistic views and putting a greater focus on the learner and on social interaction gave way to the Natural (USA) and Communicative (England)\\napproaches. Psychologist Charles Curran\\'s Community Language Learning and Krashen\\'s and Terrell\\'s Natural Approach (in the 1980s) are good examples of this latest trend in language teaching that Hammerly calls Communicative Aquisitionist Naturalistic megatheory of language instruction.\\nPiaget e Vygotsky, pais da psicologia cognitiva contemporânea, enfatizam que conhecimento é construído em ambientes naturais de interação social, estruturados culturalmente. Cada aprendiz constrói seu próprio aprendizado baseado em experiências de fundo psicológico resultantes de sua participação ativa no ambiente.\\nA partir de pensadores como Piaget e Vygotsky, observa-se um declínio de credibilidade nos métodos de ensino vigentes, abrindo-se espaço a teorias menos prescritivas e mecanicistas e mais naturalistas e cognitivistas.\\nNoam Chomsky revoluciona a linguística nos anos 50 afirmando que língua é uma habilidade criativa e não memorizada, e que não são as regras da gramática que determinam o que é certo e errado, mas sim o desempenho de um nativo instruído que determina o que é aceitável ou inaceitável. Mais recentemente as idéias de Chomsky passaram a inspirar a metodologia de ensino de línguas na direção de uma abordagem humanística baseada em comunicação e intermediação de um orientador carismático e participação ativa do aluno.\\nStephen Krashen finalmente nos anos 80 cria o Natural Approach, trazendo ao ensino de línguas estrangeiras as contribuições de Piaget e Vygotsky à psicologia educacional. Em seu livro (Principles and Practice in Second Language Acquisition) Krashen estabelece uma distinção entre estudo e assimilação de idiomas e conclui que o ensino de línguas eficiente não é aquele que depende de receitas didáticas em pacote ou que busca apoio de equipamentos caros, mas sim aquele que explora a habilidade do instrutor em criar situações de comunicação autêntica, não necessariamente dentro de uma sala de aula, que enfatiza o intercâmbio entre pessoas de diferentes culturas, e que dissocia as atividades de ensino e aprendizado do plano técnico-didático, colocando-as num plano pessoal-psicológico.\\nAgradecemos a Márcia Terra pela colaboração na interpretação do pensamento de Vygotsky.\\n\\nVOCÊ\\nESTÁ PREPARADO PARA O APRENDIZADO DE LÍNGUAS? Faça\\num teste aqui.\\nO\\nAPRENDIZADO DE LÍNGUAS AO LONGO DE UM SÉCULO (Port.)\\n\\xa0S&K\\'s PSYCHOLINGUISTIC\\xa0APPROACH\\xa0(Eng.)\\n\\n\\n\\n\\n'"
            ]
          },
          "metadata": {
            "tags": []
          },
          "execution_count": 10
        }
      ]
    },
    {
      "cell_type": "code",
      "metadata": {
        "id": "3DvvNz6EfXWV",
        "colab_type": "code",
        "colab": {}
      },
      "source": [
        "response = request.urlopen(url)"
      ],
      "execution_count": 0,
      "outputs": []
    },
    {
      "cell_type": "code",
      "metadata": {
        "id": "o9QShG3ff_iG",
        "colab_type": "code",
        "colab": {}
      },
      "source": [
        "raw = response.read().decode('utf8')"
      ],
      "execution_count": 0,
      "outputs": []
    },
    {
      "cell_type": "code",
      "metadata": {
        "id": "Y7LfQpLDoYnC",
        "colab_type": "code",
        "colab": {}
      },
      "source": [
        ""
      ],
      "execution_count": 0,
      "outputs": []
    },
    {
      "cell_type": "code",
      "metadata": {
        "id": "LQQxpzoXgbmI",
        "colab_type": "code",
        "colab": {}
      },
      "source": [
        "raw_2=page_cont_par.text.lower()"
      ],
      "execution_count": 0,
      "outputs": []
    },
    {
      "cell_type": "code",
      "metadata": {
        "id": "klT6ujd0gPJF",
        "colab_type": "code",
        "colab": {
          "base_uri": "https://localhost:8080/",
          "height": 109
        },
        "outputId": "489910fa-9fd9-4713-8b7a-27d8983b9610"
      },
      "source": [
        "print(raw[:75])"
      ],
      "execution_count": 14,
      "outputs": [
        {
          "output_type": "stream",
          "text": [
            "<!doctype html>\n",
            "<html>\n",
            "<head>\n",
            "\t<meta charset=\"utf-8\">\n",
            "\t<link rel=\"styleshee\n"
          ],
          "name": "stdout"
        }
      ]
    },
    {
      "cell_type": "code",
      "metadata": {
        "id": "MeczQ0a9gWlx",
        "colab_type": "code",
        "colab": {
          "base_uri": "https://localhost:8080/",
          "height": 182
        },
        "outputId": "2053fcff-274f-4c9c-cfc1-3482c6da7313"
      },
      "source": [
        "print(raw_2[:75])"
      ],
      "execution_count": 15,
      "outputs": [
        {
          "output_type": "stream",
          "text": [
            "\n",
            "\n",
            "\n",
            "\n",
            "\n",
            "\n",
            "\n",
            "language teaching approaches review\n",
            "(function(i,s,o,g,r,a,m){i['goog\n"
          ],
          "name": "stdout"
        }
      ]
    },
    {
      "cell_type": "markdown",
      "metadata": {
        "id": "UjOBz6jT3aGH",
        "colab_type": "text"
      },
      "source": [
        ""
      ]
    },
    {
      "cell_type": "code",
      "metadata": {
        "id": "ZnffHNcuggkY",
        "colab_type": "code",
        "colab": {}
      },
      "source": [
        "# from nltk.tokenize import RegexpTokenizer\n"
      ],
      "execution_count": 0,
      "outputs": []
    },
    {
      "cell_type": "code",
      "metadata": {
        "id": "o2l2GUj0g8W0",
        "colab_type": "code",
        "colab": {
          "base_uri": "https://localhost:8080/",
          "height": 72
        },
        "outputId": "4ee3e4dd-a819-4c6d-f213-c84ccc739585"
      },
      "source": [
        "import nltk\n",
        "nltk.download('punkt')\n"
      ],
      "execution_count": 16,
      "outputs": [
        {
          "output_type": "stream",
          "text": [
            "[nltk_data] Downloading package punkt to /root/nltk_data...\n",
            "[nltk_data]   Package punkt is already up-to-date!\n"
          ],
          "name": "stdout"
        },
        {
          "output_type": "execute_result",
          "data": {
            "text/plain": [
              "True"
            ]
          },
          "metadata": {
            "tags": []
          },
          "execution_count": 16
        }
      ]
    },
    {
      "cell_type": "code",
      "metadata": {
        "id": "yv1XARvr4Pg6",
        "colab_type": "code",
        "colab": {}
      },
      "source": [
        "tokens = nltk.word_tokenize(raw_2)\n"
      ],
      "execution_count": 0,
      "outputs": []
    },
    {
      "cell_type": "code",
      "metadata": {
        "id": "KBDwd_QN6R6c",
        "colab_type": "code",
        "colab": {}
      },
      "source": [
        "tokens=[word.lower() for word in tokens if word.isalpha()]"
      ],
      "execution_count": 0,
      "outputs": []
    },
    {
      "cell_type": "code",
      "metadata": {
        "id": "RYsQieaw6hY0",
        "colab_type": "code",
        "colab": {
          "base_uri": "https://localhost:8080/",
          "height": 35
        },
        "outputId": "046a7dbe-ce5e-4073-dad7-bcadccb4fbf6"
      },
      "source": [
        "tokens[:5]"
      ],
      "execution_count": 19,
      "outputs": [
        {
          "output_type": "execute_result",
          "data": {
            "text/plain": [
              "['language', 'teaching', 'approaches', 'review', 'function']"
            ]
          },
          "metadata": {
            "tags": []
          },
          "execution_count": 19
        }
      ]
    },
    {
      "cell_type": "code",
      "metadata": {
        "id": "oiX0JYAS4h-U",
        "colab_type": "code",
        "colab": {}
      },
      "source": [
        "# help(\"nltk.tokenize.RegexpTokenizer\")"
      ],
      "execution_count": 0,
      "outputs": []
    },
    {
      "cell_type": "code",
      "metadata": {
        "id": "mOfW6O7RmG4d",
        "colab_type": "code",
        "colab": {}
      },
      "source": [
        "#  tokens"
      ],
      "execution_count": 0,
      "outputs": []
    },
    {
      "cell_type": "code",
      "metadata": {
        "id": "6G6lCyB9meZ8",
        "colab_type": "code",
        "colab": {}
      },
      "source": [
        "#Palavras mais frequentes (Retorna objeto com dicionario embutido)\n",
        "fd1 = FreqDist(tokens)"
      ],
      "execution_count": 0,
      "outputs": []
    },
    {
      "cell_type": "code",
      "metadata": {
        "id": "_qj-ikSLCHPj",
        "colab_type": "code",
        "colab": {
          "base_uri": "https://localhost:8080/",
          "height": 55
        },
        "outputId": "a0ea760b-09cf-429c-b161-e969899abfa3"
      },
      "source": [
        "repr(fd1)"
      ],
      "execution_count": 23,
      "outputs": [
        {
          "output_type": "execute_result",
          "data": {
            "text/plain": [
              "\"FreqDist({'the': 51, 'and': 43, 'language': 29, 'a': 27, 'de': 27, 'of': 26, 'in': 19, 'to': 17, 'on': 16, 'e': 15, ...})\""
            ]
          },
          "metadata": {
            "tags": []
          },
          "execution_count": 23
        }
      ]
    },
    {
      "cell_type": "code",
      "metadata": {
        "id": "V1OXqEZGmitc",
        "colab_type": "code",
        "colab": {}
      },
      "source": [
        "dicio_freq=dict(fd1)"
      ],
      "execution_count": 0,
      "outputs": []
    },
    {
      "cell_type": "code",
      "metadata": {
        "id": "9a-MyPpDPnGV",
        "colab_type": "code",
        "colab": {}
      },
      "source": [
        "# dicio_freq"
      ],
      "execution_count": 0,
      "outputs": []
    },
    {
      "cell_type": "code",
      "metadata": {
        "id": "cSe22aSeEQh7",
        "colab_type": "code",
        "colab": {}
      },
      "source": [
        "# dic"
      ],
      "execution_count": 0,
      "outputs": []
    },
    {
      "cell_type": "code",
      "metadata": {
        "id": "690l5peP7XIw",
        "colab_type": "code",
        "colab": {}
      },
      "source": [
        "arq=open(\"freq_texto1.txt\",\"w\")\n",
        "for line in raw_2:\n",
        "  arq.write(line)"
      ],
      "execution_count": 0,
      "outputs": []
    },
    {
      "cell_type": "code",
      "metadata": {
        "id": "M-YDImca9Hcm",
        "colab_type": "code",
        "colab": {}
      },
      "source": [
        "leit=open(\"freq_texto1.txt\",\"r\")"
      ],
      "execution_count": 0,
      "outputs": []
    },
    {
      "cell_type": "code",
      "metadata": {
        "id": "6m3c50Qt9NUb",
        "colab_type": "code",
        "colab": {
          "base_uri": "https://localhost:8080/",
          "height": 55
        },
        "outputId": "09def4cc-0a6c-425f-c08c-98032dc0c6f7"
      },
      "source": [
        "leit.read()"
      ],
      "execution_count": 35,
      "outputs": [
        {
          "output_type": "execute_result",
          "data": {
            "text/plain": [
              "'\\n\\n\\n\\n\\n\\n\\nlanguage teaching approaches review\\n(function(i,s,o,g,r,a,m){i[\\'googleanalyticsobject\\']=r;i[r]=i[r]||function(){(i[r].q=i[r].q||[]).push(arguments)},i[r].l=1*new date();a=s.createelement(o),m=s.getelementsbytagname(o)[0];a.async=1;a.src=g;m.parentnode.insertbefore(a,m)})(window,document,\\'script\\',\\'//www.google-analytics.com/analytics.js\\',\\'ga\\');ga(\\'create\\', \\'ua-50607604-1\\', \\'sk.com.br\\');ga(\\'send\\', \\'pageview\\');\\n\\n\\npágina inicial\\n\\nlanguage teaching approaches review\\nricardo schütz\\n\\nin learning languages, a distinction is usually made between mother tongues, second languages, and foreign languages. a mother tongue is the first language or languages one learns (or acquires) as a child. when immigrants come to a new country and learn the language of that country, they are learning a second language. on the other hand, when english-speaking students in the united states learn french or spanish in school, or when brazilians study english in brazil, they are learning a foreign language. the acronyms esl and efl stand for the learning of english as a second and as a foreign language.\\nmany theories about the learning and teaching of languages have been proposed. these theories, normally influenced by developments in the fields of linguistics and psychology, have inspired many approaches to the teaching of second and foreign languages. the study of these theories and how they influence language teaching methodology today is called applied linguistics.\\nthe grammar-translation method (18th, 19th and early 20th century), for example, is an early method based on the assumptions that language is primarily graphic, that the main purpose of second language study is to build knowledge of the structure of the language either as a tool for literary research and translation or for the development of the learner\\'s logical powers, and that the process of second language learning must be deductive, requires effort, and must be carried out with constant reference to the learner\\'s native language.\\nthe audiolingual approach, which was very popular from the 1940s through the 1960s, is based in structural linguistics (structuralism) and behavioristic psychology (skinner\\'s behaviorism), and places heavy emphasis on spoken rather than written language, and on the grammar of particular languages, stressing habit formation as a mode of learning. rote memorization, role playing and structure drilling are the predominant activities. audiolingual approaches do not depend so much on the instructor\\'s creative ability and do not require excellent proficiency in the language, being always railed to sets of lessons and books. therefore, they are easy to be implemented, cheap to be maintained and are still in use by many packaged language courses (especially in brazil).\\nby the middle of the 20th century cognitive psychologists like vygotsky and piaget bring up theories that help to explain the limited effectiveness of the traditional prescriptive and mechanistic approaches to language teaching. these theories serve as a basis for the new natural-communicative approaches.\\nbeginning in the 1950s, noam chomsky and his followers challenged previous assumptions about language structure and language learning, taking the position that language is creative (not memorized), and rule governed (not based on habit), and that universal phenomena of the human mind underlie all language. this \"chomskian revolution\" initially gave rise to eclecticism in teaching, but it has more recently led to two main branches of teaching approaches: the humanistic approaches based on the charismatic teaching of one person, and content-based communicative approaches, which try to incorporate what has been learned in recent years about the need for active learner participation, about appropriate language input, and about communication as a human activity. most recently, there has been also a significant shift toward greater attention to reading and writing as a complement of listening and speaking, based on a new awareness of significant differences between spoken and written languages, and on the notion that dealing with language involves an interaction between the text on the one hand, and the culturally-based world knowledge and experientially-based learning of the receiver on the other.\\nthere have been developments such as a great emphasis on individualized instruction, more humanistic approaches to language learning, a greater focus on the learner, and greater emphasis on development of communicative, as opposed to merely linguistic, competence.\\nin addition to chomsky\\'s generativism, the advances in cognitive science and educational psychology made by jean piaget and lev semenovich vygotsky in the first half of the century strongly influenced language teaching theory in the 1960s and 70s. these new trends favoring more humanistic views and putting a greater focus on the learner and on social interaction gave way to the natural (usa) and communicative (england)\\napproaches. psychologist charles curran\\'s community language learning and krashen\\'s and terrell\\'s natural approach (in the 1980s) are good examples of this latest trend in language teaching that hammerly calls communicative aquisitionist naturalistic megatheory of language instruction.\\npiaget e vygotsky, pais da psicologia cognitiva contemporânea, enfatizam que conhecimento é construído em ambientes naturais de interação social, estruturados culturalmente. cada aprendiz constrói seu próprio aprendizado baseado em experiências de fundo psicológico resultantes de sua participação ativa no ambiente.\\na partir de pensadores como piaget e vygotsky, observa-se um declínio de credibilidade nos métodos de ensino vigentes, abrindo-se espaço a teorias menos prescritivas e mecanicistas e mais naturalistas e cognitivistas.\\nnoam chomsky revoluciona a linguística nos anos 50 afirmando que língua é uma habilidade criativa e não memorizada, e que não são as regras da gramática que determinam o que é certo e errado, mas sim o desempenho de um nativo instruído que determina o que é aceitável ou inaceitável. mais recentemente as idéias de chomsky passaram a inspirar a metodologia de ensino de línguas na direção de uma abordagem humanística baseada em comunicação e intermediação de um orientador carismático e participação ativa do aluno.\\nstephen krashen finalmente nos anos 80 cria o natural approach, trazendo ao ensino de línguas estrangeiras as contribuições de piaget e vygotsky à psicologia educacional. em seu livro (principles and practice in second language acquisition) krashen estabelece uma distinção entre estudo e assimilação de idiomas e conclui que o ensino de línguas eficiente não é aquele que depende de receitas didáticas em pacote ou que busca apoio de equipamentos caros, mas sim aquele que explora a habilidade do instrutor em criar situações de comunicação autêntica, não necessariamente dentro de uma sala de aula, que enfatiza o intercâmbio entre pessoas de diferentes culturas, e que dissocia as atividades de ensino e aprendizado do plano técnico-didático, colocando-as num plano pessoal-psicológico.\\nagradecemos a márcia terra pela colaboração na interpretação do pensamento de vygotsky.\\n\\nvocê\\nestá preparado para o aprendizado de línguas? faça\\num teste aqui.\\no\\naprendizado de línguas ao longo de um século (port.)\\n\\xa0s&k\\'s psycholinguistic\\xa0approach\\xa0(eng.)\\n\\n\\n\\n\\n'"
            ]
          },
          "metadata": {
            "tags": []
          },
          "execution_count": 35
        }
      ]
    },
    {
      "cell_type": "code",
      "metadata": {
        "id": "veZp7OWcBPrR",
        "colab_type": "code",
        "colab": {}
      },
      "source": [
        "# help(\"nltk.probability.FreqDist.\")"
      ],
      "execution_count": 0,
      "outputs": []
    },
    {
      "cell_type": "code",
      "metadata": {
        "id": "mvCrOaxK_wYw",
        "colab_type": "code",
        "colab": {
          "base_uri": "https://localhost:8080/",
          "height": 331
        },
        "outputId": "bff0bc7c-f179-48c3-93a9-215804db2d2e"
      },
      "source": [
        "fd1.plot(20)"
      ],
      "execution_count": 37,
      "outputs": [
        {
          "output_type": "display_data",
          "data": {
            "image/png": "[encoded data removed]",
            "text/plain": [
              "<Figure size 432x288 with 1 Axes>"
            ]
          },
          "metadata": {
            "tags": []
          }
        }
      ]
    },
    {
      "cell_type": "code",
      "metadata": {
        "id": "fiPLFv9slAHM",
        "colab_type": "code",
        "colab": {}
      },
      "source": [
        "# import nltk\n",
        "# nltk.download(\"punkt\")"
      ],
      "execution_count": 0,
      "outputs": []
    },
    {
      "cell_type": "code",
      "metadata": {
        "id": "v43iROSSh4fP",
        "colab_type": "code",
        "colab": {}
      },
      "source": [
        "  \t\n",
        "\n",
        "# >>> import codecs\n",
        "# >>> f = codecs.open(path, encoding='latin2')"
      ],
      "execution_count": 0,
      "outputs": []
    },
    {
      "cell_type": "code",
      "metadata": {
        "id": "KPFLGrs0r2oI",
        "colab_type": "code",
        "colab": {
          "base_uri": "https://localhost:8080/",
          "height": 72
        },
        "outputId": "9f1b983f-3163-4938-b4e8-39b4ca47ef54"
      },
      "source": [
        "nltk.download('stopwords')"
      ],
      "execution_count": 40,
      "outputs": [
        {
          "output_type": "stream",
          "text": [
            "[nltk_data] Downloading package stopwords to /root/nltk_data...\n",
            "[nltk_data]   Package stopwords is already up-to-date!\n"
          ],
          "name": "stdout"
        },
        {
          "output_type": "execute_result",
          "data": {
            "text/plain": [
              "True"
            ]
          },
          "metadata": {
            "tags": []
          },
          "execution_count": 40
        }
      ]
    },
    {
      "cell_type": "code",
      "metadata": {
        "id": "Y-6m9CIgAlgi",
        "colab_type": "code",
        "colab": {}
      },
      "source": [
        "from nltk.corpus import stopwords\n",
        "\n",
        "from nltk import word_tokenize\n",
        "\n",
        "#Para o portugues escolhe 'portuguese'\n",
        "stop_words = set(stopwords.words('english'))\n",
        "\n",
        "# text = word_tokenize(\"The quick brown fox jumps over the lazy dog\")\n",
        "\n",
        "#print(nltk.pos_tag(text))\n",
        "\n"
      ],
      "execution_count": 0,
      "outputs": []
    },
    {
      "cell_type": "code",
      "metadata": {
        "id": "CyVSHueUIBIH",
        "colab_type": "code",
        "colab": {}
      },
      "source": [
        "%%debug\n",
        "new_sentence =[]\n",
        "\n",
        "for w in tokens:\n",
        "  if w not in stop_words: new_sentence.append(w)\n",
        "  print(tokens)\n",
        "  print(new_sentence)"
      ],
      "execution_count": 0,
      "outputs": []
    },
    {
      "cell_type": "markdown",
      "metadata": {
        "id": "AQTez4fASyT6",
        "colab_type": "text"
      },
      "source": [
        ""
      ]
    },
    {
      "cell_type": "code",
      "metadata": {
        "id": "cQIrV_Dai4bU",
        "colab_type": "code",
        "colab": {}
      },
      "source": [
        ""
      ],
      "execution_count": 0,
      "outputs": []
    },
    {
      "cell_type": "code",
      "metadata": {
        "id": "1DHwZDTPVRWA",
        "colab_type": "code",
        "colab": {}
      },
      "source": [
        ""
      ],
      "execution_count": 0,
      "outputs": []
    },
    {
      "cell_type": "code",
      "metadata": {
        "id": "nHuTaXjKXxT-",
        "colab_type": "code",
        "colab": {}
      },
      "source": [
        ""
      ],
      "execution_count": 0,
      "outputs": []
    },
    {
      "cell_type": "code",
      "metadata": {
        "id": "xPfS6Ynzu2Zu",
        "colab_type": "code",
        "colab": {}
      },
      "source": [
        "\n",
        " "
      ],
      "execution_count": 0,
      "outputs": []
    },
    {
      "cell_type": "code",
      "metadata": {
        "id": "84g_IvV7Se18",
        "colab_type": "code",
        "colab": {}
      },
      "source": [
        "\n",
        "dicio.close() "
      ],
      "execution_count": 0,
      "outputs": []
    },
    {
      "cell_type": "code",
      "metadata": {
        "id": "oVXm0J6FJ9_w",
        "colab_type": "code",
        "colab": {}
      },
      "source": [
        "#No python 3\n",
        "with open('dicionario_freq.txt', 'w') as f:\n",
        "    print(dicio_freq, file=f)"
      ],
      "execution_count": 0,
      "outputs": []
    },
    {
      "cell_type": "markdown",
      "metadata": {
        "id": "UNE9TlHLSHDg",
        "colab_type": "text"
      },
      "source": [
        ""
      ]
    }
  ]
}